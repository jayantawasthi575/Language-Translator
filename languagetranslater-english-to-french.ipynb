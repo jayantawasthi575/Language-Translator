{
 "cells": [
  {
   "cell_type": "code",
   "execution_count": 1,
   "metadata": {
    "_cell_guid": "b1076dfc-b9ad-4769-8c92-a6c4dae69d19",
    "_uuid": "8f2839f25d086af736a60e9eeb907d3b93b6e0e5",
    "execution": {
     "iopub.execute_input": "2020-11-01T00:36:58.752446Z",
     "iopub.status.busy": "2020-11-01T00:36:58.751630Z",
     "iopub.status.idle": "2020-11-01T00:37:04.769192Z",
     "shell.execute_reply": "2020-11-01T00:37:04.769799Z"
    },
    "papermill": {
     "duration": 6.059506,
     "end_time": "2020-11-01T00:37:04.769975",
     "exception": false,
     "start_time": "2020-11-01T00:36:58.710469",
     "status": "completed"
    },
    "tags": []
   },
   "outputs": [
    {
     "name": "stdout",
     "output_type": "stream",
     "text": [
      "/kaggle/input/frenchenglish/_about.txt\n",
      "/kaggle/input/frenchenglish/fra.txt\n"
     ]
    }
   ],
   "source": [
    "# This Python 3 environment comes with many helpful analytics libraries installed\n",
    "# It is defined by the kaggle/python Docker image: https://github.com/kaggle/docker-python\n",
    "# For example, here's several helpful packages to load\n",
    "\n",
    "import numpy as np # linear algebra\n",
    "import pandas as pd # data processing, CSV file I/O (e.g. pd.read_csv)\n",
    "import tensorflow as tf\n",
    "from tensorflow import keras\n",
    "# Input data files are available in the read-only \"../input/\" directory\n",
    "# For example, running this (by clicking run or pressing Shift+Enter) will list all files under the input directory\n",
    "\n",
    "import os\n",
    "for dirname, _, filenames in os.walk('/kaggle/input'):\n",
    "    for filename in filenames:\n",
    "        print(os.path.join(dirname, filename))\n",
    "\n",
    "# You can write up to 20GB to the current directory (/kaggle/working/) that gets preserved as output when you create a version using \"Save & Run All\" \n",
    "# You can also write temporary files to /kaggle/temp/, but they won't be saved outside of the current session"
   ]
  },
  {
   "cell_type": "code",
   "execution_count": 2,
   "metadata": {
    "execution": {
     "iopub.execute_input": "2020-11-01T00:37:04.843270Z",
     "iopub.status.busy": "2020-11-01T00:37:04.842578Z",
     "iopub.status.idle": "2020-11-01T00:37:05.070444Z",
     "shell.execute_reply": "2020-11-01T00:37:05.068997Z"
    },
    "papermill": {
     "duration": 0.266808,
     "end_time": "2020-11-01T00:37:05.070579",
     "exception": false,
     "start_time": "2020-11-01T00:37:04.803771",
     "status": "completed"
    },
    "tags": []
   },
   "outputs": [],
   "source": [
    "english_texts=[]\n",
    "french_texts=[]\n",
    "english_character=[]\n",
    "french_character=[]\n",
    "with open(\"/kaggle/input/frenchenglish/fra.txt\", \"r\", encoding=\"utf-8\") as f:\n",
    "    lines = f.read().split(\"\\n\")\n",
    "for line in lines[:30000]:\n",
    "    english_text,french_text,_=line.split(\"\\t\")\n",
    "    english_texts.append(english_text)\n",
    "    french_text = \"\\t\" + french_text + \"\\n\"\n",
    "    french_texts.append(french_text)"
   ]
  },
  {
   "cell_type": "code",
   "execution_count": 3,
   "metadata": {
    "execution": {
     "iopub.execute_input": "2020-11-01T00:37:05.165834Z",
     "iopub.status.busy": "2020-11-01T00:37:05.150486Z",
     "iopub.status.idle": "2020-11-01T00:37:05.829793Z",
     "shell.execute_reply": "2020-11-01T00:37:05.830386Z"
    },
    "papermill": {
     "duration": 0.726051,
     "end_time": "2020-11-01T00:37:05.830574",
     "exception": false,
     "start_time": "2020-11-01T00:37:05.104523",
     "status": "completed"
    },
    "tags": []
   },
   "outputs": [],
   "source": [
    "for i in english_texts:\n",
    "    for c in i:\n",
    "        if c not in english_character:\n",
    "            english_character.append(c)\n",
    "            english_character.sort()"
   ]
  },
  {
   "cell_type": "code",
   "execution_count": 4,
   "metadata": {
    "execution": {
     "iopub.execute_input": "2020-11-01T00:37:05.924844Z",
     "iopub.status.busy": "2020-11-01T00:37:05.914607Z",
     "iopub.status.idle": "2020-11-01T00:37:06.884517Z",
     "shell.execute_reply": "2020-11-01T00:37:06.883882Z"
    },
    "papermill": {
     "duration": 1.021117,
     "end_time": "2020-11-01T00:37:06.884650",
     "exception": false,
     "start_time": "2020-11-01T00:37:05.863533",
     "status": "completed"
    },
    "tags": []
   },
   "outputs": [],
   "source": [
    "for j in french_texts:\n",
    "    for c in j:\n",
    "        if c not in french_character:\n",
    "            french_character.append(c)\n",
    "            french_character.sort()"
   ]
  },
  {
   "cell_type": "code",
   "execution_count": 5,
   "metadata": {
    "execution": {
     "iopub.execute_input": "2020-11-01T00:37:06.957229Z",
     "iopub.status.busy": "2020-11-01T00:37:06.956410Z",
     "iopub.status.idle": "2020-11-01T00:37:06.960062Z",
     "shell.execute_reply": "2020-11-01T00:37:06.959519Z"
    },
    "papermill": {
     "duration": 0.041854,
     "end_time": "2020-11-01T00:37:06.960187",
     "exception": false,
     "start_time": "2020-11-01T00:37:06.918333",
     "status": "completed"
    },
    "tags": []
   },
   "outputs": [],
   "source": [
    "english_d={}\n",
    "for i in range(len(english_character)):\n",
    "    english_d[english_character[i]]=i"
   ]
  },
  {
   "cell_type": "code",
   "execution_count": 6,
   "metadata": {
    "execution": {
     "iopub.execute_input": "2020-11-01T00:37:07.033698Z",
     "iopub.status.busy": "2020-11-01T00:37:07.032877Z",
     "iopub.status.idle": "2020-11-01T00:37:07.037253Z",
     "shell.execute_reply": "2020-11-01T00:37:07.036594Z"
    },
    "papermill": {
     "duration": 0.043537,
     "end_time": "2020-11-01T00:37:07.037360",
     "exception": false,
     "start_time": "2020-11-01T00:37:06.993823",
     "status": "completed"
    },
    "tags": []
   },
   "outputs": [],
   "source": [
    "french_d={}\n",
    "for i in range(len(french_character)):\n",
    "    french_d[french_character[i]]=i"
   ]
  },
  {
   "cell_type": "code",
   "execution_count": 7,
   "metadata": {
    "execution": {
     "iopub.execute_input": "2020-11-01T00:37:07.108367Z",
     "iopub.status.busy": "2020-11-01T00:37:07.107495Z",
     "iopub.status.idle": "2020-11-01T00:37:07.111011Z",
     "shell.execute_reply": "2020-11-01T00:37:07.110524Z"
    },
    "papermill": {
     "duration": 0.041141,
     "end_time": "2020-11-01T00:37:07.111132",
     "exception": false,
     "start_time": "2020-11-01T00:37:07.069991",
     "status": "completed"
    },
    "tags": []
   },
   "outputs": [],
   "source": [
    "english_encoder_tokens = len(english_character)\n",
    "french_decoder_tokens = len(french_character)"
   ]
  },
  {
   "cell_type": "code",
   "execution_count": 8,
   "metadata": {
    "execution": {
     "iopub.execute_input": "2020-11-01T00:37:07.188205Z",
     "iopub.status.busy": "2020-11-01T00:37:07.187303Z",
     "iopub.status.idle": "2020-11-01T00:37:07.190479Z",
     "shell.execute_reply": "2020-11-01T00:37:07.189911Z"
    },
    "papermill": {
     "duration": 0.047242,
     "end_time": "2020-11-01T00:37:07.190583",
     "exception": false,
     "start_time": "2020-11-01T00:37:07.143341",
     "status": "completed"
    },
    "tags": []
   },
   "outputs": [],
   "source": [
    "max_encoder_seq_length=0\n",
    "for i in english_texts:\n",
    "    if len(i)>max_encoder_seq_length:\n",
    "        max_encoder_seq_length=len(i)\n",
    "    "
   ]
  },
  {
   "cell_type": "code",
   "execution_count": 9,
   "metadata": {
    "execution": {
     "iopub.execute_input": "2020-11-01T00:37:07.270159Z",
     "iopub.status.busy": "2020-11-01T00:37:07.269208Z",
     "iopub.status.idle": "2020-11-01T00:37:07.271966Z",
     "shell.execute_reply": "2020-11-01T00:37:07.272493Z"
    },
    "papermill": {
     "duration": 0.048812,
     "end_time": "2020-11-01T00:37:07.272637",
     "exception": false,
     "start_time": "2020-11-01T00:37:07.223825",
     "status": "completed"
    },
    "tags": []
   },
   "outputs": [],
   "source": [
    "max_decoder_seq_length=0\n",
    "for i in french_texts:\n",
    "    if len(i)>max_decoder_seq_length:\n",
    "        max_decoder_seq_length=len(i)"
   ]
  },
  {
   "cell_type": "code",
   "execution_count": 10,
   "metadata": {
    "execution": {
     "iopub.execute_input": "2020-11-01T00:37:07.353046Z",
     "iopub.status.busy": "2020-11-01T00:37:07.351996Z",
     "iopub.status.idle": "2020-11-01T00:37:07.356473Z",
     "shell.execute_reply": "2020-11-01T00:37:07.357711Z"
    },
    "papermill": {
     "duration": 0.051486,
     "end_time": "2020-11-01T00:37:07.357898",
     "exception": false,
     "start_time": "2020-11-01T00:37:07.306412",
     "status": "completed"
    },
    "tags": []
   },
   "outputs": [
    {
     "data": {
      "text/plain": [
       "'Go.'"
      ]
     },
     "execution_count": 10,
     "metadata": {},
     "output_type": "execute_result"
    }
   ],
   "source": [
    "english_texts[0]"
   ]
  },
  {
   "cell_type": "code",
   "execution_count": 11,
   "metadata": {
    "execution": {
     "iopub.execute_input": "2020-11-01T00:37:07.472945Z",
     "iopub.status.busy": "2020-11-01T00:37:07.462742Z",
     "iopub.status.idle": "2020-11-01T00:37:31.278556Z",
     "shell.execute_reply": "2020-11-01T00:37:31.277366Z"
    },
    "papermill": {
     "duration": 23.882949,
     "end_time": "2020-11-01T00:37:31.278706",
     "exception": false,
     "start_time": "2020-11-01T00:37:07.395757",
     "status": "completed"
    },
    "tags": []
   },
   "outputs": [],
   "source": [
    "encoder_input_data=[]\n",
    "for bb in range(30000):\n",
    "    a=[]\n",
    "    b=[]\n",
    "    c=[]\n",
    "    k=len(english_texts[bb])\n",
    "    m=0\n",
    "    while m<k:\n",
    "        for char in english_texts[bb][m]:\n",
    "                           for i in range(len(english_character)):\n",
    "                                            if english_d[char]==i:\n",
    "                                                a.append(1)\n",
    "                                            else:\n",
    "                                                a.append(0)\n",
    "       \n",
    "        for kp in a:\n",
    "            b.append(kp)\n",
    "        c.append(b)\n",
    "        b=[]\n",
    "        a=[]\n",
    "        m=m+1\n",
    "    while m<max_encoder_seq_length:\n",
    "        for i in range(len(english_character)):\n",
    "            if i==0:\n",
    "                a.append(1)\n",
    "            else:\n",
    "                a.append(0)\n",
    "        for kp in a:\n",
    "            b.append(kp)\n",
    "        c.append(b)\n",
    "        b=[]\n",
    "        a=[]\n",
    "        m=m+1\n",
    "    encoder_input_data.append(c)"
   ]
  },
  {
   "cell_type": "code",
   "execution_count": 12,
   "metadata": {
    "execution": {
     "iopub.execute_input": "2020-11-01T00:37:41.413798Z",
     "iopub.status.busy": "2020-11-01T00:37:41.204094Z",
     "iopub.status.idle": "2020-11-01T00:37:41.417440Z",
     "shell.execute_reply": "2020-11-01T00:37:41.416500Z"
    },
    "papermill": {
     "duration": 10.103937,
     "end_time": "2020-11-01T00:37:41.417581",
     "exception": false,
     "start_time": "2020-11-01T00:37:31.313644",
     "status": "completed"
    },
    "tags": []
   },
   "outputs": [],
   "source": [
    "encoder_input_data=np.array(encoder_input_data)"
   ]
  },
  {
   "cell_type": "code",
   "execution_count": 13,
   "metadata": {
    "execution": {
     "iopub.execute_input": "2020-11-01T00:37:41.489870Z",
     "iopub.status.busy": "2020-11-01T00:37:41.488850Z",
     "iopub.status.idle": "2020-11-01T00:37:41.492857Z",
     "shell.execute_reply": "2020-11-01T00:37:41.493508Z"
    },
    "papermill": {
     "duration": 0.042456,
     "end_time": "2020-11-01T00:37:41.493635",
     "exception": false,
     "start_time": "2020-11-01T00:37:41.451179",
     "status": "completed"
    },
    "tags": []
   },
   "outputs": [
    {
     "data": {
      "text/plain": [
       "(30000, 20, 75)"
      ]
     },
     "execution_count": 13,
     "metadata": {},
     "output_type": "execute_result"
    }
   ],
   "source": [
    "encoder_input_data.shape"
   ]
  },
  {
   "cell_type": "code",
   "execution_count": 14,
   "metadata": {
    "execution": {
     "iopub.execute_input": "2020-11-01T00:37:41.630321Z",
     "iopub.status.busy": "2020-11-01T00:37:41.609876Z",
     "iopub.status.idle": "2020-11-01T00:39:04.362350Z",
     "shell.execute_reply": "2020-11-01T00:39:04.361150Z"
    },
    "papermill": {
     "duration": 82.833186,
     "end_time": "2020-11-01T00:39:04.362487",
     "exception": false,
     "start_time": "2020-11-01T00:37:41.529301",
     "status": "completed"
    },
    "tags": []
   },
   "outputs": [],
   "source": [
    "decoder_input_data=[]\n",
    "for bb in range(30000):\n",
    "    a=[]\n",
    "    b=[]\n",
    "    c=[]\n",
    "    k=len(french_texts[bb])\n",
    "    m=0\n",
    "    while m<k:\n",
    "        for char in french_texts[bb][m]:\n",
    "                           for i in range(len(french_character)):\n",
    "                                            if french_d[char]==i:\n",
    "                                                a.append(1)\n",
    "                                            else:\n",
    "                                                a.append(0)\n",
    "       \n",
    "        for kp in a:\n",
    "            b.append(kp)\n",
    "        c.append(b)\n",
    "        b=[]\n",
    "        a=[]\n",
    "        m=m+1\n",
    "    while m<max_decoder_seq_length:\n",
    "        for i in range(len(french_character)):\n",
    "            if i==0:\n",
    "                a.append(1)\n",
    "            else:\n",
    "                a.append(0)\n",
    "        for kp in a:\n",
    "            b.append(kp)\n",
    "        c.append(b)\n",
    "        b=[]\n",
    "        a=[]\n",
    "        m=m+1\n",
    "    decoder_input_data.append(c)"
   ]
  },
  {
   "cell_type": "code",
   "execution_count": 15,
   "metadata": {
    "execution": {
     "iopub.execute_input": "2020-11-01T00:39:43.550687Z",
     "iopub.status.busy": "2020-11-01T00:39:42.821675Z",
     "iopub.status.idle": "2020-11-01T00:39:43.554106Z",
     "shell.execute_reply": "2020-11-01T00:39:43.553489Z"
    },
    "papermill": {
     "duration": 39.157425,
     "end_time": "2020-11-01T00:39:43.554225",
     "exception": false,
     "start_time": "2020-11-01T00:39:04.396800",
     "status": "completed"
    },
    "tags": []
   },
   "outputs": [],
   "source": [
    "decoder_input_data=np.array(decoder_input_data)"
   ]
  },
  {
   "cell_type": "code",
   "execution_count": 16,
   "metadata": {
    "execution": {
     "iopub.execute_input": "2020-11-01T00:39:43.628812Z",
     "iopub.status.busy": "2020-11-01T00:39:43.627990Z",
     "iopub.status.idle": "2020-11-01T00:39:43.632291Z",
     "shell.execute_reply": "2020-11-01T00:39:43.631686Z"
    },
    "papermill": {
     "duration": 0.043311,
     "end_time": "2020-11-01T00:39:43.632393",
     "exception": false,
     "start_time": "2020-11-01T00:39:43.589082",
     "status": "completed"
    },
    "tags": []
   },
   "outputs": [
    {
     "data": {
      "text/plain": [
       "59"
      ]
     },
     "execution_count": 16,
     "metadata": {},
     "output_type": "execute_result"
    }
   ],
   "source": [
    "max_decoder_seq_length"
   ]
  },
  {
   "cell_type": "code",
   "execution_count": 17,
   "metadata": {
    "execution": {
     "iopub.execute_input": "2020-11-01T00:39:43.708053Z",
     "iopub.status.busy": "2020-11-01T00:39:43.707240Z",
     "iopub.status.idle": "2020-11-01T00:39:43.710587Z",
     "shell.execute_reply": "2020-11-01T00:39:43.711103Z"
    },
    "papermill": {
     "duration": 0.043339,
     "end_time": "2020-11-01T00:39:43.711217",
     "exception": false,
     "start_time": "2020-11-01T00:39:43.667878",
     "status": "completed"
    },
    "tags": []
   },
   "outputs": [
    {
     "data": {
      "text/plain": [
       "100"
      ]
     },
     "execution_count": 17,
     "metadata": {},
     "output_type": "execute_result"
    }
   ],
   "source": [
    "len(french_character)"
   ]
  },
  {
   "cell_type": "code",
   "execution_count": 18,
   "metadata": {
    "execution": {
     "iopub.execute_input": "2020-11-01T00:39:43.787369Z",
     "iopub.status.busy": "2020-11-01T00:39:43.786540Z",
     "iopub.status.idle": "2020-11-01T00:39:43.789791Z",
     "shell.execute_reply": "2020-11-01T00:39:43.790398Z"
    },
    "papermill": {
     "duration": 0.043809,
     "end_time": "2020-11-01T00:39:43.790511",
     "exception": false,
     "start_time": "2020-11-01T00:39:43.746702",
     "status": "completed"
    },
    "tags": []
   },
   "outputs": [
    {
     "data": {
      "text/plain": [
       "(30000, 59, 100)"
      ]
     },
     "execution_count": 18,
     "metadata": {},
     "output_type": "execute_result"
    }
   ],
   "source": [
    "decoder_input_data.shape"
   ]
  },
  {
   "cell_type": "code",
   "execution_count": 19,
   "metadata": {
    "execution": {
     "iopub.execute_input": "2020-11-01T00:39:43.894911Z",
     "iopub.status.busy": "2020-11-01T00:39:43.889789Z",
     "iopub.status.idle": "2020-11-01T00:41:03.066584Z",
     "shell.execute_reply": "2020-11-01T00:41:03.065780Z"
    },
    "papermill": {
     "duration": 79.240593,
     "end_time": "2020-11-01T00:41:03.066733",
     "exception": false,
     "start_time": "2020-11-01T00:39:43.826140",
     "status": "completed"
    },
    "tags": []
   },
   "outputs": [],
   "source": [
    "decoder_target_data=[]\n",
    "for bb in range(30000):\n",
    "    a=[]\n",
    "    b=[]\n",
    "    c=[]\n",
    "    k=len(french_texts[bb])\n",
    "    m=1\n",
    "    while m<k:\n",
    "        for char in french_texts[bb][m]:\n",
    "                           for i in range(len(french_character)):\n",
    "                                            if french_d[char]==i:\n",
    "                                                a.append(1)\n",
    "                                            else:\n",
    "                                                a.append(0)\n",
    "       \n",
    "        for kp in a:\n",
    "            b.append(kp)\n",
    "        c.append(b)\n",
    "        b=[]\n",
    "        a=[]\n",
    "        m=m+1\n",
    "    m=m-1\n",
    "    while m<max_decoder_seq_length:\n",
    "        for i in range(len(french_character)):\n",
    "            if i==0:\n",
    "                a.append(1)\n",
    "            else:\n",
    "                a.append(0)\n",
    "        for kp in a:\n",
    "            b.append(kp)\n",
    "        c.append(b)\n",
    "        b=[]\n",
    "        a=[]\n",
    "        m=m+1\n",
    "    decoder_target_data.append(c)"
   ]
  },
  {
   "cell_type": "code",
   "execution_count": 20,
   "metadata": {
    "execution": {
     "iopub.execute_input": "2020-11-01T00:41:43.222923Z",
     "iopub.status.busy": "2020-11-01T00:41:43.184726Z",
     "iopub.status.idle": "2020-11-01T00:41:43.224185Z",
     "shell.execute_reply": "2020-11-01T00:41:43.223593Z"
    },
    "papermill": {
     "duration": 40.119377,
     "end_time": "2020-11-01T00:41:43.224298",
     "exception": false,
     "start_time": "2020-11-01T00:41:03.104921",
     "status": "completed"
    },
    "tags": []
   },
   "outputs": [],
   "source": [
    "decoder_target_data=np.array(decoder_target_data)"
   ]
  },
  {
   "cell_type": "code",
   "execution_count": 21,
   "metadata": {
    "execution": {
     "iopub.execute_input": "2020-11-01T00:41:43.301608Z",
     "iopub.status.busy": "2020-11-01T00:41:43.300774Z",
     "iopub.status.idle": "2020-11-01T00:41:43.306172Z",
     "shell.execute_reply": "2020-11-01T00:41:43.305625Z"
    },
    "papermill": {
     "duration": 0.045584,
     "end_time": "2020-11-01T00:41:43.306270",
     "exception": false,
     "start_time": "2020-11-01T00:41:43.260686",
     "status": "completed"
    },
    "tags": []
   },
   "outputs": [
    {
     "data": {
      "text/plain": [
       "(30000, 59, 100)"
      ]
     },
     "execution_count": 21,
     "metadata": {},
     "output_type": "execute_result"
    }
   ],
   "source": [
    "decoder_target_data.shape"
   ]
  },
  {
   "cell_type": "code",
   "execution_count": 22,
   "metadata": {
    "execution": {
     "iopub.execute_input": "2020-11-01T00:41:43.384768Z",
     "iopub.status.busy": "2020-11-01T00:41:43.383924Z",
     "iopub.status.idle": "2020-11-01T00:41:43.387157Z",
     "shell.execute_reply": "2020-11-01T00:41:43.386652Z"
    },
    "papermill": {
     "duration": 0.04427,
     "end_time": "2020-11-01T00:41:43.387256",
     "exception": false,
     "start_time": "2020-11-01T00:41:43.342986",
     "status": "completed"
    },
    "tags": []
   },
   "outputs": [],
   "source": [
    "batch_size = 64  # Batch size for training.\n",
    "epochs = 100 # Number of epochs to train for.\n",
    "latent_dim = 256 "
   ]
  },
  {
   "cell_type": "code",
   "execution_count": 23,
   "metadata": {
    "execution": {
     "iopub.execute_input": "2020-11-01T00:41:43.466758Z",
     "iopub.status.busy": "2020-11-01T00:41:43.465891Z",
     "iopub.status.idle": "2020-11-01T00:41:43.527787Z",
     "shell.execute_reply": "2020-11-01T00:41:43.527131Z"
    },
    "papermill": {
     "duration": 0.103713,
     "end_time": "2020-11-01T00:41:43.527898",
     "exception": false,
     "start_time": "2020-11-01T00:41:43.424185",
     "status": "completed"
    },
    "tags": []
   },
   "outputs": [],
   "source": [
    "from keras.layers import Dense\n",
    "from keras.layers import LSTM,Input\n",
    "from keras.models import Model"
   ]
  },
  {
   "cell_type": "code",
   "execution_count": 24,
   "metadata": {
    "execution": {
     "iopub.execute_input": "2020-11-01T00:41:43.609457Z",
     "iopub.status.busy": "2020-11-01T00:41:43.608803Z",
     "iopub.status.idle": "2020-11-01T00:41:47.425409Z",
     "shell.execute_reply": "2020-11-01T00:41:47.424807Z"
    },
    "papermill": {
     "duration": 3.860662,
     "end_time": "2020-11-01T00:41:47.425541",
     "exception": false,
     "start_time": "2020-11-01T00:41:43.564879",
     "status": "completed"
    },
    "tags": []
   },
   "outputs": [],
   "source": [
    "encoder_inputs = Input(shape=(None,len(english_character)))\n",
    "encoder = LSTM(latent_dim,dropout=0.2,return_sequences=True,return_state=True)\n",
    "encoder_outputs_1, state_h_1, state_c_1 = encoder(encoder_inputs)\n",
    "encoder = LSTM(latent_dim,dropout=0.2,return_state=True)\n",
    "encoder_outputs, state_h, state_c = encoder(encoder_outputs_1)\n",
    "encoder_states = [state_h_1,state_c_1,state_h, state_c]"
   ]
  },
  {
   "cell_type": "code",
   "execution_count": 25,
   "metadata": {
    "execution": {
     "iopub.execute_input": "2020-11-01T00:41:47.515824Z",
     "iopub.status.busy": "2020-11-01T00:41:47.509149Z",
     "iopub.status.idle": "2020-11-01T00:41:48.265596Z",
     "shell.execute_reply": "2020-11-01T00:41:48.264774Z"
    },
    "papermill": {
     "duration": 0.802864,
     "end_time": "2020-11-01T00:41:48.265768",
     "exception": false,
     "start_time": "2020-11-01T00:41:47.462904",
     "status": "completed"
    },
    "tags": []
   },
   "outputs": [],
   "source": [
    "decoder_inputs = Input(shape=(None, len(french_character)))\n",
    "decoder_lstm = LSTM(latent_dim,return_sequences=True,dropout=0.2,return_state=True)\n",
    "decoder_outputs_1, _, _ = decoder_lstm(decoder_inputs, initial_state=[state_h_1,state_c_1])\n",
    "decoder_lstm_1 = LSTM(latent_dim, return_sequences=True,dropout=0.2,return_state=True)\n",
    "decoder_outputs, _, _ = decoder_lstm_1(decoder_outputs_1, initial_state=[state_h,state_c])\n",
    "decoder_dense = Dense(len(french_character), activation=\"softmax\")\n",
    "decoder_outputs = decoder_dense(decoder_outputs)\n",
    "model=Model([encoder_inputs, decoder_inputs], decoder_outputs)"
   ]
  },
  {
   "cell_type": "code",
   "execution_count": 26,
   "metadata": {
    "execution": {
     "iopub.execute_input": "2020-11-01T00:41:48.393878Z",
     "iopub.status.busy": "2020-11-01T00:41:48.391134Z",
     "iopub.status.idle": "2020-11-01T00:41:48.396872Z",
     "shell.execute_reply": "2020-11-01T00:41:48.394715Z"
    },
    "papermill": {
     "duration": 0.076249,
     "end_time": "2020-11-01T00:41:48.397041",
     "exception": false,
     "start_time": "2020-11-01T00:41:48.320792",
     "status": "completed"
    },
    "tags": []
   },
   "outputs": [
    {
     "name": "stdout",
     "output_type": "stream",
     "text": [
      "Model: \"functional_1\"\n",
      "__________________________________________________________________________________________________\n",
      "Layer (type)                    Output Shape         Param #     Connected to                     \n",
      "==================================================================================================\n",
      "input_1 (InputLayer)            [(None, None, 75)]   0                                            \n",
      "__________________________________________________________________________________________________\n",
      "input_2 (InputLayer)            [(None, None, 100)]  0                                            \n",
      "__________________________________________________________________________________________________\n",
      "lstm (LSTM)                     [(None, None, 256),  339968      input_1[0][0]                    \n",
      "__________________________________________________________________________________________________\n",
      "lstm_2 (LSTM)                   [(None, None, 256),  365568      input_2[0][0]                    \n",
      "                                                                 lstm[0][1]                       \n",
      "                                                                 lstm[0][2]                       \n",
      "__________________________________________________________________________________________________\n",
      "lstm_1 (LSTM)                   [(None, 256), (None, 525312      lstm[0][0]                       \n",
      "__________________________________________________________________________________________________\n",
      "lstm_3 (LSTM)                   [(None, None, 256),  525312      lstm_2[0][0]                     \n",
      "                                                                 lstm_1[0][1]                     \n",
      "                                                                 lstm_1[0][2]                     \n",
      "__________________________________________________________________________________________________\n",
      "dense (Dense)                   (None, None, 100)    25700       lstm_3[0][0]                     \n",
      "==================================================================================================\n",
      "Total params: 1,781,860\n",
      "Trainable params: 1,781,860\n",
      "Non-trainable params: 0\n",
      "__________________________________________________________________________________________________\n"
     ]
    }
   ],
   "source": [
    "model.summary()"
   ]
  },
  {
   "cell_type": "code",
   "execution_count": 27,
   "metadata": {
    "execution": {
     "iopub.execute_input": "2020-11-01T00:41:48.484397Z",
     "iopub.status.busy": "2020-11-01T00:41:48.483646Z",
     "iopub.status.idle": "2020-11-01T00:41:48.489300Z",
     "shell.execute_reply": "2020-11-01T00:41:48.489790Z"
    },
    "papermill": {
     "duration": 0.048215,
     "end_time": "2020-11-01T00:41:48.489904",
     "exception": false,
     "start_time": "2020-11-01T00:41:48.441689",
     "status": "completed"
    },
    "tags": []
   },
   "outputs": [
    {
     "data": {
      "text/plain": [
       "<tensorflow.python.keras.layers.recurrent_v2.LSTM at 0x7f059e1de210>"
      ]
     },
     "execution_count": 27,
     "metadata": {},
     "output_type": "execute_result"
    }
   ],
   "source": [
    "model.layers[2]"
   ]
  },
  {
   "cell_type": "code",
   "execution_count": 28,
   "metadata": {
    "execution": {
     "iopub.execute_input": "2020-11-01T00:41:48.579707Z",
     "iopub.status.busy": "2020-11-01T00:41:48.578740Z",
     "iopub.status.idle": "2020-11-01T00:58:52.992234Z",
     "shell.execute_reply": "2020-11-01T00:58:52.992733Z"
    },
    "papermill": {
     "duration": 1024.465033,
     "end_time": "2020-11-01T00:58:52.992872",
     "exception": false,
     "start_time": "2020-11-01T00:41:48.527839",
     "status": "completed"
    },
    "tags": []
   },
   "outputs": [
    {
     "name": "stdout",
     "output_type": "stream",
     "text": [
      "Epoch 1/100\n",
      "375/375 [==============================] - 12s 33ms/step - loss: 1.0128 - accuracy: 0.7234 - val_loss: 0.8561 - val_accuracy: 0.7549\n",
      "Epoch 2/100\n",
      "375/375 [==============================] - 10s 27ms/step - loss: 0.6964 - accuracy: 0.7970 - val_loss: 0.7248 - val_accuracy: 0.7862\n",
      "Epoch 3/100\n",
      "375/375 [==============================] - 10s 27ms/step - loss: 0.6084 - accuracy: 0.8200 - val_loss: 0.6327 - val_accuracy: 0.8115\n",
      "Epoch 4/100\n",
      "375/375 [==============================] - 10s 26ms/step - loss: 0.5608 - accuracy: 0.8329 - val_loss: 0.5852 - val_accuracy: 0.8231\n",
      "Epoch 5/100\n",
      "375/375 [==============================] - 10s 27ms/step - loss: 0.5248 - accuracy: 0.8428 - val_loss: 0.5460 - val_accuracy: 0.8364\n",
      "Epoch 6/100\n",
      "375/375 [==============================] - 10s 27ms/step - loss: 0.4980 - accuracy: 0.8507 - val_loss: 0.5200 - val_accuracy: 0.8431\n",
      "Epoch 7/100\n",
      "375/375 [==============================] - 10s 26ms/step - loss: 0.4778 - accuracy: 0.8566 - val_loss: 0.5022 - val_accuracy: 0.8501\n",
      "Epoch 8/100\n",
      "375/375 [==============================] - 11s 28ms/step - loss: 0.4593 - accuracy: 0.8617 - val_loss: 0.4839 - val_accuracy: 0.8538\n",
      "Epoch 9/100\n",
      "375/375 [==============================] - 10s 27ms/step - loss: 0.4435 - accuracy: 0.8661 - val_loss: 0.4674 - val_accuracy: 0.8589\n",
      "Epoch 10/100\n",
      "375/375 [==============================] - 10s 27ms/step - loss: 0.4317 - accuracy: 0.8692 - val_loss: 0.4604 - val_accuracy: 0.8612\n",
      "Epoch 11/100\n",
      "375/375 [==============================] - 10s 27ms/step - loss: 0.4198 - accuracy: 0.8728 - val_loss: 0.4481 - val_accuracy: 0.8642\n",
      "Epoch 12/100\n",
      "375/375 [==============================] - 10s 27ms/step - loss: 0.4094 - accuracy: 0.8757 - val_loss: 0.4403 - val_accuracy: 0.8668\n",
      "Epoch 13/100\n",
      "375/375 [==============================] - 10s 26ms/step - loss: 0.4010 - accuracy: 0.8779 - val_loss: 0.4316 - val_accuracy: 0.8696\n",
      "Epoch 14/100\n",
      "375/375 [==============================] - 11s 30ms/step - loss: 0.3918 - accuracy: 0.8806 - val_loss: 0.4271 - val_accuracy: 0.8709\n",
      "Epoch 15/100\n",
      "375/375 [==============================] - 10s 27ms/step - loss: 0.3837 - accuracy: 0.8828 - val_loss: 0.4232 - val_accuracy: 0.8718\n",
      "Epoch 16/100\n",
      "375/375 [==============================] - 10s 26ms/step - loss: 0.3772 - accuracy: 0.8847 - val_loss: 0.4181 - val_accuracy: 0.8741\n",
      "Epoch 17/100\n",
      "375/375 [==============================] - 10s 27ms/step - loss: 0.3701 - accuracy: 0.8866 - val_loss: 0.4120 - val_accuracy: 0.8755\n",
      "Epoch 18/100\n",
      "375/375 [==============================] - 10s 28ms/step - loss: 0.3648 - accuracy: 0.8878 - val_loss: 0.4104 - val_accuracy: 0.8764\n",
      "Epoch 19/100\n",
      "375/375 [==============================] - 10s 26ms/step - loss: 0.3588 - accuracy: 0.8898 - val_loss: 0.4064 - val_accuracy: 0.8774\n",
      "Epoch 20/100\n",
      "375/375 [==============================] - 11s 28ms/step - loss: 0.3528 - accuracy: 0.8913 - val_loss: 0.4032 - val_accuracy: 0.8785\n",
      "Epoch 21/100\n",
      "375/375 [==============================] - 10s 28ms/step - loss: 0.3486 - accuracy: 0.8925 - val_loss: 0.4003 - val_accuracy: 0.8790\n",
      "Epoch 22/100\n",
      "375/375 [==============================] - 10s 27ms/step - loss: 0.3418 - accuracy: 0.8944 - val_loss: 0.3977 - val_accuracy: 0.8803\n",
      "Epoch 23/100\n",
      "375/375 [==============================] - 10s 26ms/step - loss: 0.3379 - accuracy: 0.8956 - val_loss: 0.3974 - val_accuracy: 0.8804\n",
      "Epoch 24/100\n",
      "375/375 [==============================] - 10s 27ms/step - loss: 0.3331 - accuracy: 0.8969 - val_loss: 0.3942 - val_accuracy: 0.8812\n",
      "Epoch 25/100\n",
      "375/375 [==============================] - 10s 26ms/step - loss: 0.3296 - accuracy: 0.8980 - val_loss: 0.3937 - val_accuracy: 0.8812\n",
      "Epoch 26/100\n",
      "375/375 [==============================] - 10s 27ms/step - loss: 0.3258 - accuracy: 0.8990 - val_loss: 0.3899 - val_accuracy: 0.8826\n",
      "Epoch 27/100\n",
      "375/375 [==============================] - 10s 28ms/step - loss: 0.3211 - accuracy: 0.9006 - val_loss: 0.3907 - val_accuracy: 0.8828\n",
      "Epoch 28/100\n",
      "375/375 [==============================] - 10s 27ms/step - loss: 0.3179 - accuracy: 0.9013 - val_loss: 0.3882 - val_accuracy: 0.8831\n",
      "Epoch 29/100\n",
      "375/375 [==============================] - 10s 26ms/step - loss: 0.3138 - accuracy: 0.9026 - val_loss: 0.3885 - val_accuracy: 0.8832\n",
      "Epoch 30/100\n",
      "375/375 [==============================] - 10s 27ms/step - loss: 0.3109 - accuracy: 0.9033 - val_loss: 0.3869 - val_accuracy: 0.8839\n",
      "Epoch 31/100\n",
      "375/375 [==============================] - 10s 27ms/step - loss: 0.3083 - accuracy: 0.9041 - val_loss: 0.3875 - val_accuracy: 0.8841\n",
      "Epoch 32/100\n",
      "375/375 [==============================] - 10s 27ms/step - loss: 0.3042 - accuracy: 0.9052 - val_loss: 0.3856 - val_accuracy: 0.8849\n",
      "Epoch 33/100\n",
      "375/375 [==============================] - 10s 26ms/step - loss: 0.3010 - accuracy: 0.9063 - val_loss: 0.3845 - val_accuracy: 0.8848\n",
      "Epoch 34/100\n",
      "375/375 [==============================] - 10s 27ms/step - loss: 0.2977 - accuracy: 0.9073 - val_loss: 0.3854 - val_accuracy: 0.8849\n",
      "Epoch 35/100\n",
      "375/375 [==============================] - 10s 26ms/step - loss: 0.2958 - accuracy: 0.9074 - val_loss: 0.3852 - val_accuracy: 0.8853\n",
      "Epoch 36/100\n",
      "375/375 [==============================] - 10s 26ms/step - loss: 0.2926 - accuracy: 0.9085 - val_loss: 0.3851 - val_accuracy: 0.8860\n",
      "Epoch 37/100\n",
      "375/375 [==============================] - 10s 27ms/step - loss: 0.2901 - accuracy: 0.9092 - val_loss: 0.3825 - val_accuracy: 0.8864\n",
      "Epoch 38/100\n",
      "375/375 [==============================] - 10s 28ms/step - loss: 0.2871 - accuracy: 0.9102 - val_loss: 0.3831 - val_accuracy: 0.8868\n",
      "Epoch 39/100\n",
      "375/375 [==============================] - 10s 26ms/step - loss: 0.2848 - accuracy: 0.9107 - val_loss: 0.3826 - val_accuracy: 0.8866\n",
      "Epoch 40/100\n",
      "375/375 [==============================] - 10s 27ms/step - loss: 0.2834 - accuracy: 0.9110 - val_loss: 0.3821 - val_accuracy: 0.8866\n",
      "Epoch 41/100\n",
      "375/375 [==============================] - 10s 26ms/step - loss: 0.2805 - accuracy: 0.9118 - val_loss: 0.3820 - val_accuracy: 0.8868\n",
      "Epoch 42/100\n",
      "375/375 [==============================] - 10s 26ms/step - loss: 0.2776 - accuracy: 0.9129 - val_loss: 0.3841 - val_accuracy: 0.8866\n",
      "Epoch 43/100\n",
      "375/375 [==============================] - 10s 27ms/step - loss: 0.2751 - accuracy: 0.9133 - val_loss: 0.3835 - val_accuracy: 0.8873\n",
      "Epoch 44/100\n",
      "375/375 [==============================] - 10s 28ms/step - loss: 0.2745 - accuracy: 0.9139 - val_loss: 0.3806 - val_accuracy: 0.8881\n",
      "Epoch 45/100\n",
      "375/375 [==============================] - 10s 26ms/step - loss: 0.2714 - accuracy: 0.9148 - val_loss: 0.3832 - val_accuracy: 0.8871\n",
      "Epoch 46/100\n",
      "375/375 [==============================] - 10s 27ms/step - loss: 0.2695 - accuracy: 0.9152 - val_loss: 0.3834 - val_accuracy: 0.8879\n",
      "Epoch 47/100\n",
      "375/375 [==============================] - 10s 27ms/step - loss: 0.2666 - accuracy: 0.9158 - val_loss: 0.3816 - val_accuracy: 0.8880\n",
      "Epoch 48/100\n",
      "375/375 [==============================] - 10s 26ms/step - loss: 0.2653 - accuracy: 0.9162 - val_loss: 0.3840 - val_accuracy: 0.8882\n",
      "Epoch 49/100\n",
      "375/375 [==============================] - 10s 28ms/step - loss: 0.2623 - accuracy: 0.9170 - val_loss: 0.3824 - val_accuracy: 0.8877\n",
      "Epoch 50/100\n",
      "375/375 [==============================] - 10s 27ms/step - loss: 0.2601 - accuracy: 0.9181 - val_loss: 0.3826 - val_accuracy: 0.8884\n",
      "Epoch 51/100\n",
      "375/375 [==============================] - 10s 27ms/step - loss: 0.2590 - accuracy: 0.9182 - val_loss: 0.3825 - val_accuracy: 0.8886\n",
      "Epoch 52/100\n",
      "375/375 [==============================] - 10s 26ms/step - loss: 0.2567 - accuracy: 0.9188 - val_loss: 0.3817 - val_accuracy: 0.8888\n",
      "Epoch 53/100\n",
      "375/375 [==============================] - 10s 26ms/step - loss: 0.2562 - accuracy: 0.9191 - val_loss: 0.3822 - val_accuracy: 0.8886\n",
      "Epoch 54/100\n",
      "375/375 [==============================] - 10s 27ms/step - loss: 0.2549 - accuracy: 0.9194 - val_loss: 0.3843 - val_accuracy: 0.8878\n",
      "Epoch 55/100\n",
      "375/375 [==============================] - 10s 27ms/step - loss: 0.2508 - accuracy: 0.9204 - val_loss: 0.3837 - val_accuracy: 0.8883\n",
      "Epoch 56/100\n",
      "375/375 [==============================] - 10s 27ms/step - loss: 0.2490 - accuracy: 0.9208 - val_loss: 0.3836 - val_accuracy: 0.8891\n",
      "Epoch 57/100\n",
      "375/375 [==============================] - 10s 26ms/step - loss: 0.2491 - accuracy: 0.9211 - val_loss: 0.3843 - val_accuracy: 0.8891\n",
      "Epoch 58/100\n",
      "375/375 [==============================] - 10s 27ms/step - loss: 0.2468 - accuracy: 0.9215 - val_loss: 0.3867 - val_accuracy: 0.8889\n",
      "Epoch 59/100\n",
      "375/375 [==============================] - 10s 27ms/step - loss: 0.2456 - accuracy: 0.9220 - val_loss: 0.3843 - val_accuracy: 0.8894\n",
      "Epoch 60/100\n",
      "375/375 [==============================] - 10s 26ms/step - loss: 0.2434 - accuracy: 0.9226 - val_loss: 0.3868 - val_accuracy: 0.8885\n",
      "Epoch 61/100\n",
      "375/375 [==============================] - 10s 28ms/step - loss: 0.2424 - accuracy: 0.9229 - val_loss: 0.3873 - val_accuracy: 0.8891\n",
      "Epoch 62/100\n",
      "375/375 [==============================] - 10s 27ms/step - loss: 0.2413 - accuracy: 0.9233 - val_loss: 0.3861 - val_accuracy: 0.8891\n",
      "Epoch 63/100\n",
      "375/375 [==============================] - 10s 26ms/step - loss: 0.2391 - accuracy: 0.9240 - val_loss: 0.3881 - val_accuracy: 0.8893\n",
      "Epoch 64/100\n",
      "375/375 [==============================] - 10s 26ms/step - loss: 0.2379 - accuracy: 0.9240 - val_loss: 0.3895 - val_accuracy: 0.8886\n",
      "Epoch 65/100\n",
      "375/375 [==============================] - 10s 27ms/step - loss: 0.2355 - accuracy: 0.9250 - val_loss: 0.3889 - val_accuracy: 0.8890\n",
      "Epoch 66/100\n",
      "375/375 [==============================] - 10s 27ms/step - loss: 0.2353 - accuracy: 0.9250 - val_loss: 0.3894 - val_accuracy: 0.8893\n",
      "Epoch 67/100\n",
      "375/375 [==============================] - 10s 27ms/step - loss: 0.2336 - accuracy: 0.9253 - val_loss: 0.3892 - val_accuracy: 0.8892\n",
      "Epoch 68/100\n",
      "375/375 [==============================] - 11s 29ms/step - loss: 0.2322 - accuracy: 0.9256 - val_loss: 0.3898 - val_accuracy: 0.8894\n",
      "Epoch 69/100\n",
      "375/375 [==============================] - 10s 27ms/step - loss: 0.2309 - accuracy: 0.9262 - val_loss: 0.3938 - val_accuracy: 0.8887\n",
      "Epoch 70/100\n",
      "375/375 [==============================] - 10s 27ms/step - loss: 0.2294 - accuracy: 0.9268 - val_loss: 0.3903 - val_accuracy: 0.8896\n",
      "Epoch 71/100\n",
      "375/375 [==============================] - 10s 26ms/step - loss: 0.2287 - accuracy: 0.9268 - val_loss: 0.3900 - val_accuracy: 0.8891\n",
      "Epoch 72/100\n",
      "375/375 [==============================] - 10s 27ms/step - loss: 0.2275 - accuracy: 0.9272 - val_loss: 0.3922 - val_accuracy: 0.8887\n",
      "Epoch 73/100\n",
      "375/375 [==============================] - 10s 27ms/step - loss: 0.2249 - accuracy: 0.9278 - val_loss: 0.3943 - val_accuracy: 0.8888\n",
      "Epoch 74/100\n",
      "375/375 [==============================] - 10s 27ms/step - loss: 0.2230 - accuracy: 0.9286 - val_loss: 0.3950 - val_accuracy: 0.8890\n",
      "Epoch 75/100\n",
      "375/375 [==============================] - 10s 27ms/step - loss: 0.2237 - accuracy: 0.9283 - val_loss: 0.3912 - val_accuracy: 0.8896\n",
      "Epoch 76/100\n",
      "375/375 [==============================] - 10s 27ms/step - loss: 0.2219 - accuracy: 0.9288 - val_loss: 0.3942 - val_accuracy: 0.8890\n",
      "Epoch 77/100\n",
      "375/375 [==============================] - 10s 26ms/step - loss: 0.2213 - accuracy: 0.9291 - val_loss: 0.3927 - val_accuracy: 0.8891\n",
      "Epoch 78/100\n",
      "375/375 [==============================] - 10s 27ms/step - loss: 0.2206 - accuracy: 0.9294 - val_loss: 0.3935 - val_accuracy: 0.8895\n",
      "Epoch 79/100\n",
      "375/375 [==============================] - 10s 28ms/step - loss: 0.2192 - accuracy: 0.9297 - val_loss: 0.3936 - val_accuracy: 0.8892\n",
      "Epoch 80/100\n",
      "375/375 [==============================] - 10s 28ms/step - loss: 0.2169 - accuracy: 0.9302 - val_loss: 0.3961 - val_accuracy: 0.8885\n",
      "Epoch 81/100\n",
      "375/375 [==============================] - 10s 27ms/step - loss: 0.2161 - accuracy: 0.9305 - val_loss: 0.3952 - val_accuracy: 0.8891\n",
      "Epoch 82/100\n",
      "375/375 [==============================] - 10s 27ms/step - loss: 0.2144 - accuracy: 0.9309 - val_loss: 0.3949 - val_accuracy: 0.8899\n",
      "Epoch 83/100\n",
      "375/375 [==============================] - 10s 27ms/step - loss: 0.2136 - accuracy: 0.9312 - val_loss: 0.3999 - val_accuracy: 0.8893\n",
      "Epoch 84/100\n",
      "375/375 [==============================] - 10s 27ms/step - loss: 0.2126 - accuracy: 0.9314 - val_loss: 0.3978 - val_accuracy: 0.8893\n",
      "Epoch 85/100\n",
      "375/375 [==============================] - 10s 27ms/step - loss: 0.2140 - accuracy: 0.9312 - val_loss: 0.3993 - val_accuracy: 0.8894\n",
      "Epoch 86/100\n",
      "375/375 [==============================] - 10s 28ms/step - loss: 0.2109 - accuracy: 0.9322 - val_loss: 0.3980 - val_accuracy: 0.8896\n",
      "Epoch 87/100\n",
      "375/375 [==============================] - 10s 27ms/step - loss: 0.2100 - accuracy: 0.9324 - val_loss: 0.4000 - val_accuracy: 0.8890\n",
      "Epoch 88/100\n",
      "375/375 [==============================] - 10s 26ms/step - loss: 0.2097 - accuracy: 0.9324 - val_loss: 0.4018 - val_accuracy: 0.8891\n",
      "Epoch 89/100\n",
      "375/375 [==============================] - 10s 26ms/step - loss: 0.2071 - accuracy: 0.9332 - val_loss: 0.4016 - val_accuracy: 0.8890\n",
      "Epoch 90/100\n",
      "375/375 [==============================] - 10s 26ms/step - loss: 0.2079 - accuracy: 0.9330 - val_loss: 0.4035 - val_accuracy: 0.8891\n",
      "Epoch 91/100\n",
      "375/375 [==============================] - 10s 28ms/step - loss: 0.2052 - accuracy: 0.9339 - val_loss: 0.4058 - val_accuracy: 0.8887\n",
      "Epoch 92/100\n",
      "375/375 [==============================] - 10s 27ms/step - loss: 0.2063 - accuracy: 0.9335 - val_loss: 0.4018 - val_accuracy: 0.8894\n",
      "Epoch 93/100\n",
      "375/375 [==============================] - 10s 27ms/step - loss: 0.2034 - accuracy: 0.9343 - val_loss: 0.4051 - val_accuracy: 0.8890\n",
      "Epoch 94/100\n",
      "375/375 [==============================] - 10s 27ms/step - loss: 0.2029 - accuracy: 0.9345 - val_loss: 0.4026 - val_accuracy: 0.8893\n",
      "Epoch 95/100\n",
      "375/375 [==============================] - 10s 26ms/step - loss: 0.2019 - accuracy: 0.9347 - val_loss: 0.4037 - val_accuracy: 0.8892\n",
      "Epoch 96/100\n",
      "375/375 [==============================] - 10s 26ms/step - loss: 0.2019 - accuracy: 0.9349 - val_loss: 0.4045 - val_accuracy: 0.8885\n",
      "Epoch 97/100\n",
      "375/375 [==============================] - 11s 28ms/step - loss: 0.2001 - accuracy: 0.9352 - val_loss: 0.4037 - val_accuracy: 0.8891\n",
      "Epoch 98/100\n",
      "375/375 [==============================] - 10s 27ms/step - loss: 0.1993 - accuracy: 0.9356 - val_loss: 0.4058 - val_accuracy: 0.8888\n",
      "Epoch 99/100\n",
      "375/375 [==============================] - 10s 27ms/step - loss: 0.1996 - accuracy: 0.9355 - val_loss: 0.4083 - val_accuracy: 0.8888\n",
      "Epoch 100/100\n",
      "375/375 [==============================] - 10s 28ms/step - loss: 0.1980 - accuracy: 0.9359 - val_loss: 0.4064 - val_accuracy: 0.8893\n"
     ]
    },
    {
     "data": {
      "text/plain": [
       "<tensorflow.python.keras.callbacks.History at 0x7f04d43b3f90>"
      ]
     },
     "execution_count": 28,
     "metadata": {},
     "output_type": "execute_result"
    }
   ],
   "source": [
    "model.compile(\n",
    "    optimizer=\"rmsprop\", loss=\"categorical_crossentropy\", metrics=[\"accuracy\"]\n",
    ")\n",
    "model.fit(\n",
    "    [encoder_input_data, decoder_input_data],\n",
    "    decoder_target_data,\n",
    "    batch_size=batch_size,\n",
    "    epochs=epochs,\n",
    "    validation_split=0.2,\n",
    ")"
   ]
  },
  {
   "cell_type": "code",
   "execution_count": 29,
   "metadata": {
    "execution": {
     "iopub.execute_input": "2020-11-01T00:59:02.783294Z",
     "iopub.status.busy": "2020-11-01T00:59:02.782203Z",
     "iopub.status.idle": "2020-11-01T00:59:02.836647Z",
     "shell.execute_reply": "2020-11-01T00:59:02.836079Z"
    },
    "papermill": {
     "duration": 5.130704,
     "end_time": "2020-11-01T00:59:02.836767",
     "exception": false,
     "start_time": "2020-11-01T00:58:57.706063",
     "status": "completed"
    },
    "tags": []
   },
   "outputs": [],
   "source": [
    "model.save(\"engtofrench.h5\")"
   ]
  },
  {
   "cell_type": "code",
   "execution_count": 30,
   "metadata": {
    "execution": {
     "iopub.execute_input": "2020-11-01T00:59:12.363964Z",
     "iopub.status.busy": "2020-11-01T00:59:12.363058Z",
     "iopub.status.idle": "2020-11-01T00:59:12.366041Z",
     "shell.execute_reply": "2020-11-01T00:59:12.366470Z"
    },
    "papermill": {
     "duration": 4.77471,
     "end_time": "2020-11-01T00:59:12.366598",
     "exception": false,
     "start_time": "2020-11-01T00:59:07.591888",
     "status": "completed"
    },
    "tags": []
   },
   "outputs": [
    {
     "data": {
      "text/plain": [
       "<tensorflow.python.keras.layers.recurrent_v2.LSTM at 0x7f0597e52b10>"
      ]
     },
     "execution_count": 30,
     "metadata": {},
     "output_type": "execute_result"
    }
   ],
   "source": [
    "model.layers[3]"
   ]
  },
  {
   "cell_type": "code",
   "execution_count": 31,
   "metadata": {
    "execution": {
     "iopub.execute_input": "2020-11-01T00:59:23.175165Z",
     "iopub.status.busy": "2020-11-01T00:59:23.174252Z",
     "iopub.status.idle": "2020-11-01T00:59:23.178114Z",
     "shell.execute_reply": "2020-11-01T00:59:23.175932Z"
    },
    "papermill": {
     "duration": 5.564855,
     "end_time": "2020-11-01T00:59:23.178255",
     "exception": false,
     "start_time": "2020-11-01T00:59:17.613400",
     "status": "completed"
    },
    "tags": []
   },
   "outputs": [
    {
     "data": {
      "text/plain": [
       "<tensorflow.python.keras.engine.input_layer.InputLayer at 0x7f0597e52dd0>"
      ]
     },
     "execution_count": 31,
     "metadata": {},
     "output_type": "execute_result"
    }
   ],
   "source": [
    "model.layers[1]"
   ]
  },
  {
   "cell_type": "code",
   "execution_count": 32,
   "metadata": {
    "execution": {
     "iopub.execute_input": "2020-11-01T00:59:33.331937Z",
     "iopub.status.busy": "2020-11-01T00:59:33.331042Z",
     "iopub.status.idle": "2020-11-01T00:59:33.334042Z",
     "shell.execute_reply": "2020-11-01T00:59:33.334589Z"
    },
    "papermill": {
     "duration": 4.9132,
     "end_time": "2020-11-01T00:59:33.334725",
     "exception": false,
     "start_time": "2020-11-01T00:59:28.421525",
     "status": "completed"
    },
    "tags": []
   },
   "outputs": [
    {
     "data": {
      "text/plain": [
       "<tensorflow.python.keras.layers.core.Dense at 0x7f057d335f10>"
      ]
     },
     "execution_count": 32,
     "metadata": {},
     "output_type": "execute_result"
    }
   ],
   "source": [
    "model.layers[6]"
   ]
  },
  {
   "cell_type": "code",
   "execution_count": 33,
   "metadata": {
    "execution": {
     "iopub.execute_input": "2020-11-01T00:59:43.205784Z",
     "iopub.status.busy": "2020-11-01T00:59:43.204826Z",
     "iopub.status.idle": "2020-11-01T00:59:44.296206Z",
     "shell.execute_reply": "2020-11-01T00:59:44.295010Z"
    },
    "papermill": {
     "duration": 5.873214,
     "end_time": "2020-11-01T00:59:44.296332",
     "exception": false,
     "start_time": "2020-11-01T00:59:38.423118",
     "status": "completed"
    },
    "tags": []
   },
   "outputs": [],
   "source": [
    "model = keras.models.load_model(\"engtofrench.h5\")\n",
    "encoder_inputs = model.input[0]  # input_1\n",
    "encoder_outputs_1, state_h_enc_1, state_c_enc_1 = model.layers[2].output \n",
    "encoder_outputs, state_h_enc, state_c_enc = model.layers[4].output \n",
    "encoder_states = [state_h_enc_1, state_c_enc_1,state_h_enc, state_c_enc]\n",
    "encoder_model_1 = keras.Model(encoder_inputs, encoder_states)"
   ]
  },
  {
   "cell_type": "code",
   "execution_count": 34,
   "metadata": {
    "execution": {
     "iopub.execute_input": "2020-11-01T00:59:54.491000Z",
     "iopub.status.busy": "2020-11-01T00:59:54.485583Z",
     "iopub.status.idle": "2020-11-01T00:59:54.962980Z",
     "shell.execute_reply": "2020-11-01T00:59:54.962077Z"
    },
    "papermill": {
     "duration": 5.72467,
     "end_time": "2020-11-01T00:59:54.963141",
     "exception": false,
     "start_time": "2020-11-01T00:59:49.238471",
     "status": "completed"
    },
    "tags": []
   },
   "outputs": [],
   "source": [
    "decoder_inputs = model.input[1]  \n",
    "decoder_state_input_h = keras.Input(shape=(latent_dim,), name=\"input_3\")\n",
    "decoder_state_input_c = keras.Input(shape=(latent_dim,), name=\"input_4\")\n",
    "decoder_state_input_h1 = Input(shape=(latent_dim,),name=\"input_5\")\n",
    "decoder_state_input_c1 = Input(shape=(latent_dim,),name=\"input_6\")\n",
    "decoder_states_inputs = [decoder_state_input_h, decoder_state_input_c,decoder_state_input_h1,decoder_state_input_c1]\n",
    "decoder_lstm = model.layers[3]\n",
    "dec_o, state_h, state_c = decoder_lstm(\n",
    "    decoder_inputs, initial_state=decoder_states_inputs[:2])\n",
    "decoder_lstm_1=model.layers[5]\n",
    "dec_o_1, state_h1, state_c1 = decoder_lstm_1(\n",
    "    dec_o, initial_state=decoder_states_inputs[-2:])\n",
    "decoder_states = [state_h,state_c,state_h1,state_c1]\n",
    "decoder_dense = model.layers[6]\n",
    "decoder_outputs = decoder_dense(dec_o_1)\n",
    "decoder_model = keras.Model(\n",
    "    [decoder_inputs] + decoder_states_inputs, [decoder_outputs] + decoder_states\n",
    ")\n",
    "\n"
   ]
  },
  {
   "cell_type": "code",
   "execution_count": 35,
   "metadata": {
    "execution": {
     "iopub.execute_input": "2020-11-01T01:00:05.075675Z",
     "iopub.status.busy": "2020-11-01T01:00:05.074653Z",
     "iopub.status.idle": "2020-11-01T01:00:05.076967Z",
     "shell.execute_reply": "2020-11-01T01:00:05.077613Z"
    },
    "papermill": {
     "duration": 5.02342,
     "end_time": "2020-11-01T01:00:05.077756",
     "exception": false,
     "start_time": "2020-11-01T01:00:00.054336",
     "status": "completed"
    },
    "tags": []
   },
   "outputs": [],
   "source": [
    "reverse_input_char_index ={}\n",
    "for i in range(len(english_character)):\n",
    "    reverse_input_char_index[i]=english_character[i]\n",
    "reverse_target_char_index ={}\n",
    "for i in range(len(french_character)):\n",
    "    reverse_target_char_index[i]=french_character[i]"
   ]
  },
  {
   "cell_type": "code",
   "execution_count": 36,
   "metadata": {
    "execution": {
     "iopub.execute_input": "2020-11-01T01:00:14.956374Z",
     "iopub.status.busy": "2020-11-01T01:00:14.955590Z",
     "iopub.status.idle": "2020-11-01T01:00:14.958992Z",
     "shell.execute_reply": "2020-11-01T01:00:14.958502Z"
    },
    "papermill": {
     "duration": 4.766948,
     "end_time": "2020-11-01T01:00:14.959115",
     "exception": false,
     "start_time": "2020-11-01T01:00:10.192167",
     "status": "completed"
    },
    "tags": []
   },
   "outputs": [],
   "source": [
    "def decode_sequence(input_seq):\n",
    "    states_value=encoder_model_1.predict(input_seq)\n",
    "    target_seq = np.zeros((1, 1, len(french_character)))\n",
    "    target_seq[0, 0, french_d[\"\\t\"]] = 1.0\n",
    "    flag=0\n",
    "    sent=\"\"\n",
    "    while flag==0:\n",
    "        output_tokens, h, c,h1,c1 = decoder_model.predict([target_seq] + states_value)\n",
    "        sample = np.argmax(output_tokens[0, -1, :])\n",
    "        sampled_char = reverse_target_char_index[sample]\n",
    "        sent+=sampled_char\n",
    "        if sampled_char == \"\\n\" or len(sent) > max_decoder_seq_length:\n",
    "            flag=1\n",
    "        target_seq = np.zeros((1, 1, len(french_character)))\n",
    "        target_seq[0, 0,sample] = 1.0\n",
    "        states_value = [h, c,h1,c1]\n",
    "    return sent"
   ]
  },
  {
   "cell_type": "code",
   "execution_count": 37,
   "metadata": {
    "execution": {
     "iopub.execute_input": "2020-11-01T01:00:25.965980Z",
     "iopub.status.busy": "2020-11-01T01:00:25.965170Z",
     "iopub.status.idle": "2020-11-01T01:00:25.968986Z",
     "shell.execute_reply": "2020-11-01T01:00:25.969482Z"
    },
    "papermill": {
     "duration": 5.554552,
     "end_time": "2020-11-01T01:00:25.969608",
     "exception": false,
     "start_time": "2020-11-01T01:00:20.415056",
     "status": "completed"
    },
    "tags": []
   },
   "outputs": [
    {
     "data": {
      "text/plain": [
       "'Who?'"
      ]
     },
     "execution_count": 37,
     "metadata": {},
     "output_type": "execute_result"
    }
   ],
   "source": [
    "english_texts[5]"
   ]
  },
  {
   "cell_type": "code",
   "execution_count": 38,
   "metadata": {
    "execution": {
     "iopub.execute_input": "2020-11-01T01:00:35.883884Z",
     "iopub.status.busy": "2020-11-01T01:00:35.883208Z",
     "iopub.status.idle": "2020-11-01T01:00:35.886207Z",
     "shell.execute_reply": "2020-11-01T01:00:35.886736Z"
    },
    "papermill": {
     "duration": 4.821056,
     "end_time": "2020-11-01T01:00:35.886867",
     "exception": false,
     "start_time": "2020-11-01T01:00:31.065811",
     "status": "completed"
    },
    "tags": []
   },
   "outputs": [
    {
     "data": {
      "text/plain": [
       "'\\tQui ?\\n'"
      ]
     },
     "execution_count": 38,
     "metadata": {},
     "output_type": "execute_result"
    }
   ],
   "source": [
    "french_texts[5]"
   ]
  },
  {
   "cell_type": "code",
   "execution_count": 39,
   "metadata": {
    "execution": {
     "iopub.execute_input": "2020-11-01T01:00:45.631724Z",
     "iopub.status.busy": "2020-11-01T01:00:45.630884Z",
     "iopub.status.idle": "2020-11-01T01:00:45.633092Z",
     "shell.execute_reply": "2020-11-01T01:00:45.632426Z"
    },
    "papermill": {
     "duration": 5.048837,
     "end_time": "2020-11-01T01:00:45.633223",
     "exception": false,
     "start_time": "2020-11-01T01:00:40.584386",
     "status": "completed"
    },
    "tags": []
   },
   "outputs": [],
   "source": [
    "english='Who?'"
   ]
  },
  {
   "cell_type": "code",
   "execution_count": 40,
   "metadata": {
    "execution": {
     "iopub.execute_input": "2020-11-01T01:00:55.408401Z",
     "iopub.status.busy": "2020-11-01T01:00:55.407436Z",
     "iopub.status.idle": "2020-11-01T01:00:55.410354Z",
     "shell.execute_reply": "2020-11-01T01:00:55.409866Z"
    },
    "papermill": {
     "duration": 5.067626,
     "end_time": "2020-11-01T01:00:55.410463",
     "exception": false,
     "start_time": "2020-11-01T01:00:50.342837",
     "status": "completed"
    },
    "tags": []
   },
   "outputs": [],
   "source": [
    "k=len(english)\n",
    "m=0\n",
    "a=[]\n",
    "b=[]\n",
    "c=[]\n",
    "inpu=[]\n",
    "while m<k:\n",
    "    for char in english[m]:\n",
    "        for i in range(len(english_character)):\n",
    "            if english_d[char]==i:\n",
    "                a.append(1)\n",
    "            else:\n",
    "                a.append(0)\n",
    "    for kp in a:\n",
    "        b.append(kp)\n",
    "    c.append(b)\n",
    "    b=[]\n",
    "    a=[]\n",
    "    m=m+1\n",
    "while m<max_encoder_seq_length:\n",
    "        for i in range(len(english_character)):\n",
    "            if i==0:\n",
    "                a.append(1)\n",
    "            else:\n",
    "                a.append(0)\n",
    "        for kp in a:\n",
    "            b.append(kp)\n",
    "        c.append(b)\n",
    "        b=[]\n",
    "        a=[]\n",
    "        m=m+1\n",
    "inpu.append(c)"
   ]
  },
  {
   "cell_type": "code",
   "execution_count": 41,
   "metadata": {
    "execution": {
     "iopub.execute_input": "2020-11-01T01:01:05.473503Z",
     "iopub.status.busy": "2020-11-01T01:01:05.472650Z",
     "iopub.status.idle": "2020-11-01T01:01:05.475869Z",
     "shell.execute_reply": "2020-11-01T01:01:05.475284Z"
    },
    "papermill": {
     "duration": 4.931914,
     "end_time": "2020-11-01T01:01:05.475968",
     "exception": false,
     "start_time": "2020-11-01T01:01:00.544054",
     "status": "completed"
    },
    "tags": []
   },
   "outputs": [],
   "source": [
    "inpu=np.array(inpu)"
   ]
  },
  {
   "cell_type": "code",
   "execution_count": 42,
   "metadata": {
    "execution": {
     "iopub.execute_input": "2020-11-01T01:01:15.147751Z",
     "iopub.status.busy": "2020-11-01T01:01:15.146799Z",
     "iopub.status.idle": "2020-11-01T01:01:15.150268Z",
     "shell.execute_reply": "2020-11-01T01:01:15.150802Z"
    },
    "papermill": {
     "duration": 4.931509,
     "end_time": "2020-11-01T01:01:15.150927",
     "exception": false,
     "start_time": "2020-11-01T01:01:10.219418",
     "status": "completed"
    },
    "tags": []
   },
   "outputs": [
    {
     "data": {
      "text/plain": [
       "array([[[0, 0, 0, ..., 0, 0, 0],\n",
       "        [0, 0, 0, ..., 0, 0, 0],\n",
       "        [0, 0, 0, ..., 0, 0, 0],\n",
       "        ...,\n",
       "        [1, 0, 0, ..., 0, 0, 0],\n",
       "        [1, 0, 0, ..., 0, 0, 0],\n",
       "        [1, 0, 0, ..., 0, 0, 0]]])"
      ]
     },
     "execution_count": 42,
     "metadata": {},
     "output_type": "execute_result"
    }
   ],
   "source": [
    "inpu"
   ]
  },
  {
   "cell_type": "code",
   "execution_count": 43,
   "metadata": {
    "execution": {
     "iopub.execute_input": "2020-11-01T01:01:25.805207Z",
     "iopub.status.busy": "2020-11-01T01:01:25.804439Z",
     "iopub.status.idle": "2020-11-01T01:01:25.808327Z",
     "shell.execute_reply": "2020-11-01T01:01:25.809060Z"
    },
    "papermill": {
     "duration": 5.382285,
     "end_time": "2020-11-01T01:01:25.809212",
     "exception": false,
     "start_time": "2020-11-01T01:01:20.426927",
     "status": "completed"
    },
    "tags": []
   },
   "outputs": [
    {
     "data": {
      "text/plain": [
       "(1, 20, 75)"
      ]
     },
     "execution_count": 43,
     "metadata": {},
     "output_type": "execute_result"
    }
   ],
   "source": [
    "inpu.shape"
   ]
  },
  {
   "cell_type": "code",
   "execution_count": 44,
   "metadata": {
    "execution": {
     "iopub.execute_input": "2020-11-01T01:01:35.718383Z",
     "iopub.status.busy": "2020-11-01T01:01:35.717397Z",
     "iopub.status.idle": "2020-11-01T01:01:37.419314Z",
     "shell.execute_reply": "2020-11-01T01:01:37.417884Z"
    },
    "papermill": {
     "duration": 6.469221,
     "end_time": "2020-11-01T01:01:37.419440",
     "exception": false,
     "start_time": "2020-11-01T01:01:30.950219",
     "status": "completed"
    },
    "tags": []
   },
   "outputs": [],
   "source": [
    "d=decode_sequence(inpu)"
   ]
  },
  {
   "cell_type": "code",
   "execution_count": 45,
   "metadata": {
    "execution": {
     "iopub.execute_input": "2020-11-01T01:01:46.991012Z",
     "iopub.status.busy": "2020-11-01T01:01:46.990157Z",
     "iopub.status.idle": "2020-11-01T01:01:46.993378Z",
     "shell.execute_reply": "2020-11-01T01:01:46.994188Z"
    },
    "papermill": {
     "duration": 4.884642,
     "end_time": "2020-11-01T01:01:46.994378",
     "exception": false,
     "start_time": "2020-11-01T01:01:42.109736",
     "status": "completed"
    },
    "tags": []
   },
   "outputs": [
    {
     "name": "stdout",
     "output_type": "stream",
     "text": [
      "Qui ?\n",
      "\n"
     ]
    }
   ],
   "source": [
    "print(d)"
   ]
  }
 ],
 "metadata": {
  "kernelspec": {
   "display_name": "Python 3",
   "language": "python",
   "name": "python3"
  },
  "language_info": {
   "codemirror_mode": {
    "name": "ipython",
    "version": 3
   },
   "file_extension": ".py",
   "mimetype": "text/x-python",
   "name": "python",
   "nbconvert_exporter": "python",
   "pygments_lexer": "ipython3",
   "version": "3.7.6"
  },
  "papermill": {
   "duration": 1499.116954,
   "end_time": "2020-11-01T01:01:53.195940",
   "environment_variables": {},
   "exception": null,
   "input_path": "__notebook__.ipynb",
   "output_path": "__notebook__.ipynb",
   "parameters": {},
   "start_time": "2020-11-01T00:36:54.078986",
   "version": "2.1.0"
  }
 },
 "nbformat": 4,
 "nbformat_minor": 4
}
