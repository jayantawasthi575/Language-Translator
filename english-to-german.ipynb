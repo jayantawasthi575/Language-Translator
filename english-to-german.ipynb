{
 "cells": [
  {
   "cell_type": "code",
   "execution_count": 1,
   "metadata": {
    "_cell_guid": "b1076dfc-b9ad-4769-8c92-a6c4dae69d19",
    "_uuid": "8f2839f25d086af736a60e9eeb907d3b93b6e0e5",
    "execution": {
     "iopub.execute_input": "2020-10-31T17:23:27.202568Z",
     "iopub.status.busy": "2020-10-31T17:23:27.201722Z",
     "iopub.status.idle": "2020-10-31T17:23:27.208930Z",
     "shell.execute_reply": "2020-10-31T17:23:27.208334Z"
    },
    "papermill": {
     "duration": 0.044906,
     "end_time": "2020-10-31T17:23:27.209071",
     "exception": false,
     "start_time": "2020-10-31T17:23:27.164165",
     "status": "completed"
    },
    "tags": []
   },
   "outputs": [
    {
     "name": "stdout",
     "output_type": "stream",
     "text": [
      "/kaggle/input/german-to-english-translation/deu.txt\n"
     ]
    }
   ],
   "source": [
    "# This Python 3 environment comes with many helpful analytics libraries installed\n",
    "# It is defined by the kaggle/python Docker image: https://github.com/kaggle/docker-python\n",
    "# For example, here's several helpful packages to load\n",
    "\n",
    "import numpy as np # linear algebra\n",
    "import pandas as pd # data processing, CSV file I/O (e.g. pd.read_csv)\n",
    "\n",
    "# Input data files are available in the read-only \"../input/\" directory\n",
    "# For example, running this (by clicking run or pressing Shift+Enter) will list all files under the input directory\n",
    "\n",
    "import os\n",
    "for dirname, _, filenames in os.walk('/kaggle/input'):\n",
    "    for filename in filenames:\n",
    "        print(os.path.join(dirname, filename))\n",
    "\n",
    "# You can write up to 20GB to the current directory (/kaggle/working/) that gets preserved as output when you create a version using \"Save & Run All\" \n",
    "# You can also write temporary files to /kaggle/temp/, but they won't be saved outside of the current session"
   ]
  },
  {
   "cell_type": "code",
   "execution_count": 2,
   "metadata": {
    "_cell_guid": "79c7e3d0-c299-4dcb-8224-4455121ee9b0",
    "_uuid": "d629ff2d2480ee46fbb7e2d37f6b5fab8052498a",
    "execution": {
     "iopub.execute_input": "2020-10-31T17:23:27.279601Z",
     "iopub.status.busy": "2020-10-31T17:23:27.278600Z",
     "iopub.status.idle": "2020-10-31T17:23:27.486275Z",
     "shell.execute_reply": "2020-10-31T17:23:27.484829Z"
    },
    "papermill": {
     "duration": 0.245272,
     "end_time": "2020-10-31T17:23:27.486414",
     "exception": false,
     "start_time": "2020-10-31T17:23:27.241142",
     "status": "completed"
    },
    "tags": []
   },
   "outputs": [],
   "source": [
    "english_texts=[]\n",
    "german_texts=[]\n",
    "english_character=[]\n",
    "german_character=[]\n",
    "with open(\"/kaggle/input/german-to-english-translation/deu.txt\", \"r\", encoding=\"utf-8\") as f:\n",
    "    lines = f.read().split(\"\\n\")\n",
    "for line in lines[:30000]:\n",
    "    english_text,german_text=line.split(\"\\t\")\n",
    "    english_texts.append(english_text)\n",
    "    german_text = \"\\t\" + german_text + \"\\n\"\n",
    "    german_texts.append(german_text)"
   ]
  },
  {
   "cell_type": "code",
   "execution_count": 3,
   "metadata": {
    "execution": {
     "iopub.execute_input": "2020-10-31T17:23:27.581070Z",
     "iopub.status.busy": "2020-10-31T17:23:27.560409Z",
     "iopub.status.idle": "2020-10-31T17:23:28.281468Z",
     "shell.execute_reply": "2020-10-31T17:23:28.280841Z"
    },
    "papermill": {
     "duration": 0.765145,
     "end_time": "2020-10-31T17:23:28.281589",
     "exception": false,
     "start_time": "2020-10-31T17:23:27.516444",
     "status": "completed"
    },
    "tags": []
   },
   "outputs": [],
   "source": [
    "for i in english_texts:\n",
    "    for c in i:\n",
    "        if c not in english_character:\n",
    "            english_character.append(c)\n",
    "            english_character.sort()"
   ]
  },
  {
   "cell_type": "code",
   "execution_count": 4,
   "metadata": {
    "execution": {
     "iopub.execute_input": "2020-10-31T17:23:28.360994Z",
     "iopub.status.busy": "2020-10-31T17:23:28.355932Z",
     "iopub.status.idle": "2020-10-31T17:23:29.357227Z",
     "shell.execute_reply": "2020-10-31T17:23:29.357775Z"
    },
    "papermill": {
     "duration": 1.045813,
     "end_time": "2020-10-31T17:23:29.357922",
     "exception": false,
     "start_time": "2020-10-31T17:23:28.312109",
     "status": "completed"
    },
    "tags": []
   },
   "outputs": [],
   "source": [
    "for j in german_texts:\n",
    "    for c in j:\n",
    "        if c not in german_character:\n",
    "            german_character.append(c)\n",
    "            german_character.sort()"
   ]
  },
  {
   "cell_type": "code",
   "execution_count": 5,
   "metadata": {
    "execution": {
     "iopub.execute_input": "2020-10-31T17:23:29.425772Z",
     "iopub.status.busy": "2020-10-31T17:23:29.424792Z",
     "iopub.status.idle": "2020-10-31T17:23:29.428172Z",
     "shell.execute_reply": "2020-10-31T17:23:29.427620Z"
    },
    "papermill": {
     "duration": 0.039334,
     "end_time": "2020-10-31T17:23:29.428292",
     "exception": false,
     "start_time": "2020-10-31T17:23:29.388958",
     "status": "completed"
    },
    "tags": []
   },
   "outputs": [],
   "source": [
    "english_d={}\n",
    "for i in range(len(english_character)):\n",
    "    english_d[english_character[i]]=i"
   ]
  },
  {
   "cell_type": "code",
   "execution_count": 6,
   "metadata": {
    "execution": {
     "iopub.execute_input": "2020-10-31T17:23:29.497747Z",
     "iopub.status.busy": "2020-10-31T17:23:29.496746Z",
     "iopub.status.idle": "2020-10-31T17:23:29.499443Z",
     "shell.execute_reply": "2020-10-31T17:23:29.499979Z"
    },
    "papermill": {
     "duration": 0.038876,
     "end_time": "2020-10-31T17:23:29.500135",
     "exception": false,
     "start_time": "2020-10-31T17:23:29.461259",
     "status": "completed"
    },
    "tags": []
   },
   "outputs": [],
   "source": [
    "german_d={}\n",
    "for i in range(len(german_character)):\n",
    "    german_d[german_character[i]]=i"
   ]
  },
  {
   "cell_type": "code",
   "execution_count": 7,
   "metadata": {
    "execution": {
     "iopub.execute_input": "2020-10-31T17:23:29.565997Z",
     "iopub.status.busy": "2020-10-31T17:23:29.564987Z",
     "iopub.status.idle": "2020-10-31T17:23:29.568199Z",
     "shell.execute_reply": "2020-10-31T17:23:29.567597Z"
    },
    "papermill": {
     "duration": 0.037827,
     "end_time": "2020-10-31T17:23:29.568319",
     "exception": false,
     "start_time": "2020-10-31T17:23:29.530492",
     "status": "completed"
    },
    "tags": []
   },
   "outputs": [],
   "source": [
    "english_encoder_tokens = len(english_character)\n",
    "german_decoder_tokens = len(german_character)"
   ]
  },
  {
   "cell_type": "code",
   "execution_count": 8,
   "metadata": {
    "execution": {
     "iopub.execute_input": "2020-10-31T17:23:29.638661Z",
     "iopub.status.busy": "2020-10-31T17:23:29.637662Z",
     "iopub.status.idle": "2020-10-31T17:23:29.644664Z",
     "shell.execute_reply": "2020-10-31T17:23:29.645334Z"
    },
    "papermill": {
     "duration": 0.047063,
     "end_time": "2020-10-31T17:23:29.645472",
     "exception": false,
     "start_time": "2020-10-31T17:23:29.598409",
     "status": "completed"
    },
    "tags": []
   },
   "outputs": [],
   "source": [
    "max_encoder_seq_length=0\n",
    "for i in english_texts:\n",
    "    if len(i)>max_encoder_seq_length:\n",
    "        max_encoder_seq_length=len(i)"
   ]
  },
  {
   "cell_type": "code",
   "execution_count": 9,
   "metadata": {
    "execution": {
     "iopub.execute_input": "2020-10-31T17:23:29.720428Z",
     "iopub.status.busy": "2020-10-31T17:23:29.719487Z",
     "iopub.status.idle": "2020-10-31T17:23:29.722232Z",
     "shell.execute_reply": "2020-10-31T17:23:29.722934Z"
    },
    "papermill": {
     "duration": 0.046689,
     "end_time": "2020-10-31T17:23:29.723094",
     "exception": false,
     "start_time": "2020-10-31T17:23:29.676405",
     "status": "completed"
    },
    "tags": []
   },
   "outputs": [],
   "source": [
    "max_decoder_seq_length=0\n",
    "for i in german_texts:\n",
    "    if len(i)>max_decoder_seq_length:\n",
    "        max_decoder_seq_length=len(i)"
   ]
  },
  {
   "cell_type": "code",
   "execution_count": 10,
   "metadata": {
    "execution": {
     "iopub.execute_input": "2020-10-31T17:23:29.827523Z",
     "iopub.status.busy": "2020-10-31T17:23:29.817382Z",
     "iopub.status.idle": "2020-10-31T17:23:54.708748Z",
     "shell.execute_reply": "2020-10-31T17:23:54.707657Z"
    },
    "papermill": {
     "duration": 24.955042,
     "end_time": "2020-10-31T17:23:54.708882",
     "exception": false,
     "start_time": "2020-10-31T17:23:29.753840",
     "status": "completed"
    },
    "tags": []
   },
   "outputs": [],
   "source": [
    "encoder_input_data=[]\n",
    "for bb in range(30000):\n",
    "    a=[]\n",
    "    b=[]\n",
    "    c=[]\n",
    "    k=len(english_texts[bb])\n",
    "    m=0\n",
    "    while m<k:\n",
    "        for char in english_texts[bb][m]:\n",
    "                           for i in range(len(english_character)):\n",
    "                                            if english_d[char]==i:\n",
    "                                                a.append(1)\n",
    "                                            else:\n",
    "                                                a.append(0)\n",
    "       \n",
    "        for kp in a:\n",
    "            b.append(kp)\n",
    "        c.append(b)\n",
    "        b=[]\n",
    "        a=[]\n",
    "        m=m+1\n",
    "    while m<max_encoder_seq_length:\n",
    "        for i in range(len(english_character)):\n",
    "            if i==0:\n",
    "                a.append(1)\n",
    "            else:\n",
    "                a.append(0)\n",
    "        for kp in a:\n",
    "            b.append(kp)\n",
    "        c.append(b)\n",
    "        b=[]\n",
    "        a=[]\n",
    "        m=m+1\n",
    "    encoder_input_data.append(c)"
   ]
  },
  {
   "cell_type": "code",
   "execution_count": 11,
   "metadata": {
    "execution": {
     "iopub.execute_input": "2020-10-31T17:24:04.756504Z",
     "iopub.status.busy": "2020-10-31T17:24:04.755406Z",
     "iopub.status.idle": "2020-10-31T17:24:04.913327Z",
     "shell.execute_reply": "2020-10-31T17:24:04.914057Z"
    },
    "papermill": {
     "duration": 10.174783,
     "end_time": "2020-10-31T17:24:04.914270",
     "exception": false,
     "start_time": "2020-10-31T17:23:54.739487",
     "status": "completed"
    },
    "tags": []
   },
   "outputs": [],
   "source": [
    "encoder_input_data=np.array(encoder_input_data)"
   ]
  },
  {
   "cell_type": "code",
   "execution_count": 12,
   "metadata": {
    "execution": {
     "iopub.execute_input": "2020-10-31T17:24:05.002414Z",
     "iopub.status.busy": "2020-10-31T17:24:05.001556Z",
     "iopub.status.idle": "2020-10-31T17:24:05.008098Z",
     "shell.execute_reply": "2020-10-31T17:24:05.008735Z"
    },
    "papermill": {
     "duration": 0.055056,
     "end_time": "2020-10-31T17:24:05.008909",
     "exception": false,
     "start_time": "2020-10-31T17:24:04.953853",
     "status": "completed"
    },
    "tags": []
   },
   "outputs": [
    {
     "data": {
      "text/plain": [
       "(30000, 20, 75)"
      ]
     },
     "execution_count": 12,
     "metadata": {},
     "output_type": "execute_result"
    }
   ],
   "source": [
    "encoder_input_data.shape"
   ]
  },
  {
   "cell_type": "code",
   "execution_count": 13,
   "metadata": {
    "execution": {
     "iopub.execute_input": "2020-10-31T17:24:05.102812Z",
     "iopub.status.busy": "2020-10-31T17:24:05.101874Z",
     "iopub.status.idle": "2020-10-31T17:25:45.468768Z",
     "shell.execute_reply": "2020-10-31T17:25:45.470221Z"
    },
    "papermill": {
     "duration": 100.420653,
     "end_time": "2020-10-31T17:25:45.470471",
     "exception": false,
     "start_time": "2020-10-31T17:24:05.049818",
     "status": "completed"
    },
    "tags": []
   },
   "outputs": [],
   "source": [
    "decoder_input_data=[]\n",
    "for bb in range(30000):\n",
    "    a=[]\n",
    "    b=[]\n",
    "    c=[]\n",
    "    k=len(german_texts[bb])\n",
    "    m=0\n",
    "    while m<k:\n",
    "        for char in german_texts[bb][m]:\n",
    "                           for i in range(len(german_character)):\n",
    "                                            if german_d[char]==i:\n",
    "                                                a.append(1)\n",
    "                                            else:\n",
    "                                                a.append(0)\n",
    "       \n",
    "        for kp in a:\n",
    "            b.append(kp)\n",
    "        c.append(b)\n",
    "        b=[]\n",
    "        a=[]\n",
    "        m=m+1\n",
    "    while m<max_decoder_seq_length:\n",
    "        for i in range(len(german_character)):\n",
    "            if i==0:\n",
    "                a.append(1)\n",
    "            else:\n",
    "                a.append(0)\n",
    "        for kp in a:\n",
    "            b.append(kp)\n",
    "        c.append(b)\n",
    "        b=[]\n",
    "        a=[]\n",
    "        m=m+1\n",
    "    decoder_input_data.append(c)"
   ]
  },
  {
   "cell_type": "code",
   "execution_count": 14,
   "metadata": {
    "execution": {
     "iopub.execute_input": "2020-10-31T17:26:33.192974Z",
     "iopub.status.busy": "2020-10-31T17:26:33.158949Z",
     "iopub.status.idle": "2020-10-31T17:26:33.194273Z",
     "shell.execute_reply": "2020-10-31T17:26:33.193687Z"
    },
    "papermill": {
     "duration": 47.671861,
     "end_time": "2020-10-31T17:26:33.194396",
     "exception": false,
     "start_time": "2020-10-31T17:25:45.522535",
     "status": "completed"
    },
    "tags": []
   },
   "outputs": [],
   "source": [
    "decoder_input_data=np.array(decoder_input_data)\n"
   ]
  },
  {
   "cell_type": "code",
   "execution_count": 15,
   "metadata": {
    "execution": {
     "iopub.execute_input": "2020-10-31T17:26:33.264472Z",
     "iopub.status.busy": "2020-10-31T17:26:33.262974Z",
     "iopub.status.idle": "2020-10-31T17:26:33.266926Z",
     "shell.execute_reply": "2020-10-31T17:26:33.267482Z"
    },
    "papermill": {
     "duration": 0.042206,
     "end_time": "2020-10-31T17:26:33.267629",
     "exception": false,
     "start_time": "2020-10-31T17:26:33.225423",
     "status": "completed"
    },
    "tags": []
   },
   "outputs": [
    {
     "data": {
      "text/plain": [
       "74"
      ]
     },
     "execution_count": 15,
     "metadata": {},
     "output_type": "execute_result"
    }
   ],
   "source": [
    "max_decoder_seq_length"
   ]
  },
  {
   "cell_type": "code",
   "execution_count": 16,
   "metadata": {
    "execution": {
     "iopub.execute_input": "2020-10-31T17:26:33.335882Z",
     "iopub.status.busy": "2020-10-31T17:26:33.334824Z",
     "iopub.status.idle": "2020-10-31T17:26:33.340192Z",
     "shell.execute_reply": "2020-10-31T17:26:33.339511Z"
    },
    "papermill": {
     "duration": 0.040944,
     "end_time": "2020-10-31T17:26:33.340301",
     "exception": false,
     "start_time": "2020-10-31T17:26:33.299357",
     "status": "completed"
    },
    "tags": []
   },
   "outputs": [
    {
     "data": {
      "text/plain": [
       "(30000, 74, 95)"
      ]
     },
     "execution_count": 16,
     "metadata": {},
     "output_type": "execute_result"
    }
   ],
   "source": [
    "decoder_input_data.shape"
   ]
  },
  {
   "cell_type": "code",
   "execution_count": 17,
   "metadata": {
    "execution": {
     "iopub.execute_input": "2020-10-31T17:26:33.456634Z",
     "iopub.status.busy": "2020-10-31T17:26:33.441407Z",
     "iopub.status.idle": "2020-10-31T17:28:13.720479Z",
     "shell.execute_reply": "2020-10-31T17:28:13.719397Z"
    },
    "papermill": {
     "duration": 100.348326,
     "end_time": "2020-10-31T17:28:13.720623",
     "exception": false,
     "start_time": "2020-10-31T17:26:33.372297",
     "status": "completed"
    },
    "tags": []
   },
   "outputs": [],
   "source": [
    "decoder_target_data=[]\n",
    "for bb in range(30000):\n",
    "    a=[]\n",
    "    b=[]\n",
    "    c=[]\n",
    "    k=len(german_texts[bb])\n",
    "    m=1\n",
    "    while m<k:\n",
    "        for char in german_texts[bb][m]:\n",
    "                           for i in range(len(german_character)):\n",
    "                                            if german_d[char]==i:\n",
    "                                                a.append(1)\n",
    "                                            else:\n",
    "                                                a.append(0)\n",
    "       \n",
    "        for kp in a:\n",
    "            b.append(kp)\n",
    "        c.append(b)\n",
    "        b=[]\n",
    "        a=[]\n",
    "        m=m+1\n",
    "    m=m-1\n",
    "    while m<max_decoder_seq_length:\n",
    "        for i in range(len(german_character)):\n",
    "            if i==0:\n",
    "                a.append(1)\n",
    "            else:\n",
    "                a.append(0)\n",
    "        for kp in a:\n",
    "            b.append(kp)\n",
    "        c.append(b)\n",
    "        b=[]\n",
    "        a=[]\n",
    "        m=m+1\n",
    "    decoder_target_data.append(c)"
   ]
  },
  {
   "cell_type": "code",
   "execution_count": 18,
   "metadata": {
    "execution": {
     "iopub.execute_input": "2020-10-31T17:29:02.157327Z",
     "iopub.status.busy": "2020-10-31T17:29:02.084199Z",
     "iopub.status.idle": "2020-10-31T17:29:03.053030Z",
     "shell.execute_reply": "2020-10-31T17:29:03.051881Z"
    },
    "papermill": {
     "duration": 49.300011,
     "end_time": "2020-10-31T17:29:03.053199",
     "exception": false,
     "start_time": "2020-10-31T17:28:13.753188",
     "status": "completed"
    },
    "tags": []
   },
   "outputs": [],
   "source": [
    "decoder_target_data=np.array(decoder_target_data)"
   ]
  },
  {
   "cell_type": "code",
   "execution_count": 19,
   "metadata": {
    "execution": {
     "iopub.execute_input": "2020-10-31T17:29:03.125190Z",
     "iopub.status.busy": "2020-10-31T17:29:03.124222Z",
     "iopub.status.idle": "2020-10-31T17:29:03.128388Z",
     "shell.execute_reply": "2020-10-31T17:29:03.128932Z"
    },
    "papermill": {
     "duration": 0.04364,
     "end_time": "2020-10-31T17:29:03.129086",
     "exception": false,
     "start_time": "2020-10-31T17:29:03.085446",
     "status": "completed"
    },
    "tags": []
   },
   "outputs": [
    {
     "data": {
      "text/plain": [
       "(30000, 74, 95)"
      ]
     },
     "execution_count": 19,
     "metadata": {},
     "output_type": "execute_result"
    }
   ],
   "source": [
    "decoder_target_data.shape"
   ]
  },
  {
   "cell_type": "code",
   "execution_count": 20,
   "metadata": {
    "execution": {
     "iopub.execute_input": "2020-10-31T17:29:03.203616Z",
     "iopub.status.busy": "2020-10-31T17:29:03.201604Z",
     "iopub.status.idle": "2020-10-31T17:29:03.204589Z",
     "shell.execute_reply": "2020-10-31T17:29:03.205193Z"
    },
    "papermill": {
     "duration": 0.042507,
     "end_time": "2020-10-31T17:29:03.205337",
     "exception": false,
     "start_time": "2020-10-31T17:29:03.162830",
     "status": "completed"
    },
    "tags": []
   },
   "outputs": [],
   "source": [
    "batch_size = 64  # Batch size for training.\n",
    "epochs = 100 # Number of epochs to train for.\n",
    "latent_dim = 256 "
   ]
  },
  {
   "cell_type": "code",
   "execution_count": 21,
   "metadata": {
    "execution": {
     "iopub.execute_input": "2020-10-31T17:29:03.278947Z",
     "iopub.status.busy": "2020-10-31T17:29:03.278098Z",
     "iopub.status.idle": "2020-10-31T17:29:08.967353Z",
     "shell.execute_reply": "2020-10-31T17:29:08.966357Z"
    },
    "papermill": {
     "duration": 5.727751,
     "end_time": "2020-10-31T17:29:08.967505",
     "exception": false,
     "start_time": "2020-10-31T17:29:03.239754",
     "status": "completed"
    },
    "tags": []
   },
   "outputs": [],
   "source": [
    "from keras.layers import Dense\n",
    "from keras.layers import LSTM,Input\n",
    "from keras.models import Model"
   ]
  },
  {
   "cell_type": "code",
   "execution_count": 22,
   "metadata": {
    "execution": {
     "iopub.execute_input": "2020-10-31T17:29:09.043384Z",
     "iopub.status.busy": "2020-10-31T17:29:09.042412Z",
     "iopub.status.idle": "2020-10-31T17:29:12.895473Z",
     "shell.execute_reply": "2020-10-31T17:29:12.896013Z"
    },
    "papermill": {
     "duration": 3.894838,
     "end_time": "2020-10-31T17:29:12.896217",
     "exception": false,
     "start_time": "2020-10-31T17:29:09.001379",
     "status": "completed"
    },
    "tags": []
   },
   "outputs": [],
   "source": [
    "encoder_inputs = Input(shape=(None,len(english_character)))\n",
    "encoder = LSTM(latent_dim,dropout=0.2,return_sequences=True,return_state=True)\n",
    "encoder_outputs_1, state_h_1, state_c_1 = encoder(encoder_inputs)\n",
    "encoder = LSTM(latent_dim,dropout=0.2,return_state=True)\n",
    "encoder_outputs, state_h, state_c = encoder(encoder_outputs_1)\n",
    "encoder_states = [state_h_1,state_c_1,state_h, state_c]"
   ]
  },
  {
   "cell_type": "code",
   "execution_count": 23,
   "metadata": {
    "execution": {
     "iopub.execute_input": "2020-10-31T17:29:12.978037Z",
     "iopub.status.busy": "2020-10-31T17:29:12.977094Z",
     "iopub.status.idle": "2020-10-31T17:29:13.583202Z",
     "shell.execute_reply": "2020-10-31T17:29:13.582567Z"
    },
    "papermill": {
     "duration": 0.651357,
     "end_time": "2020-10-31T17:29:13.583349",
     "exception": false,
     "start_time": "2020-10-31T17:29:12.931992",
     "status": "completed"
    },
    "tags": []
   },
   "outputs": [],
   "source": [
    "decoder_inputs = Input(shape=(None, len(german_character)))\n",
    "decoder_lstm = LSTM(latent_dim,return_sequences=True,dropout=0.2,return_state=True)\n",
    "decoder_outputs_1, _, _ = decoder_lstm(decoder_inputs, initial_state=[state_h_1,state_c_1])\n",
    "decoder_lstm_1 = LSTM(latent_dim, return_sequences=True,dropout=0.2,return_state=True)\n",
    "decoder_outputs, _, _ = decoder_lstm_1(decoder_outputs_1, initial_state=[state_h,state_c])\n",
    "decoder_dense = Dense(len(german_character), activation=\"softmax\")\n",
    "decoder_outputs = decoder_dense(decoder_outputs)\n",
    "model=Model([encoder_inputs, decoder_inputs], decoder_outputs)"
   ]
  },
  {
   "cell_type": "code",
   "execution_count": 24,
   "metadata": {
    "execution": {
     "iopub.execute_input": "2020-10-31T17:29:13.662009Z",
     "iopub.status.busy": "2020-10-31T17:29:13.660480Z",
     "iopub.status.idle": "2020-10-31T17:29:13.672731Z",
     "shell.execute_reply": "2020-10-31T17:29:13.673314Z"
    },
    "papermill": {
     "duration": 0.055307,
     "end_time": "2020-10-31T17:29:13.673488",
     "exception": false,
     "start_time": "2020-10-31T17:29:13.618181",
     "status": "completed"
    },
    "tags": []
   },
   "outputs": [
    {
     "name": "stdout",
     "output_type": "stream",
     "text": [
      "Model: \"functional_1\"\n",
      "__________________________________________________________________________________________________\n",
      "Layer (type)                    Output Shape         Param #     Connected to                     \n",
      "==================================================================================================\n",
      "input_1 (InputLayer)            [(None, None, 75)]   0                                            \n",
      "__________________________________________________________________________________________________\n",
      "input_2 (InputLayer)            [(None, None, 95)]   0                                            \n",
      "__________________________________________________________________________________________________\n",
      "lstm (LSTM)                     [(None, None, 256),  339968      input_1[0][0]                    \n",
      "__________________________________________________________________________________________________\n",
      "lstm_2 (LSTM)                   [(None, None, 256),  360448      input_2[0][0]                    \n",
      "                                                                 lstm[0][1]                       \n",
      "                                                                 lstm[0][2]                       \n",
      "__________________________________________________________________________________________________\n",
      "lstm_1 (LSTM)                   [(None, 256), (None, 525312      lstm[0][0]                       \n",
      "__________________________________________________________________________________________________\n",
      "lstm_3 (LSTM)                   [(None, None, 256),  525312      lstm_2[0][0]                     \n",
      "                                                                 lstm_1[0][1]                     \n",
      "                                                                 lstm_1[0][2]                     \n",
      "__________________________________________________________________________________________________\n",
      "dense (Dense)                   (None, None, 95)     24415       lstm_3[0][0]                     \n",
      "==================================================================================================\n",
      "Total params: 1,775,455\n",
      "Trainable params: 1,775,455\n",
      "Non-trainable params: 0\n",
      "__________________________________________________________________________________________________\n"
     ]
    }
   ],
   "source": [
    "model.summary()"
   ]
  },
  {
   "cell_type": "code",
   "execution_count": 25,
   "metadata": {
    "execution": {
     "iopub.execute_input": "2020-10-31T17:29:13.759495Z",
     "iopub.status.busy": "2020-10-31T17:29:13.757757Z",
     "iopub.status.idle": "2020-10-31T17:49:48.374609Z",
     "shell.execute_reply": "2020-10-31T17:49:48.375246Z"
    },
    "papermill": {
     "duration": 1234.66788,
     "end_time": "2020-10-31T17:49:48.375414",
     "exception": false,
     "start_time": "2020-10-31T17:29:13.707534",
     "status": "completed"
    },
    "tags": []
   },
   "outputs": [
    {
     "name": "stdout",
     "output_type": "stream",
     "text": [
      "Epoch 1/100\n",
      "375/375 [==============================] - 14s 38ms/step - loss: 0.7944 - accuracy: 0.7854 - val_loss: 0.6605 - val_accuracy: 0.8103\n",
      "Epoch 2/100\n",
      "375/375 [==============================] - 12s 33ms/step - loss: 0.5272 - accuracy: 0.8478 - val_loss: 0.5384 - val_accuracy: 0.8426\n",
      "Epoch 3/100\n",
      "375/375 [==============================] - 12s 32ms/step - loss: 0.4627 - accuracy: 0.8652 - val_loss: 0.4850 - val_accuracy: 0.8572\n",
      "Epoch 4/100\n",
      "375/375 [==============================] - 12s 32ms/step - loss: 0.4276 - accuracy: 0.8750 - val_loss: 0.4505 - val_accuracy: 0.8672\n",
      "Epoch 5/100\n",
      "375/375 [==============================] - 12s 32ms/step - loss: 0.4020 - accuracy: 0.8821 - val_loss: 0.4248 - val_accuracy: 0.8743\n",
      "Epoch 6/100\n",
      "375/375 [==============================] - 13s 34ms/step - loss: 0.3835 - accuracy: 0.8875 - val_loss: 0.4066 - val_accuracy: 0.8796\n",
      "Epoch 7/100\n",
      "375/375 [==============================] - 12s 33ms/step - loss: 0.3679 - accuracy: 0.8918 - val_loss: 0.3907 - val_accuracy: 0.8845\n",
      "Epoch 8/100\n",
      "375/375 [==============================] - 12s 32ms/step - loss: 0.3535 - accuracy: 0.8960 - val_loss: 0.3809 - val_accuracy: 0.8871\n",
      "Epoch 9/100\n",
      "375/375 [==============================] - 12s 32ms/step - loss: 0.3424 - accuracy: 0.8992 - val_loss: 0.3697 - val_accuracy: 0.8908\n",
      "Epoch 10/100\n",
      "375/375 [==============================] - 12s 32ms/step - loss: 0.3322 - accuracy: 0.9022 - val_loss: 0.3607 - val_accuracy: 0.8940\n",
      "Epoch 11/100\n",
      "375/375 [==============================] - 13s 36ms/step - loss: 0.3240 - accuracy: 0.9044 - val_loss: 0.3529 - val_accuracy: 0.8960\n",
      "Epoch 12/100\n",
      "375/375 [==============================] - 12s 32ms/step - loss: 0.3154 - accuracy: 0.9070 - val_loss: 0.3506 - val_accuracy: 0.8969\n",
      "Epoch 13/100\n",
      "375/375 [==============================] - 12s 32ms/step - loss: 0.3085 - accuracy: 0.9091 - val_loss: 0.3409 - val_accuracy: 0.8997\n",
      "Epoch 14/100\n",
      "375/375 [==============================] - 12s 32ms/step - loss: 0.3015 - accuracy: 0.9109 - val_loss: 0.3361 - val_accuracy: 0.9007\n",
      "Epoch 15/100\n",
      "375/375 [==============================] - 12s 32ms/step - loss: 0.2960 - accuracy: 0.9124 - val_loss: 0.3318 - val_accuracy: 0.9022\n",
      "Epoch 16/100\n",
      "375/375 [==============================] - 12s 33ms/step - loss: 0.2910 - accuracy: 0.9138 - val_loss: 0.3280 - val_accuracy: 0.9039\n",
      "Epoch 17/100\n",
      "375/375 [==============================] - 13s 34ms/step - loss: 0.2859 - accuracy: 0.9151 - val_loss: 0.3265 - val_accuracy: 0.9039\n",
      "Epoch 18/100\n",
      "375/375 [==============================] - 12s 32ms/step - loss: 0.2818 - accuracy: 0.9164 - val_loss: 0.3219 - val_accuracy: 0.9056\n",
      "Epoch 19/100\n",
      "375/375 [==============================] - 12s 32ms/step - loss: 0.2756 - accuracy: 0.9182 - val_loss: 0.3209 - val_accuracy: 0.9057\n",
      "Epoch 20/100\n",
      "375/375 [==============================] - 12s 32ms/step - loss: 0.2720 - accuracy: 0.9192 - val_loss: 0.3166 - val_accuracy: 0.9072\n",
      "Epoch 21/100\n",
      "375/375 [==============================] - 12s 33ms/step - loss: 0.2676 - accuracy: 0.9203 - val_loss: 0.3162 - val_accuracy: 0.9074\n",
      "Epoch 22/100\n",
      "375/375 [==============================] - 12s 32ms/step - loss: 0.2639 - accuracy: 0.9214 - val_loss: 0.3144 - val_accuracy: 0.9075\n",
      "Epoch 23/100\n",
      "375/375 [==============================] - 12s 32ms/step - loss: 0.2613 - accuracy: 0.9220 - val_loss: 0.3136 - val_accuracy: 0.9085\n",
      "Epoch 24/100\n",
      "375/375 [==============================] - 12s 32ms/step - loss: 0.2564 - accuracy: 0.9235 - val_loss: 0.3102 - val_accuracy: 0.9093\n",
      "Epoch 25/100\n",
      "375/375 [==============================] - 12s 33ms/step - loss: 0.2540 - accuracy: 0.9243 - val_loss: 0.3095 - val_accuracy: 0.9098\n",
      "Epoch 26/100\n",
      "375/375 [==============================] - 13s 33ms/step - loss: 0.2509 - accuracy: 0.9249 - val_loss: 0.3073 - val_accuracy: 0.9105\n",
      "Epoch 27/100\n",
      "375/375 [==============================] - 12s 33ms/step - loss: 0.2474 - accuracy: 0.9261 - val_loss: 0.3072 - val_accuracy: 0.9109\n",
      "Epoch 28/100\n",
      "375/375 [==============================] - 12s 32ms/step - loss: 0.2448 - accuracy: 0.9268 - val_loss: 0.3048 - val_accuracy: 0.9116\n",
      "Epoch 29/100\n",
      "375/375 [==============================] - 12s 32ms/step - loss: 0.2412 - accuracy: 0.9278 - val_loss: 0.3043 - val_accuracy: 0.9120\n",
      "Epoch 30/100\n",
      "375/375 [==============================] - 12s 32ms/step - loss: 0.2390 - accuracy: 0.9284 - val_loss: 0.3034 - val_accuracy: 0.9121\n",
      "Epoch 31/100\n",
      "375/375 [==============================] - 13s 34ms/step - loss: 0.2359 - accuracy: 0.9293 - val_loss: 0.3044 - val_accuracy: 0.9123\n",
      "Epoch 32/100\n",
      "375/375 [==============================] - 12s 33ms/step - loss: 0.2339 - accuracy: 0.9296 - val_loss: 0.3032 - val_accuracy: 0.9128\n",
      "Epoch 33/100\n",
      "375/375 [==============================] - 12s 32ms/step - loss: 0.2313 - accuracy: 0.9305 - val_loss: 0.3021 - val_accuracy: 0.9130\n",
      "Epoch 34/100\n",
      "375/375 [==============================] - 12s 32ms/step - loss: 0.2279 - accuracy: 0.9315 - val_loss: 0.3045 - val_accuracy: 0.9130\n",
      "Epoch 35/100\n",
      "375/375 [==============================] - 12s 32ms/step - loss: 0.2262 - accuracy: 0.9319 - val_loss: 0.3008 - val_accuracy: 0.9139\n",
      "Epoch 36/100\n",
      "375/375 [==============================] - 12s 33ms/step - loss: 0.2249 - accuracy: 0.9323 - val_loss: 0.2997 - val_accuracy: 0.9140\n",
      "Epoch 37/100\n",
      "375/375 [==============================] - 12s 32ms/step - loss: 0.2219 - accuracy: 0.9333 - val_loss: 0.3006 - val_accuracy: 0.9138\n",
      "Epoch 38/100\n",
      "375/375 [==============================] - 12s 33ms/step - loss: 0.2204 - accuracy: 0.9338 - val_loss: 0.2995 - val_accuracy: 0.9145\n",
      "Epoch 39/100\n",
      "375/375 [==============================] - 12s 32ms/step - loss: 0.2169 - accuracy: 0.9346 - val_loss: 0.3010 - val_accuracy: 0.9140\n",
      "Epoch 40/100\n",
      "375/375 [==============================] - 12s 33ms/step - loss: 0.2162 - accuracy: 0.9349 - val_loss: 0.3011 - val_accuracy: 0.9142\n",
      "Epoch 41/100\n",
      "375/375 [==============================] - 12s 32ms/step - loss: 0.2138 - accuracy: 0.9354 - val_loss: 0.2991 - val_accuracy: 0.9149\n",
      "Epoch 42/100\n",
      "375/375 [==============================] - 12s 32ms/step - loss: 0.2117 - accuracy: 0.9361 - val_loss: 0.3003 - val_accuracy: 0.9149\n",
      "Epoch 43/100\n",
      "375/375 [==============================] - 12s 33ms/step - loss: 0.2108 - accuracy: 0.9363 - val_loss: 0.3005 - val_accuracy: 0.9149\n",
      "Epoch 44/100\n",
      "375/375 [==============================] - 12s 32ms/step - loss: 0.2085 - accuracy: 0.9369 - val_loss: 0.3007 - val_accuracy: 0.9152\n",
      "Epoch 45/100\n",
      "375/375 [==============================] - 12s 32ms/step - loss: 0.2073 - accuracy: 0.9373 - val_loss: 0.2999 - val_accuracy: 0.9158\n",
      "Epoch 46/100\n",
      "375/375 [==============================] - 13s 34ms/step - loss: 0.2046 - accuracy: 0.9380 - val_loss: 0.2994 - val_accuracy: 0.9154\n",
      "Epoch 47/100\n",
      "375/375 [==============================] - 12s 32ms/step - loss: 0.2031 - accuracy: 0.9384 - val_loss: 0.3001 - val_accuracy: 0.9158\n",
      "Epoch 48/100\n",
      "375/375 [==============================] - 12s 32ms/step - loss: 0.2018 - accuracy: 0.9388 - val_loss: 0.2995 - val_accuracy: 0.9157\n",
      "Epoch 49/100\n",
      "375/375 [==============================] - 12s 32ms/step - loss: 0.2004 - accuracy: 0.9391 - val_loss: 0.2998 - val_accuracy: 0.9157\n",
      "Epoch 50/100\n",
      "375/375 [==============================] - 12s 32ms/step - loss: 0.1990 - accuracy: 0.9396 - val_loss: 0.2972 - val_accuracy: 0.9165\n",
      "Epoch 51/100\n",
      "375/375 [==============================] - 13s 34ms/step - loss: 0.1970 - accuracy: 0.9402 - val_loss: 0.2991 - val_accuracy: 0.9163\n",
      "Epoch 52/100\n",
      "375/375 [==============================] - 12s 32ms/step - loss: 0.1962 - accuracy: 0.9403 - val_loss: 0.3000 - val_accuracy: 0.9161\n",
      "Epoch 53/100\n",
      "375/375 [==============================] - 12s 32ms/step - loss: 0.1942 - accuracy: 0.9408 - val_loss: 0.2988 - val_accuracy: 0.9166\n",
      "Epoch 54/100\n",
      "375/375 [==============================] - 12s 32ms/step - loss: 0.1940 - accuracy: 0.9411 - val_loss: 0.3019 - val_accuracy: 0.9156\n",
      "Epoch 55/100\n",
      "375/375 [==============================] - 12s 33ms/step - loss: 0.1920 - accuracy: 0.9417 - val_loss: 0.3003 - val_accuracy: 0.9165\n",
      "Epoch 56/100\n",
      "375/375 [==============================] - 12s 33ms/step - loss: 0.1895 - accuracy: 0.9423 - val_loss: 0.3008 - val_accuracy: 0.9164\n",
      "Epoch 57/100\n",
      "375/375 [==============================] - 12s 31ms/step - loss: 0.1885 - accuracy: 0.9427 - val_loss: 0.3023 - val_accuracy: 0.9163\n",
      "Epoch 58/100\n",
      "375/375 [==============================] - 12s 32ms/step - loss: 0.1878 - accuracy: 0.9428 - val_loss: 0.3002 - val_accuracy: 0.9165\n",
      "Epoch 59/100\n",
      "375/375 [==============================] - 12s 32ms/step - loss: 0.1856 - accuracy: 0.9434 - val_loss: 0.3013 - val_accuracy: 0.9165\n",
      "Epoch 60/100\n",
      "375/375 [==============================] - 12s 32ms/step - loss: 0.1839 - accuracy: 0.9438 - val_loss: 0.3011 - val_accuracy: 0.9171\n",
      "Epoch 61/100\n",
      "375/375 [==============================] - 12s 33ms/step - loss: 0.1840 - accuracy: 0.9438 - val_loss: 0.3006 - val_accuracy: 0.9169\n",
      "Epoch 62/100\n",
      "375/375 [==============================] - 12s 32ms/step - loss: 0.1822 - accuracy: 0.9444 - val_loss: 0.3028 - val_accuracy: 0.9168\n",
      "Epoch 63/100\n",
      "375/375 [==============================] - 12s 33ms/step - loss: 0.1810 - accuracy: 0.9447 - val_loss: 0.3046 - val_accuracy: 0.9166\n",
      "Epoch 64/100\n",
      "375/375 [==============================] - 12s 33ms/step - loss: 0.1801 - accuracy: 0.9449 - val_loss: 0.3028 - val_accuracy: 0.9168\n",
      "Epoch 65/100\n",
      "375/375 [==============================] - 12s 33ms/step - loss: 0.1779 - accuracy: 0.9455 - val_loss: 0.3039 - val_accuracy: 0.9170\n",
      "Epoch 66/100\n",
      "375/375 [==============================] - 12s 32ms/step - loss: 0.1777 - accuracy: 0.9456 - val_loss: 0.3030 - val_accuracy: 0.9170\n",
      "Epoch 67/100\n",
      "375/375 [==============================] - 12s 32ms/step - loss: 0.1766 - accuracy: 0.9460 - val_loss: 0.3042 - val_accuracy: 0.9166\n",
      "Epoch 68/100\n",
      "375/375 [==============================] - 12s 32ms/step - loss: 0.1756 - accuracy: 0.9462 - val_loss: 0.3042 - val_accuracy: 0.9170\n",
      "Epoch 69/100\n",
      "375/375 [==============================] - 12s 33ms/step - loss: 0.1738 - accuracy: 0.9467 - val_loss: 0.3033 - val_accuracy: 0.9173\n",
      "Epoch 70/100\n",
      "375/375 [==============================] - 12s 33ms/step - loss: 0.1730 - accuracy: 0.9469 - val_loss: 0.3051 - val_accuracy: 0.9172\n",
      "Epoch 71/100\n",
      "375/375 [==============================] - 12s 32ms/step - loss: 0.1728 - accuracy: 0.9471 - val_loss: 0.3044 - val_accuracy: 0.9174\n",
      "Epoch 72/100\n",
      "375/375 [==============================] - 12s 32ms/step - loss: 0.1700 - accuracy: 0.9478 - val_loss: 0.3061 - val_accuracy: 0.9168\n",
      "Epoch 73/100\n",
      "375/375 [==============================] - 12s 31ms/step - loss: 0.1695 - accuracy: 0.9479 - val_loss: 0.3075 - val_accuracy: 0.9167\n",
      "Epoch 74/100\n",
      "375/375 [==============================] - 12s 32ms/step - loss: 0.1693 - accuracy: 0.9480 - val_loss: 0.3080 - val_accuracy: 0.9171\n",
      "Epoch 75/100\n",
      "375/375 [==============================] - 13s 36ms/step - loss: 0.1680 - accuracy: 0.9481 - val_loss: 0.3066 - val_accuracy: 0.9172\n",
      "Epoch 76/100\n",
      "375/375 [==============================] - 12s 32ms/step - loss: 0.1669 - accuracy: 0.9487 - val_loss: 0.3090 - val_accuracy: 0.9166\n",
      "Epoch 77/100\n",
      "375/375 [==============================] - 12s 32ms/step - loss: 0.1667 - accuracy: 0.9488 - val_loss: 0.3055 - val_accuracy: 0.9176\n",
      "Epoch 78/100\n",
      "375/375 [==============================] - 12s 32ms/step - loss: 0.1655 - accuracy: 0.9490 - val_loss: 0.3079 - val_accuracy: 0.9171\n",
      "Epoch 79/100\n",
      "375/375 [==============================] - 12s 31ms/step - loss: 0.1648 - accuracy: 0.9493 - val_loss: 0.3085 - val_accuracy: 0.9173\n",
      "Epoch 80/100\n",
      "375/375 [==============================] - 13s 34ms/step - loss: 0.1636 - accuracy: 0.9496 - val_loss: 0.3095 - val_accuracy: 0.9172\n",
      "Epoch 81/100\n",
      "375/375 [==============================] - 13s 34ms/step - loss: 0.1628 - accuracy: 0.9498 - val_loss: 0.3089 - val_accuracy: 0.9174\n",
      "Epoch 82/100\n",
      "375/375 [==============================] - 12s 32ms/step - loss: 0.1624 - accuracy: 0.9499 - val_loss: 0.3090 - val_accuracy: 0.9174\n",
      "Epoch 83/100\n",
      "375/375 [==============================] - 12s 32ms/step - loss: 0.1606 - accuracy: 0.9504 - val_loss: 0.3112 - val_accuracy: 0.9173\n",
      "Epoch 84/100\n",
      "375/375 [==============================] - 12s 31ms/step - loss: 0.1598 - accuracy: 0.9506 - val_loss: 0.3086 - val_accuracy: 0.9171\n",
      "Epoch 85/100\n",
      "375/375 [==============================] - 13s 33ms/step - loss: 0.1602 - accuracy: 0.9506 - val_loss: 0.3109 - val_accuracy: 0.9173\n",
      "Epoch 86/100\n",
      "375/375 [==============================] - 12s 32ms/step - loss: 0.1586 - accuracy: 0.9510 - val_loss: 0.3115 - val_accuracy: 0.9172\n",
      "Epoch 87/100\n",
      "375/375 [==============================] - 12s 33ms/step - loss: 0.1583 - accuracy: 0.9511 - val_loss: 0.3122 - val_accuracy: 0.9172\n",
      "Epoch 88/100\n",
      "375/375 [==============================] - 12s 33ms/step - loss: 0.1569 - accuracy: 0.9515 - val_loss: 0.3118 - val_accuracy: 0.9173\n",
      "Epoch 89/100\n",
      "375/375 [==============================] - 12s 33ms/step - loss: 0.1553 - accuracy: 0.9519 - val_loss: 0.3101 - val_accuracy: 0.9174\n",
      "Epoch 90/100\n",
      "375/375 [==============================] - 13s 34ms/step - loss: 0.1543 - accuracy: 0.9524 - val_loss: 0.3135 - val_accuracy: 0.9170\n",
      "Epoch 91/100\n",
      "375/375 [==============================] - 12s 32ms/step - loss: 0.1541 - accuracy: 0.9521 - val_loss: 0.3147 - val_accuracy: 0.9173\n",
      "Epoch 92/100\n",
      "375/375 [==============================] - 12s 32ms/step - loss: 0.1538 - accuracy: 0.9525 - val_loss: 0.3123 - val_accuracy: 0.9168\n",
      "Epoch 93/100\n",
      "375/375 [==============================] - 13s 34ms/step - loss: 0.1531 - accuracy: 0.9526 - val_loss: 0.3130 - val_accuracy: 0.9174\n",
      "Epoch 94/100\n",
      "375/375 [==============================] - 12s 32ms/step - loss: 0.1527 - accuracy: 0.9527 - val_loss: 0.3138 - val_accuracy: 0.9171\n",
      "Epoch 95/100\n",
      "375/375 [==============================] - 12s 33ms/step - loss: 0.1526 - accuracy: 0.9527 - val_loss: 0.3119 - val_accuracy: 0.9178\n",
      "Epoch 96/100\n",
      "375/375 [==============================] - 12s 32ms/step - loss: 0.1500 - accuracy: 0.9535 - val_loss: 0.3153 - val_accuracy: 0.9174\n",
      "Epoch 97/100\n",
      "375/375 [==============================] - 12s 32ms/step - loss: 0.1501 - accuracy: 0.9536 - val_loss: 0.3158 - val_accuracy: 0.9170\n",
      "Epoch 98/100\n",
      "375/375 [==============================] - 13s 34ms/step - loss: 0.1489 - accuracy: 0.9538 - val_loss: 0.3155 - val_accuracy: 0.9174\n",
      "Epoch 99/100\n",
      "375/375 [==============================] - 13s 34ms/step - loss: 0.1487 - accuracy: 0.9540 - val_loss: 0.3159 - val_accuracy: 0.9172\n",
      "Epoch 100/100\n",
      "375/375 [==============================] - 12s 32ms/step - loss: 0.1490 - accuracy: 0.9539 - val_loss: 0.3159 - val_accuracy: 0.9171\n"
     ]
    },
    {
     "data": {
      "text/plain": [
       "<tensorflow.python.keras.callbacks.History at 0x7fcc2817da10>"
      ]
     },
     "execution_count": 25,
     "metadata": {},
     "output_type": "execute_result"
    }
   ],
   "source": [
    "model.compile(\n",
    "    optimizer=\"rmsprop\", loss=\"categorical_crossentropy\", metrics=[\"accuracy\"]\n",
    ")\n",
    "model.fit(\n",
    "    [encoder_input_data, decoder_input_data],\n",
    "    decoder_target_data,\n",
    "    batch_size=batch_size,\n",
    "    epochs=epochs,\n",
    "    validation_split=0.2,\n",
    ")"
   ]
  },
  {
   "cell_type": "code",
   "execution_count": 26,
   "metadata": {
    "execution": {
     "iopub.execute_input": "2020-10-31T17:50:03.918415Z",
     "iopub.status.busy": "2020-10-31T17:50:03.916060Z",
     "iopub.status.idle": "2020-10-31T17:50:03.919241Z",
     "shell.execute_reply": "2020-10-31T17:50:03.919789Z"
    },
    "papermill": {
     "duration": 7.434027,
     "end_time": "2020-10-31T17:50:03.919933",
     "exception": false,
     "start_time": "2020-10-31T17:49:56.485906",
     "status": "completed"
    },
    "tags": []
   },
   "outputs": [],
   "source": [
    "import keras"
   ]
  },
  {
   "cell_type": "code",
   "execution_count": 27,
   "metadata": {
    "execution": {
     "iopub.execute_input": "2020-10-31T17:50:19.316104Z",
     "iopub.status.busy": "2020-10-31T17:50:19.315036Z",
     "iopub.status.idle": "2020-10-31T17:50:19.372451Z",
     "shell.execute_reply": "2020-10-31T17:50:19.371850Z"
    },
    "papermill": {
     "duration": 7.77618,
     "end_time": "2020-10-31T17:50:19.372578",
     "exception": false,
     "start_time": "2020-10-31T17:50:11.596398",
     "status": "completed"
    },
    "tags": []
   },
   "outputs": [],
   "source": [
    "model.save(\"engtogerman.h5\")"
   ]
  },
  {
   "cell_type": "code",
   "execution_count": 28,
   "metadata": {
    "execution": {
     "iopub.execute_input": "2020-10-31T17:50:35.025393Z",
     "iopub.status.busy": "2020-10-31T17:50:35.024245Z",
     "iopub.status.idle": "2020-10-31T17:50:36.550634Z",
     "shell.execute_reply": "2020-10-31T17:50:36.549604Z"
    },
    "papermill": {
     "duration": 9.387445,
     "end_time": "2020-10-31T17:50:36.550760",
     "exception": false,
     "start_time": "2020-10-31T17:50:27.163315",
     "status": "completed"
    },
    "tags": []
   },
   "outputs": [],
   "source": [
    "model = keras.models.load_model(\"engtogerman.h5\")\n",
    "encoder_inputs = model.input[0]  # input_1\n",
    "encoder_outputs_1, state_h_enc_1, state_c_enc_1 = model.layers[2].output \n",
    "encoder_outputs, state_h_enc, state_c_enc = model.layers[4].output \n",
    "encoder_states = [state_h_enc_1, state_c_enc_1,state_h_enc, state_c_enc]\n",
    "encoder_model_1 = keras.Model(encoder_inputs, encoder_states)"
   ]
  },
  {
   "cell_type": "code",
   "execution_count": 29,
   "metadata": {
    "execution": {
     "iopub.execute_input": "2020-10-31T17:50:52.661655Z",
     "iopub.status.busy": "2020-10-31T17:50:52.657799Z",
     "iopub.status.idle": "2020-10-31T17:50:53.189339Z",
     "shell.execute_reply": "2020-10-31T17:50:53.187961Z"
    },
    "papermill": {
     "duration": 8.321541,
     "end_time": "2020-10-31T17:50:53.189477",
     "exception": false,
     "start_time": "2020-10-31T17:50:44.867936",
     "status": "completed"
    },
    "tags": []
   },
   "outputs": [],
   "source": [
    "decoder_inputs = model.input[1]  \n",
    "decoder_state_input_h = keras.Input(shape=(latent_dim,),)\n",
    "decoder_state_input_c = keras.Input(shape=(latent_dim,),)\n",
    "decoder_state_input_h1 = Input(shape=(latent_dim,),)\n",
    "decoder_state_input_c1 = Input(shape=(latent_dim,),)\n",
    "decoder_states_inputs = [decoder_state_input_h, decoder_state_input_c,decoder_state_input_h1,decoder_state_input_c1]\n",
    "decoder_lstm = model.layers[3]\n",
    "dec_o, state_h, state_c = decoder_lstm(\n",
    "    decoder_inputs, initial_state=decoder_states_inputs[:2])\n",
    "decoder_lstm_1=model.layers[5]\n",
    "dec_o_1, state_h1, state_c1 = decoder_lstm_1(\n",
    "    dec_o, initial_state=decoder_states_inputs[-2:])\n",
    "decoder_states = [state_h,state_c,state_h1,state_c1]\n",
    "decoder_dense = model.layers[6]\n",
    "decoder_outputs = decoder_dense(dec_o_1)\n",
    "decoder_model = keras.Model(\n",
    "    [decoder_inputs] + decoder_states_inputs, [decoder_outputs] + decoder_states\n",
    ")\n"
   ]
  },
  {
   "cell_type": "code",
   "execution_count": 30,
   "metadata": {
    "execution": {
     "iopub.execute_input": "2020-10-31T17:51:08.695750Z",
     "iopub.status.busy": "2020-10-31T17:51:08.694071Z",
     "iopub.status.idle": "2020-10-31T17:51:08.696484Z",
     "shell.execute_reply": "2020-10-31T17:51:08.697027Z"
    },
    "papermill": {
     "duration": 7.531804,
     "end_time": "2020-10-31T17:51:08.697186",
     "exception": false,
     "start_time": "2020-10-31T17:51:01.165382",
     "status": "completed"
    },
    "tags": []
   },
   "outputs": [],
   "source": [
    "reverse_input_char_index ={}\n",
    "for i in range(len(english_character)):\n",
    "    reverse_input_char_index[i]=english_character[i]\n",
    "reverse_target_char_index ={}\n",
    "for i in range(len(german_character)):\n",
    "    reverse_target_char_index[i]=german_character[i]"
   ]
  },
  {
   "cell_type": "code",
   "execution_count": 31,
   "metadata": {
    "execution": {
     "iopub.execute_input": "2020-10-31T17:51:24.266011Z",
     "iopub.status.busy": "2020-10-31T17:51:24.263930Z",
     "iopub.status.idle": "2020-10-31T17:51:24.266849Z",
     "shell.execute_reply": "2020-10-31T17:51:24.267393Z"
    },
    "papermill": {
     "duration": 7.756091,
     "end_time": "2020-10-31T17:51:24.267533",
     "exception": false,
     "start_time": "2020-10-31T17:51:16.511442",
     "status": "completed"
    },
    "tags": []
   },
   "outputs": [],
   "source": [
    "def decode_sequence(input_seq):\n",
    "    states_value=encoder_model_1.predict(input_seq)\n",
    "    target_seq = np.zeros((1, 1, len(german_character)))\n",
    "    target_seq[0, 0, german_d[\"\\t\"]] = 1.0\n",
    "    flag=0\n",
    "    sent=\"\"\n",
    "    while flag==0:\n",
    "        output_tokens, h, c,h1,c1 = decoder_model.predict([target_seq] + states_value)\n",
    "        sample = np.argmax(output_tokens[0, -1, :])\n",
    "        sampled_char = reverse_target_char_index[sample]\n",
    "        sent+=sampled_char\n",
    "        if sampled_char == \"\\n\" or len(sent) > max_decoder_seq_length:\n",
    "            flag=1\n",
    "        target_seq = np.zeros((1, 1, len(german_character)))\n",
    "        target_seq[0, 0,sample] = 1.0\n",
    "        states_value = [h, c,h1,c1]\n",
    "    return sent"
   ]
  },
  {
   "cell_type": "code",
   "execution_count": 32,
   "metadata": {
    "execution": {
     "iopub.execute_input": "2020-10-31T17:51:40.205166Z",
     "iopub.status.busy": "2020-10-31T17:51:40.204093Z",
     "iopub.status.idle": "2020-10-31T17:51:40.206107Z",
     "shell.execute_reply": "2020-10-31T17:51:40.207652Z"
    },
    "papermill": {
     "duration": 8.202742,
     "end_time": "2020-10-31T17:51:40.207858",
     "exception": false,
     "start_time": "2020-10-31T17:51:32.005116",
     "status": "completed"
    },
    "tags": []
   },
   "outputs": [],
   "source": [
    "english='Run!'"
   ]
  },
  {
   "cell_type": "code",
   "execution_count": 33,
   "metadata": {
    "execution": {
     "iopub.execute_input": "2020-10-31T17:51:55.323279Z",
     "iopub.status.busy": "2020-10-31T17:51:55.322391Z",
     "iopub.status.idle": "2020-10-31T17:51:55.326464Z",
     "shell.execute_reply": "2020-10-31T17:51:55.325883Z"
    },
    "papermill": {
     "duration": 7.309675,
     "end_time": "2020-10-31T17:51:55.326585",
     "exception": false,
     "start_time": "2020-10-31T17:51:48.016910",
     "status": "completed"
    },
    "tags": []
   },
   "outputs": [],
   "source": [
    "k=len(english)\n",
    "m=0\n",
    "a=[]\n",
    "b=[]\n",
    "c=[]\n",
    "inpu=[]\n",
    "while m<k:\n",
    "    for char in english[m]:\n",
    "        for i in range(len(english_character)):\n",
    "            if english_d[char]==i:\n",
    "                a.append(1)\n",
    "            else:\n",
    "                a.append(0)\n",
    "    for kp in a:\n",
    "        b.append(kp)\n",
    "    c.append(b)\n",
    "    b=[]\n",
    "    a=[]\n",
    "    m=m+1\n",
    "while m<max_encoder_seq_length:\n",
    "        for i in range(len(english_character)):\n",
    "            if i==0:\n",
    "                a.append(1)\n",
    "            else:\n",
    "                a.append(0)\n",
    "        for kp in a:\n",
    "            b.append(kp)\n",
    "        c.append(b)\n",
    "        b=[]\n",
    "        a=[]\n",
    "        m=m+1\n",
    "inpu.append(c)"
   ]
  },
  {
   "cell_type": "code",
   "execution_count": 34,
   "metadata": {
    "execution": {
     "iopub.execute_input": "2020-10-31T17:52:11.129500Z",
     "iopub.status.busy": "2020-10-31T17:52:11.128421Z",
     "iopub.status.idle": "2020-10-31T17:52:11.130668Z",
     "shell.execute_reply": "2020-10-31T17:52:11.131209Z"
    },
    "papermill": {
     "duration": 7.642095,
     "end_time": "2020-10-31T17:52:11.131356",
     "exception": false,
     "start_time": "2020-10-31T17:52:03.489261",
     "status": "completed"
    },
    "tags": []
   },
   "outputs": [],
   "source": [
    "inpu=np.array(inpu)"
   ]
  },
  {
   "cell_type": "code",
   "execution_count": 35,
   "metadata": {
    "execution": {
     "iopub.execute_input": "2020-10-31T17:52:26.295817Z",
     "iopub.status.busy": "2020-10-31T17:52:26.294912Z",
     "iopub.status.idle": "2020-10-31T17:52:26.298448Z",
     "shell.execute_reply": "2020-10-31T17:52:26.298999Z"
    },
    "papermill": {
     "duration": 7.473625,
     "end_time": "2020-10-31T17:52:26.299160",
     "exception": false,
     "start_time": "2020-10-31T17:52:18.825535",
     "status": "completed"
    },
    "tags": []
   },
   "outputs": [
    {
     "data": {
      "text/plain": [
       "(1, 20, 75)"
      ]
     },
     "execution_count": 35,
     "metadata": {},
     "output_type": "execute_result"
    }
   ],
   "source": [
    "inpu.shape"
   ]
  },
  {
   "cell_type": "code",
   "execution_count": 36,
   "metadata": {
    "execution": {
     "iopub.execute_input": "2020-10-31T17:52:43.352231Z",
     "iopub.status.busy": "2020-10-31T17:52:43.351225Z",
     "iopub.status.idle": "2020-10-31T17:52:45.180253Z",
     "shell.execute_reply": "2020-10-31T17:52:45.178489Z"
    },
    "papermill": {
     "duration": 10.732417,
     "end_time": "2020-10-31T17:52:45.180386",
     "exception": false,
     "start_time": "2020-10-31T17:52:34.447969",
     "status": "completed"
    },
    "tags": []
   },
   "outputs": [],
   "source": [
    "d=decode_sequence(inpu)"
   ]
  },
  {
   "cell_type": "code",
   "execution_count": 37,
   "metadata": {
    "execution": {
     "iopub.execute_input": "2020-10-31T17:53:00.616800Z",
     "iopub.status.busy": "2020-10-31T17:53:00.614500Z",
     "iopub.status.idle": "2020-10-31T17:53:00.619449Z",
     "shell.execute_reply": "2020-10-31T17:53:00.617494Z"
    },
    "papermill": {
     "duration": 7.639538,
     "end_time": "2020-10-31T17:53:00.619615",
     "exception": false,
     "start_time": "2020-10-31T17:52:52.980077",
     "status": "completed"
    },
    "tags": []
   },
   "outputs": [
    {
     "name": "stdout",
     "output_type": "stream",
     "text": [
      "Lauf!\n",
      "\n"
     ]
    }
   ],
   "source": [
    "print(d)"
   ]
  },
  {
   "cell_type": "code",
   "execution_count": 38,
   "metadata": {
    "execution": {
     "iopub.execute_input": "2020-10-31T17:53:16.757491Z",
     "iopub.status.busy": "2020-10-31T17:53:16.755990Z",
     "iopub.status.idle": "2020-10-31T17:53:16.760408Z",
     "shell.execute_reply": "2020-10-31T17:53:16.760894Z"
    },
    "papermill": {
     "duration": 7.861318,
     "end_time": "2020-10-31T17:53:16.761040",
     "exception": false,
     "start_time": "2020-10-31T17:53:08.899722",
     "status": "completed"
    },
    "tags": []
   },
   "outputs": [
    {
     "data": {
      "text/plain": [
       "'Run!'"
      ]
     },
     "execution_count": 38,
     "metadata": {},
     "output_type": "execute_result"
    }
   ],
   "source": [
    "english_texts[2]"
   ]
  },
  {
   "cell_type": "code",
   "execution_count": 39,
   "metadata": {
    "execution": {
     "iopub.execute_input": "2020-10-31T17:53:31.981971Z",
     "iopub.status.busy": "2020-10-31T17:53:31.981130Z",
     "iopub.status.idle": "2020-10-31T17:53:31.984655Z",
     "shell.execute_reply": "2020-10-31T17:53:31.985200Z"
    },
    "papermill": {
     "duration": 7.437486,
     "end_time": "2020-10-31T17:53:31.985359",
     "exception": false,
     "start_time": "2020-10-31T17:53:24.547873",
     "status": "completed"
    },
    "tags": []
   },
   "outputs": [
    {
     "data": {
      "text/plain": [
       "'\\tLauf!\\n'"
      ]
     },
     "execution_count": 39,
     "metadata": {},
     "output_type": "execute_result"
    }
   ],
   "source": [
    "german_texts[2]"
   ]
  }
 ],
 "metadata": {
  "kernelspec": {
   "display_name": "Python 3",
   "language": "python",
   "name": "python3"
  },
  "language_info": {
   "codemirror_mode": {
    "name": "ipython",
    "version": 3
   },
   "file_extension": ".py",
   "mimetype": "text/x-python",
   "name": "python",
   "nbconvert_exporter": "python",
   "pygments_lexer": "ipython3",
   "version": "3.7.6"
  },
  "papermill": {
   "duration": 1821.206818,
   "end_time": "2020-10-31T17:53:43.713367",
   "environment_variables": {},
   "exception": null,
   "input_path": "__notebook__.ipynb",
   "output_path": "__notebook__.ipynb",
   "parameters": {},
   "start_time": "2020-10-31T17:23:22.506549",
   "version": "2.1.0"
  }
 },
 "nbformat": 4,
 "nbformat_minor": 4
}
