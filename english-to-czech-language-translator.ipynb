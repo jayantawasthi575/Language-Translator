{
 "cells": [
  {
   "cell_type": "code",
   "execution_count": 1,
   "metadata": {
    "_cell_guid": "b1076dfc-b9ad-4769-8c92-a6c4dae69d19",
    "_uuid": "8f2839f25d086af736a60e9eeb907d3b93b6e0e5",
    "execution": {
     "iopub.execute_input": "2020-10-31T20:04:47.765755Z",
     "iopub.status.busy": "2020-10-31T20:04:47.765135Z",
     "iopub.status.idle": "2020-10-31T20:04:47.773108Z",
     "shell.execute_reply": "2020-10-31T20:04:47.772441Z"
    },
    "papermill": {
     "duration": 0.037627,
     "end_time": "2020-10-31T20:04:47.773247",
     "exception": false,
     "start_time": "2020-10-31T20:04:47.735620",
     "status": "completed"
    },
    "tags": []
   },
   "outputs": [
    {
     "name": "stdout",
     "output_type": "stream",
     "text": [
      "/kaggle/input/czech-to-english/ces.txt\n",
      "/kaggle/input/czech-to-english/_about.txt\n"
     ]
    }
   ],
   "source": [
    "# This Python 3 environment comes with many helpful analytics libraries installed\n",
    "# It is defined by the kaggle/python Docker image: https://github.com/kaggle/docker-python\n",
    "# For example, here's several helpful packages to load\n",
    "\n",
    "import numpy as np # linear algebra\n",
    "import pandas as pd # data processing, CSV file I/O (e.g. pd.read_csv)\n",
    "\n",
    "# Input data files are available in the read-only \"../input/\" directory\n",
    "# For example, running this (by clicking run or pressing Shift+Enter) will list all files under the input directory\n",
    "\n",
    "import os\n",
    "for dirname, _, filenames in os.walk('/kaggle/input'):\n",
    "    for filename in filenames:\n",
    "        print(os.path.join(dirname, filename))\n",
    "\n",
    "# You can write up to 20GB to the current directory (/kaggle/working/) that gets preserved as output when you create a version using \"Save & Run All\" \n",
    "# You can also write temporary files to /kaggle/temp/, but they won't be saved outside of the current session"
   ]
  },
  {
   "cell_type": "code",
   "execution_count": 2,
   "metadata": {
    "_cell_guid": "79c7e3d0-c299-4dcb-8224-4455121ee9b0",
    "_uuid": "d629ff2d2480ee46fbb7e2d37f6b5fab8052498a",
    "execution": {
     "iopub.execute_input": "2020-10-31T20:04:47.827913Z",
     "iopub.status.busy": "2020-10-31T20:04:47.827176Z",
     "iopub.status.idle": "2020-10-31T20:04:47.927806Z",
     "shell.execute_reply": "2020-10-31T20:04:47.927291Z"
    },
    "papermill": {
     "duration": 0.129657,
     "end_time": "2020-10-31T20:04:47.927937",
     "exception": false,
     "start_time": "2020-10-31T20:04:47.798280",
     "status": "completed"
    },
    "tags": []
   },
   "outputs": [],
   "source": [
    "english_texts=[]\n",
    "czech_texts=[]\n",
    "english_character=[]\n",
    "czech_character=[]\n",
    "with open(\"/kaggle/input/czech-to-english/ces.txt\", \"r\", encoding=\"utf-8\") as f:\n",
    "    lines = f.read().split(\"\\n\")\n",
    "for line in lines[:20000]:\n",
    "    english_text,czech_text,_=line.split(\"\\t\")\n",
    "    english_texts.append(english_text)\n",
    "    czech_text = \"\\t\" + czech_text + \"\\n\"\n",
    "    czech_texts.append(czech_text)"
   ]
  },
  {
   "cell_type": "code",
   "execution_count": 3,
   "metadata": {
    "execution": {
     "iopub.execute_input": "2020-10-31T20:04:47.997848Z",
     "iopub.status.busy": "2020-10-31T20:04:47.987394Z",
     "iopub.status.idle": "2020-10-31T20:04:48.674201Z",
     "shell.execute_reply": "2020-10-31T20:04:48.673631Z"
    },
    "papermill": {
     "duration": 0.723038,
     "end_time": "2020-10-31T20:04:48.674309",
     "exception": false,
     "start_time": "2020-10-31T20:04:47.951271",
     "status": "completed"
    },
    "tags": []
   },
   "outputs": [],
   "source": [
    "for i in english_texts:\n",
    "    for c in i:\n",
    "        if c not in english_character:\n",
    "            english_character.append(c)\n",
    "            english_character.sort()\n"
   ]
  },
  {
   "cell_type": "code",
   "execution_count": 4,
   "metadata": {
    "execution": {
     "iopub.execute_input": "2020-10-31T20:04:48.749664Z",
     "iopub.status.busy": "2020-10-31T20:04:48.744540Z",
     "iopub.status.idle": "2020-10-31T20:04:49.376939Z",
     "shell.execute_reply": "2020-10-31T20:04:49.376388Z"
    },
    "papermill": {
     "duration": 0.67918,
     "end_time": "2020-10-31T20:04:49.377045",
     "exception": false,
     "start_time": "2020-10-31T20:04:48.697865",
     "status": "completed"
    },
    "tags": []
   },
   "outputs": [],
   "source": [
    "for j in czech_texts:\n",
    "    for c in j:\n",
    "        if c not in czech_character:\n",
    "            czech_character.append(c)\n",
    "            czech_character.sort()"
   ]
  },
  {
   "cell_type": "code",
   "execution_count": 5,
   "metadata": {
    "execution": {
     "iopub.execute_input": "2020-10-31T20:04:49.428610Z",
     "iopub.status.busy": "2020-10-31T20:04:49.427829Z",
     "iopub.status.idle": "2020-10-31T20:04:49.430716Z",
     "shell.execute_reply": "2020-10-31T20:04:49.430257Z"
    },
    "papermill": {
     "duration": 0.0301,
     "end_time": "2020-10-31T20:04:49.430810",
     "exception": false,
     "start_time": "2020-10-31T20:04:49.400710",
     "status": "completed"
    },
    "tags": []
   },
   "outputs": [],
   "source": [
    "english_d={}\n",
    "for i in range(len(english_character)):\n",
    "    english_d[english_character[i]]=i"
   ]
  },
  {
   "cell_type": "code",
   "execution_count": 6,
   "metadata": {
    "execution": {
     "iopub.execute_input": "2020-10-31T20:04:49.482448Z",
     "iopub.status.busy": "2020-10-31T20:04:49.481677Z",
     "iopub.status.idle": "2020-10-31T20:04:49.484046Z",
     "shell.execute_reply": "2020-10-31T20:04:49.484592Z"
    },
    "papermill": {
     "duration": 0.03037,
     "end_time": "2020-10-31T20:04:49.484706",
     "exception": false,
     "start_time": "2020-10-31T20:04:49.454336",
     "status": "completed"
    },
    "tags": []
   },
   "outputs": [],
   "source": [
    "czech_d={}\n",
    "for i in range(len(czech_character)):\n",
    "    czech_d[czech_character[i]]=i"
   ]
  },
  {
   "cell_type": "code",
   "execution_count": 7,
   "metadata": {
    "execution": {
     "iopub.execute_input": "2020-10-31T20:04:49.541080Z",
     "iopub.status.busy": "2020-10-31T20:04:49.540202Z",
     "iopub.status.idle": "2020-10-31T20:04:49.543012Z",
     "shell.execute_reply": "2020-10-31T20:04:49.542491Z"
    },
    "papermill": {
     "duration": 0.034793,
     "end_time": "2020-10-31T20:04:49.543139",
     "exception": false,
     "start_time": "2020-10-31T20:04:49.508346",
     "status": "completed"
    },
    "tags": []
   },
   "outputs": [],
   "source": [
    "max_encoder_seq_length=0\n",
    "for i in english_texts:\n",
    "    if len(i)>max_encoder_seq_length:\n",
    "        max_encoder_seq_length=len(i)"
   ]
  },
  {
   "cell_type": "code",
   "execution_count": 8,
   "metadata": {
    "execution": {
     "iopub.execute_input": "2020-10-31T20:04:49.599711Z",
     "iopub.status.busy": "2020-10-31T20:04:49.598996Z",
     "iopub.status.idle": "2020-10-31T20:04:49.601996Z",
     "shell.execute_reply": "2020-10-31T20:04:49.601519Z"
    },
    "papermill": {
     "duration": 0.034906,
     "end_time": "2020-10-31T20:04:49.602089",
     "exception": false,
     "start_time": "2020-10-31T20:04:49.567183",
     "status": "completed"
    },
    "tags": []
   },
   "outputs": [],
   "source": [
    "max_decoder_seq_length=0\n",
    "for i in czech_texts:\n",
    "    if len(i)>max_decoder_seq_length:\n",
    "        max_decoder_seq_length=len(i)"
   ]
  },
  {
   "cell_type": "code",
   "execution_count": 9,
   "metadata": {
    "execution": {
     "iopub.execute_input": "2020-10-31T20:04:49.685495Z",
     "iopub.status.busy": "2020-10-31T20:04:49.675183Z",
     "iopub.status.idle": "2020-10-31T20:05:21.688950Z",
     "shell.execute_reply": "2020-10-31T20:05:21.687843Z"
    },
    "papermill": {
     "duration": 32.060353,
     "end_time": "2020-10-31T20:05:21.689072",
     "exception": false,
     "start_time": "2020-10-31T20:04:49.628719",
     "status": "completed"
    },
    "tags": []
   },
   "outputs": [],
   "source": [
    "encoder_input_data=[]\n",
    "for bb in range(20000):\n",
    "    a=[]\n",
    "    b=[]\n",
    "    c=[]\n",
    "    k=len(english_texts[bb])\n",
    "    m=0\n",
    "    while m<k:\n",
    "        for char in english_texts[bb][m]:\n",
    "                           for i in range(len(english_character)):\n",
    "                                            if english_d[char]==i:\n",
    "                                                a.append(1)\n",
    "                                            else:\n",
    "                                                a.append(0)\n",
    "       \n",
    "        for kp in a:\n",
    "            b.append(kp)\n",
    "        c.append(b)\n",
    "        b=[]\n",
    "        a=[]\n",
    "        m=m+1\n",
    "    while m<max_encoder_seq_length:\n",
    "        for i in range(len(english_character)):\n",
    "            if i==0:\n",
    "                a.append(1)\n",
    "            else:\n",
    "                a.append(0)\n",
    "        for kp in a:\n",
    "            b.append(kp)\n",
    "        c.append(b)\n",
    "        b=[]\n",
    "        a=[]\n",
    "        m=m+1\n",
    "    encoder_input_data.append(c)"
   ]
  },
  {
   "cell_type": "code",
   "execution_count": 10,
   "metadata": {
    "execution": {
     "iopub.execute_input": "2020-10-31T20:05:36.193798Z",
     "iopub.status.busy": "2020-10-31T20:05:36.193153Z",
     "iopub.status.idle": "2020-10-31T20:05:36.197180Z",
     "shell.execute_reply": "2020-10-31T20:05:36.197935Z"
    },
    "papermill": {
     "duration": 14.484538,
     "end_time": "2020-10-31T20:05:36.198078",
     "exception": false,
     "start_time": "2020-10-31T20:05:21.713540",
     "status": "completed"
    },
    "tags": []
   },
   "outputs": [],
   "source": [
    "encoder_input_data=np.array(encoder_input_data)"
   ]
  },
  {
   "cell_type": "code",
   "execution_count": 11,
   "metadata": {
    "execution": {
     "iopub.execute_input": "2020-10-31T20:05:36.251777Z",
     "iopub.status.busy": "2020-10-31T20:05:36.251167Z",
     "iopub.status.idle": "2020-10-31T20:05:36.258111Z",
     "shell.execute_reply": "2020-10-31T20:05:36.257290Z"
    },
    "papermill": {
     "duration": 0.035793,
     "end_time": "2020-10-31T20:05:36.258224",
     "exception": false,
     "start_time": "2020-10-31T20:05:36.222431",
     "status": "completed"
    },
    "tags": []
   },
   "outputs": [
    {
     "data": {
      "text/plain": [
       "(20000, 48, 75)"
      ]
     },
     "execution_count": 11,
     "metadata": {},
     "output_type": "execute_result"
    }
   ],
   "source": [
    "encoder_input_data.shape\n"
   ]
  },
  {
   "cell_type": "code",
   "execution_count": 12,
   "metadata": {
    "execution": {
     "iopub.execute_input": "2020-10-31T20:05:36.343005Z",
     "iopub.status.busy": "2020-10-31T20:05:36.327544Z",
     "iopub.status.idle": "2020-10-31T20:06:34.047058Z",
     "shell.execute_reply": "2020-10-31T20:06:34.046026Z"
    },
    "papermill": {
     "duration": 57.762796,
     "end_time": "2020-10-31T20:06:34.047188",
     "exception": false,
     "start_time": "2020-10-31T20:05:36.284392",
     "status": "completed"
    },
    "tags": []
   },
   "outputs": [],
   "source": [
    "decoder_input_data=[]\n",
    "for bb in range(20000):\n",
    "    a=[]\n",
    "    b=[]\n",
    "    c=[]\n",
    "    k=len(czech_texts[bb])\n",
    "    m=0\n",
    "    while m<k:\n",
    "        for char in czech_texts[bb][m]:\n",
    "                           for i in range(len(czech_character)):\n",
    "                                            if czech_d[char]==i:\n",
    "                                                a.append(1)\n",
    "                                            else:\n",
    "                                                a.append(0)\n",
    "       \n",
    "        for kp in a:\n",
    "            b.append(kp)\n",
    "        c.append(b)\n",
    "        b=[]\n",
    "        a=[]\n",
    "        m=m+1\n",
    "    while m<max_decoder_seq_length:\n",
    "        for i in range(len(czech_character)):\n",
    "            if i==0:\n",
    "                a.append(1)\n",
    "            else:\n",
    "                a.append(0)\n",
    "        for kp in a:\n",
    "            b.append(kp)\n",
    "        c.append(b)\n",
    "        b=[]\n",
    "        a=[]\n",
    "        m=m+1\n",
    "    decoder_input_data.append(c)"
   ]
  },
  {
   "cell_type": "code",
   "execution_count": 13,
   "metadata": {
    "execution": {
     "iopub.execute_input": "2020-10-31T20:07:01.306135Z",
     "iopub.status.busy": "2020-10-31T20:07:01.305142Z",
     "iopub.status.idle": "2020-10-31T20:07:01.850148Z",
     "shell.execute_reply": "2020-10-31T20:07:01.849577Z"
    },
    "papermill": {
     "duration": 27.777833,
     "end_time": "2020-10-31T20:07:01.850270",
     "exception": false,
     "start_time": "2020-10-31T20:06:34.072437",
     "status": "completed"
    },
    "tags": []
   },
   "outputs": [],
   "source": [
    "decoder_input_data=np.array(decoder_input_data)"
   ]
  },
  {
   "cell_type": "code",
   "execution_count": 14,
   "metadata": {
    "execution": {
     "iopub.execute_input": "2020-10-31T20:07:01.905812Z",
     "iopub.status.busy": "2020-10-31T20:07:01.905098Z",
     "iopub.status.idle": "2020-10-31T20:07:01.908506Z",
     "shell.execute_reply": "2020-10-31T20:07:01.908988Z"
    },
    "papermill": {
     "duration": 0.033716,
     "end_time": "2020-10-31T20:07:01.909100",
     "exception": false,
     "start_time": "2020-10-31T20:07:01.875384",
     "status": "completed"
    },
    "tags": []
   },
   "outputs": [
    {
     "data": {
      "text/plain": [
       "(20000, 71, 100)"
      ]
     },
     "execution_count": 14,
     "metadata": {},
     "output_type": "execute_result"
    }
   ],
   "source": [
    "decoder_input_data.shape"
   ]
  },
  {
   "cell_type": "code",
   "execution_count": 15,
   "metadata": {
    "execution": {
     "iopub.execute_input": "2020-10-31T20:07:01.981905Z",
     "iopub.status.busy": "2020-10-31T20:07:01.971589Z",
     "iopub.status.idle": "2020-10-31T20:07:59.066422Z",
     "shell.execute_reply": "2020-10-31T20:07:59.065832Z"
    },
    "papermill": {
     "duration": 57.132537,
     "end_time": "2020-10-31T20:07:59.066548",
     "exception": false,
     "start_time": "2020-10-31T20:07:01.934011",
     "status": "completed"
    },
    "tags": []
   },
   "outputs": [],
   "source": [
    "decoder_target_data=[]\n",
    "for bb in range(20000):\n",
    "    a=[]\n",
    "    b=[]\n",
    "    c=[]\n",
    "    k=len(czech_texts[bb])\n",
    "    m=1\n",
    "    while m<k:\n",
    "        for char in czech_texts[bb][m]:\n",
    "                           for i in range(len(czech_character)):\n",
    "                                            if czech_d[char]==i:\n",
    "                                                a.append(1)\n",
    "                                            else:\n",
    "                                                a.append(0)\n",
    "       \n",
    "        for kp in a:\n",
    "            b.append(kp)\n",
    "        c.append(b)\n",
    "        b=[]\n",
    "        a=[]\n",
    "        m=m+1\n",
    "    m=m-1\n",
    "    while m<max_decoder_seq_length:\n",
    "        for i in range(len(czech_character)):\n",
    "            if i==0:\n",
    "                a.append(1)\n",
    "            else:\n",
    "                a.append(0)\n",
    "        for kp in a:\n",
    "            b.append(kp)\n",
    "        c.append(b)\n",
    "        b=[]\n",
    "        a=[]\n",
    "        m=m+1\n",
    "    decoder_target_data.append(c)"
   ]
  },
  {
   "cell_type": "code",
   "execution_count": 16,
   "metadata": {
    "execution": {
     "iopub.execute_input": "2020-10-31T20:08:28.140857Z",
     "iopub.status.busy": "2020-10-31T20:08:28.140040Z",
     "iopub.status.idle": "2020-10-31T20:08:28.144342Z",
     "shell.execute_reply": "2020-10-31T20:08:28.143792Z"
    },
    "papermill": {
     "duration": 29.05163,
     "end_time": "2020-10-31T20:08:28.144452",
     "exception": false,
     "start_time": "2020-10-31T20:07:59.092822",
     "status": "completed"
    },
    "tags": []
   },
   "outputs": [],
   "source": [
    "decoder_target_data=np.array(decoder_target_data)"
   ]
  },
  {
   "cell_type": "code",
   "execution_count": 17,
   "metadata": {
    "execution": {
     "iopub.execute_input": "2020-10-31T20:08:28.200514Z",
     "iopub.status.busy": "2020-10-31T20:08:28.199927Z",
     "iopub.status.idle": "2020-10-31T20:08:28.205345Z",
     "shell.execute_reply": "2020-10-31T20:08:28.204849Z"
    },
    "papermill": {
     "duration": 0.034625,
     "end_time": "2020-10-31T20:08:28.205442",
     "exception": false,
     "start_time": "2020-10-31T20:08:28.170817",
     "status": "completed"
    },
    "tags": []
   },
   "outputs": [
    {
     "data": {
      "text/plain": [
       "(20000, 71, 100)"
      ]
     },
     "execution_count": 17,
     "metadata": {},
     "output_type": "execute_result"
    }
   ],
   "source": [
    "decoder_target_data.shape"
   ]
  },
  {
   "cell_type": "code",
   "execution_count": 18,
   "metadata": {
    "execution": {
     "iopub.execute_input": "2020-10-31T20:08:28.261556Z",
     "iopub.status.busy": "2020-10-31T20:08:28.260982Z",
     "iopub.status.idle": "2020-10-31T20:08:28.264792Z",
     "shell.execute_reply": "2020-10-31T20:08:28.264333Z"
    },
    "papermill": {
     "duration": 0.032942,
     "end_time": "2020-10-31T20:08:28.264902",
     "exception": false,
     "start_time": "2020-10-31T20:08:28.231960",
     "status": "completed"
    },
    "tags": []
   },
   "outputs": [],
   "source": [
    "batch_size = 64  # Batch size for training.\n",
    "epochs = 100 # Number of epochs to train for.\n",
    "latent_dim = 256 "
   ]
  },
  {
   "cell_type": "code",
   "execution_count": 19,
   "metadata": {
    "execution": {
     "iopub.execute_input": "2020-10-31T20:08:28.321617Z",
     "iopub.status.busy": "2020-10-31T20:08:28.320917Z",
     "iopub.status.idle": "2020-10-31T20:08:33.069640Z",
     "shell.execute_reply": "2020-10-31T20:08:33.068726Z"
    },
    "papermill": {
     "duration": 4.778976,
     "end_time": "2020-10-31T20:08:33.069797",
     "exception": false,
     "start_time": "2020-10-31T20:08:28.290821",
     "status": "completed"
    },
    "tags": []
   },
   "outputs": [],
   "source": [
    "from keras.layers import Dense\n",
    "from keras.layers import LSTM,Input\n",
    "from keras.models import Model"
   ]
  },
  {
   "cell_type": "code",
   "execution_count": 20,
   "metadata": {
    "execution": {
     "iopub.execute_input": "2020-10-31T20:08:33.155647Z",
     "iopub.status.busy": "2020-10-31T20:08:33.154780Z",
     "iopub.status.idle": "2020-10-31T20:08:36.410591Z",
     "shell.execute_reply": "2020-10-31T20:08:36.410051Z"
    },
    "papermill": {
     "duration": 3.30061,
     "end_time": "2020-10-31T20:08:36.410713",
     "exception": false,
     "start_time": "2020-10-31T20:08:33.110103",
     "status": "completed"
    },
    "tags": []
   },
   "outputs": [],
   "source": [
    "encoder_inputs = Input(shape=(None,len(english_character)))\n",
    "encoder = LSTM(latent_dim,dropout=0.2,return_sequences=True,return_state=True)\n",
    "encoder_outputs_1, state_h_1, state_c_1 = encoder(encoder_inputs)\n",
    "encoder = LSTM(latent_dim,dropout=0.2,return_state=True)\n",
    "encoder_outputs, state_h, state_c = encoder(encoder_outputs_1)\n",
    "encoder_states = [state_h_1,state_c_1,state_h, state_c]"
   ]
  },
  {
   "cell_type": "code",
   "execution_count": 21,
   "metadata": {
    "execution": {
     "iopub.execute_input": "2020-10-31T20:08:36.477722Z",
     "iopub.status.busy": "2020-10-31T20:08:36.477099Z",
     "iopub.status.idle": "2020-10-31T20:08:36.989735Z",
     "shell.execute_reply": "2020-10-31T20:08:36.988871Z"
    },
    "papermill": {
     "duration": 0.552148,
     "end_time": "2020-10-31T20:08:36.989850",
     "exception": false,
     "start_time": "2020-10-31T20:08:36.437702",
     "status": "completed"
    },
    "tags": []
   },
   "outputs": [],
   "source": [
    "decoder_inputs = Input(shape=(None, len(czech_character)))\n",
    "decoder_lstm = LSTM(latent_dim,return_sequences=True,dropout=0.2,return_state=True)\n",
    "decoder_outputs_1, _, _ = decoder_lstm(decoder_inputs, initial_state=[state_h_1,state_c_1])\n",
    "decoder_lstm_1 = LSTM(latent_dim, return_sequences=True,dropout=0.2,return_state=True)\n",
    "decoder_outputs, _, _ = decoder_lstm_1(decoder_outputs_1, initial_state=[state_h,state_c])\n",
    "decoder_dense = Dense(len(czech_character), activation=\"softmax\")\n",
    "decoder_outputs = decoder_dense(decoder_outputs)\n",
    "model=Model([encoder_inputs, decoder_inputs], decoder_outputs)"
   ]
  },
  {
   "cell_type": "code",
   "execution_count": 22,
   "metadata": {
    "execution": {
     "iopub.execute_input": "2020-10-31T20:08:37.049617Z",
     "iopub.status.busy": "2020-10-31T20:08:37.048312Z",
     "iopub.status.idle": "2020-10-31T20:08:37.064449Z",
     "shell.execute_reply": "2020-10-31T20:08:37.064980Z"
    },
    "papermill": {
     "duration": 0.048257,
     "end_time": "2020-10-31T20:08:37.065104",
     "exception": false,
     "start_time": "2020-10-31T20:08:37.016847",
     "status": "completed"
    },
    "tags": []
   },
   "outputs": [
    {
     "name": "stdout",
     "output_type": "stream",
     "text": [
      "Model: \"functional_1\"\n",
      "__________________________________________________________________________________________________\n",
      "Layer (type)                    Output Shape         Param #     Connected to                     \n",
      "==================================================================================================\n",
      "input_1 (InputLayer)            [(None, None, 75)]   0                                            \n",
      "__________________________________________________________________________________________________\n",
      "input_2 (InputLayer)            [(None, None, 100)]  0                                            \n",
      "__________________________________________________________________________________________________\n",
      "lstm (LSTM)                     [(None, None, 256),  339968      input_1[0][0]                    \n",
      "__________________________________________________________________________________________________\n",
      "lstm_2 (LSTM)                   [(None, None, 256),  365568      input_2[0][0]                    \n",
      "                                                                 lstm[0][1]                       \n",
      "                                                                 lstm[0][2]                       \n",
      "__________________________________________________________________________________________________\n",
      "lstm_1 (LSTM)                   [(None, 256), (None, 525312      lstm[0][0]                       \n",
      "__________________________________________________________________________________________________\n",
      "lstm_3 (LSTM)                   [(None, None, 256),  525312      lstm_2[0][0]                     \n",
      "                                                                 lstm_1[0][1]                     \n",
      "                                                                 lstm_1[0][2]                     \n",
      "__________________________________________________________________________________________________\n",
      "dense (Dense)                   (None, None, 100)    25700       lstm_3[0][0]                     \n",
      "==================================================================================================\n",
      "Total params: 1,781,860\n",
      "Trainable params: 1,781,860\n",
      "Non-trainable params: 0\n",
      "__________________________________________________________________________________________________\n"
     ]
    }
   ],
   "source": [
    "model.summary()"
   ]
  },
  {
   "cell_type": "code",
   "execution_count": 23,
   "metadata": {
    "execution": {
     "iopub.execute_input": "2020-10-31T20:08:37.132424Z",
     "iopub.status.busy": "2020-10-31T20:08:37.131543Z",
     "iopub.status.idle": "2020-10-31T20:23:59.775292Z",
     "shell.execute_reply": "2020-10-31T20:23:59.774709Z"
    },
    "papermill": {
     "duration": 922.682725,
     "end_time": "2020-10-31T20:23:59.775403",
     "exception": false,
     "start_time": "2020-10-31T20:08:37.092678",
     "status": "completed"
    },
    "tags": []
   },
   "outputs": [
    {
     "name": "stdout",
     "output_type": "stream",
     "text": [
      "Epoch 1/100\n",
      "250/250 [==============================] - 11s 43ms/step - loss: 1.1265 - accuracy: 0.7190 - val_loss: 1.4527 - val_accuracy: 0.6166\n",
      "Epoch 2/100\n",
      "250/250 [==============================] - 9s 36ms/step - loss: 0.8535 - accuracy: 0.7634 - val_loss: 1.2174 - val_accuracy: 0.6517\n",
      "Epoch 3/100\n",
      "250/250 [==============================] - 9s 37ms/step - loss: 0.7764 - accuracy: 0.7796 - val_loss: 1.1211 - val_accuracy: 0.6757\n",
      "Epoch 4/100\n",
      "250/250 [==============================] - 9s 37ms/step - loss: 0.7324 - accuracy: 0.7904 - val_loss: 1.0628 - val_accuracy: 0.6912\n",
      "Epoch 5/100\n",
      "250/250 [==============================] - 9s 36ms/step - loss: 0.6977 - accuracy: 0.7999 - val_loss: 0.9994 - val_accuracy: 0.7112\n",
      "Epoch 6/100\n",
      "250/250 [==============================] - 9s 36ms/step - loss: 0.6707 - accuracy: 0.8070 - val_loss: 0.9595 - val_accuracy: 0.7209\n",
      "Epoch 7/100\n",
      "250/250 [==============================] - 9s 37ms/step - loss: 0.6498 - accuracy: 0.8125 - val_loss: 0.9290 - val_accuracy: 0.7287\n",
      "Epoch 8/100\n",
      "250/250 [==============================] - 9s 36ms/step - loss: 0.6312 - accuracy: 0.8175 - val_loss: 0.9051 - val_accuracy: 0.7330\n",
      "Epoch 9/100\n",
      "250/250 [==============================] - 9s 37ms/step - loss: 0.6158 - accuracy: 0.8215 - val_loss: 0.8758 - val_accuracy: 0.7425\n",
      "Epoch 10/100\n",
      "250/250 [==============================] - 9s 36ms/step - loss: 0.6016 - accuracy: 0.8255 - val_loss: 0.8517 - val_accuracy: 0.7497\n",
      "Epoch 11/100\n",
      "250/250 [==============================] - 9s 36ms/step - loss: 0.5894 - accuracy: 0.8289 - val_loss: 0.8381 - val_accuracy: 0.7538\n",
      "Epoch 12/100\n",
      "250/250 [==============================] - 9s 36ms/step - loss: 0.5781 - accuracy: 0.8323 - val_loss: 0.8177 - val_accuracy: 0.7591\n",
      "Epoch 13/100\n",
      "250/250 [==============================] - 9s 36ms/step - loss: 0.5682 - accuracy: 0.8351 - val_loss: 0.8034 - val_accuracy: 0.7625\n",
      "Epoch 14/100\n",
      "250/250 [==============================] - 9s 36ms/step - loss: 0.5586 - accuracy: 0.8377 - val_loss: 0.8030 - val_accuracy: 0.7629\n",
      "Epoch 15/100\n",
      "250/250 [==============================] - 9s 36ms/step - loss: 0.5501 - accuracy: 0.8400 - val_loss: 0.7953 - val_accuracy: 0.7650\n",
      "Epoch 16/100\n",
      "250/250 [==============================] - 9s 37ms/step - loss: 0.5423 - accuracy: 0.8419 - val_loss: 0.7766 - val_accuracy: 0.7712\n",
      "Epoch 17/100\n",
      "250/250 [==============================] - 9s 36ms/step - loss: 0.5361 - accuracy: 0.8436 - val_loss: 0.7669 - val_accuracy: 0.7731\n",
      "Epoch 18/100\n",
      "250/250 [==============================] - 9s 36ms/step - loss: 0.5293 - accuracy: 0.8456 - val_loss: 0.7691 - val_accuracy: 0.7729\n",
      "Epoch 19/100\n",
      "250/250 [==============================] - 9s 36ms/step - loss: 0.5222 - accuracy: 0.8474 - val_loss: 0.7586 - val_accuracy: 0.7760\n",
      "Epoch 20/100\n",
      "250/250 [==============================] - 9s 35ms/step - loss: 0.5172 - accuracy: 0.8486 - val_loss: 0.7510 - val_accuracy: 0.7784\n",
      "Epoch 21/100\n",
      "250/250 [==============================] - 9s 36ms/step - loss: 0.5093 - accuracy: 0.8510 - val_loss: 0.7444 - val_accuracy: 0.7801\n",
      "Epoch 22/100\n",
      "250/250 [==============================] - 9s 36ms/step - loss: 0.5051 - accuracy: 0.8520 - val_loss: 0.7440 - val_accuracy: 0.7803\n",
      "Epoch 23/100\n",
      "250/250 [==============================] - 10s 38ms/step - loss: 0.4997 - accuracy: 0.8538 - val_loss: 0.7369 - val_accuracy: 0.7830\n",
      "Epoch 24/100\n",
      "250/250 [==============================] - 9s 36ms/step - loss: 0.4950 - accuracy: 0.8549 - val_loss: 0.7324 - val_accuracy: 0.7842\n",
      "Epoch 25/100\n",
      "250/250 [==============================] - 9s 36ms/step - loss: 0.4902 - accuracy: 0.8564 - val_loss: 0.7304 - val_accuracy: 0.7848\n",
      "Epoch 26/100\n",
      "250/250 [==============================] - 9s 36ms/step - loss: 0.4855 - accuracy: 0.8576 - val_loss: 0.7249 - val_accuracy: 0.7865\n",
      "Epoch 27/100\n",
      "250/250 [==============================] - 9s 37ms/step - loss: 0.4813 - accuracy: 0.8591 - val_loss: 0.7186 - val_accuracy: 0.7886\n",
      "Epoch 28/100\n",
      "250/250 [==============================] - 9s 37ms/step - loss: 0.4758 - accuracy: 0.8605 - val_loss: 0.7198 - val_accuracy: 0.7874\n",
      "Epoch 29/100\n",
      "250/250 [==============================] - 9s 37ms/step - loss: 0.4733 - accuracy: 0.8612 - val_loss: 0.7139 - val_accuracy: 0.7903\n",
      "Epoch 30/100\n",
      "250/250 [==============================] - 9s 37ms/step - loss: 0.4699 - accuracy: 0.8618 - val_loss: 0.7170 - val_accuracy: 0.7890\n",
      "Epoch 31/100\n",
      "250/250 [==============================] - 9s 37ms/step - loss: 0.4639 - accuracy: 0.8637 - val_loss: 0.7107 - val_accuracy: 0.7917\n",
      "Epoch 32/100\n",
      "250/250 [==============================] - 9s 36ms/step - loss: 0.4611 - accuracy: 0.8644 - val_loss: 0.7094 - val_accuracy: 0.7923\n",
      "Epoch 33/100\n",
      "250/250 [==============================] - 9s 36ms/step - loss: 0.4565 - accuracy: 0.8657 - val_loss: 0.7067 - val_accuracy: 0.7928\n",
      "Epoch 34/100\n",
      "250/250 [==============================] - 9s 36ms/step - loss: 0.4545 - accuracy: 0.8663 - val_loss: 0.7074 - val_accuracy: 0.7930\n",
      "Epoch 35/100\n",
      "250/250 [==============================] - 9s 36ms/step - loss: 0.4495 - accuracy: 0.8675 - val_loss: 0.7060 - val_accuracy: 0.7931\n",
      "Epoch 36/100\n",
      "250/250 [==============================] - 9s 37ms/step - loss: 0.4458 - accuracy: 0.8686 - val_loss: 0.6997 - val_accuracy: 0.7954\n",
      "Epoch 37/100\n",
      "250/250 [==============================] - 9s 36ms/step - loss: 0.4439 - accuracy: 0.8691 - val_loss: 0.7063 - val_accuracy: 0.7940\n",
      "Epoch 38/100\n",
      "250/250 [==============================] - 9s 35ms/step - loss: 0.4399 - accuracy: 0.8702 - val_loss: 0.7032 - val_accuracy: 0.7948\n",
      "Epoch 39/100\n",
      "250/250 [==============================] - 9s 36ms/step - loss: 0.4364 - accuracy: 0.8712 - val_loss: 0.6984 - val_accuracy: 0.7959\n",
      "Epoch 40/100\n",
      "250/250 [==============================] - 9s 36ms/step - loss: 0.4337 - accuracy: 0.8720 - val_loss: 0.6973 - val_accuracy: 0.7965\n",
      "Epoch 41/100\n",
      "250/250 [==============================] - 9s 36ms/step - loss: 0.4298 - accuracy: 0.8730 - val_loss: 0.7008 - val_accuracy: 0.7954\n",
      "Epoch 42/100\n",
      "250/250 [==============================] - 10s 38ms/step - loss: 0.4271 - accuracy: 0.8737 - val_loss: 0.6984 - val_accuracy: 0.7966\n",
      "Epoch 43/100\n",
      "250/250 [==============================] - 9s 36ms/step - loss: 0.4260 - accuracy: 0.8740 - val_loss: 0.6961 - val_accuracy: 0.7974\n",
      "Epoch 44/100\n",
      "250/250 [==============================] - 9s 36ms/step - loss: 0.4227 - accuracy: 0.8749 - val_loss: 0.7017 - val_accuracy: 0.7957\n",
      "Epoch 45/100\n",
      "250/250 [==============================] - 9s 36ms/step - loss: 0.4205 - accuracy: 0.8753 - val_loss: 0.6956 - val_accuracy: 0.7981\n",
      "Epoch 46/100\n",
      "250/250 [==============================] - 9s 37ms/step - loss: 0.4172 - accuracy: 0.8764 - val_loss: 0.6962 - val_accuracy: 0.7976\n",
      "Epoch 47/100\n",
      "250/250 [==============================] - 9s 36ms/step - loss: 0.4137 - accuracy: 0.8775 - val_loss: 0.6990 - val_accuracy: 0.7975\n",
      "Epoch 48/100\n",
      "250/250 [==============================] - 9s 36ms/step - loss: 0.4123 - accuracy: 0.8777 - val_loss: 0.6976 - val_accuracy: 0.7975\n",
      "Epoch 49/100\n",
      "250/250 [==============================] - 9s 38ms/step - loss: 0.4106 - accuracy: 0.8780 - val_loss: 0.6975 - val_accuracy: 0.7980\n",
      "Epoch 50/100\n",
      "250/250 [==============================] - 9s 36ms/step - loss: 0.4076 - accuracy: 0.8790 - val_loss: 0.6953 - val_accuracy: 0.7990\n",
      "Epoch 51/100\n",
      "250/250 [==============================] - 9s 36ms/step - loss: 0.4052 - accuracy: 0.8796 - val_loss: 0.7004 - val_accuracy: 0.7979\n",
      "Epoch 52/100\n",
      "250/250 [==============================] - 9s 36ms/step - loss: 0.4026 - accuracy: 0.8806 - val_loss: 0.7040 - val_accuracy: 0.7972\n",
      "Epoch 53/100\n",
      "250/250 [==============================] - 9s 36ms/step - loss: 0.4001 - accuracy: 0.8810 - val_loss: 0.6960 - val_accuracy: 0.7985\n",
      "Epoch 54/100\n",
      "250/250 [==============================] - 9s 37ms/step - loss: 0.3983 - accuracy: 0.8818 - val_loss: 0.6966 - val_accuracy: 0.7986\n",
      "Epoch 55/100\n",
      "250/250 [==============================] - 9s 37ms/step - loss: 0.3960 - accuracy: 0.8820 - val_loss: 0.6950 - val_accuracy: 0.7998\n",
      "Epoch 56/100\n",
      "250/250 [==============================] - 10s 38ms/step - loss: 0.3945 - accuracy: 0.8826 - val_loss: 0.6939 - val_accuracy: 0.7998\n",
      "Epoch 57/100\n",
      "250/250 [==============================] - 9s 36ms/step - loss: 0.3921 - accuracy: 0.8835 - val_loss: 0.7040 - val_accuracy: 0.7976\n",
      "Epoch 58/100\n",
      "250/250 [==============================] - 9s 36ms/step - loss: 0.3886 - accuracy: 0.8841 - val_loss: 0.7000 - val_accuracy: 0.7988\n",
      "Epoch 59/100\n",
      "250/250 [==============================] - 9s 36ms/step - loss: 0.3863 - accuracy: 0.8851 - val_loss: 0.6979 - val_accuracy: 0.7992\n",
      "Epoch 60/100\n",
      "250/250 [==============================] - 9s 37ms/step - loss: 0.3854 - accuracy: 0.8850 - val_loss: 0.6999 - val_accuracy: 0.7991\n",
      "Epoch 61/100\n",
      "250/250 [==============================] - 9s 35ms/step - loss: 0.3837 - accuracy: 0.8858 - val_loss: 0.7049 - val_accuracy: 0.7979\n",
      "Epoch 62/100\n",
      "250/250 [==============================] - 9s 37ms/step - loss: 0.3825 - accuracy: 0.8859 - val_loss: 0.7010 - val_accuracy: 0.7992\n",
      "Epoch 63/100\n",
      "250/250 [==============================] - 9s 37ms/step - loss: 0.3787 - accuracy: 0.8869 - val_loss: 0.6997 - val_accuracy: 0.7992\n",
      "Epoch 64/100\n",
      "250/250 [==============================] - 9s 36ms/step - loss: 0.3772 - accuracy: 0.8872 - val_loss: 0.7057 - val_accuracy: 0.7981\n",
      "Epoch 65/100\n",
      "250/250 [==============================] - 9s 37ms/step - loss: 0.3763 - accuracy: 0.8877 - val_loss: 0.6988 - val_accuracy: 0.7997\n",
      "Epoch 66/100\n",
      "250/250 [==============================] - 9s 36ms/step - loss: 0.3748 - accuracy: 0.8882 - val_loss: 0.7028 - val_accuracy: 0.8000\n",
      "Epoch 67/100\n",
      "250/250 [==============================] - 9s 36ms/step - loss: 0.3723 - accuracy: 0.8889 - val_loss: 0.7058 - val_accuracy: 0.7987\n",
      "Epoch 68/100\n",
      "250/250 [==============================] - 9s 36ms/step - loss: 0.3705 - accuracy: 0.8891 - val_loss: 0.7115 - val_accuracy: 0.7980\n",
      "Epoch 69/100\n",
      "250/250 [==============================] - 9s 37ms/step - loss: 0.3696 - accuracy: 0.8894 - val_loss: 0.7088 - val_accuracy: 0.7991\n",
      "Epoch 70/100\n",
      "250/250 [==============================] - 9s 37ms/step - loss: 0.3663 - accuracy: 0.8903 - val_loss: 0.7030 - val_accuracy: 0.8002\n",
      "Epoch 71/100\n",
      "250/250 [==============================] - 9s 36ms/step - loss: 0.3674 - accuracy: 0.8902 - val_loss: 0.7059 - val_accuracy: 0.8001\n",
      "Epoch 72/100\n",
      "250/250 [==============================] - 9s 35ms/step - loss: 0.3633 - accuracy: 0.8915 - val_loss: 0.7047 - val_accuracy: 0.8000\n",
      "Epoch 73/100\n",
      "250/250 [==============================] - 9s 36ms/step - loss: 0.3623 - accuracy: 0.8916 - val_loss: 0.7125 - val_accuracy: 0.7990\n",
      "Epoch 74/100\n",
      "250/250 [==============================] - 9s 36ms/step - loss: 0.3596 - accuracy: 0.8923 - val_loss: 0.7061 - val_accuracy: 0.7999\n",
      "Epoch 75/100\n",
      "250/250 [==============================] - 9s 37ms/step - loss: 0.3589 - accuracy: 0.8925 - val_loss: 0.7071 - val_accuracy: 0.7998\n",
      "Epoch 76/100\n",
      "250/250 [==============================] - 9s 37ms/step - loss: 0.3571 - accuracy: 0.8927 - val_loss: 0.7110 - val_accuracy: 0.7996\n",
      "Epoch 77/100\n",
      "250/250 [==============================] - 9s 37ms/step - loss: 0.3569 - accuracy: 0.8929 - val_loss: 0.7105 - val_accuracy: 0.7986\n",
      "Epoch 78/100\n",
      "250/250 [==============================] - 9s 36ms/step - loss: 0.3534 - accuracy: 0.8941 - val_loss: 0.7107 - val_accuracy: 0.7990\n",
      "Epoch 79/100\n",
      "250/250 [==============================] - 9s 36ms/step - loss: 0.3523 - accuracy: 0.8943 - val_loss: 0.7126 - val_accuracy: 0.7994\n",
      "Epoch 80/100\n",
      "250/250 [==============================] - 9s 36ms/step - loss: 0.3511 - accuracy: 0.8945 - val_loss: 0.7126 - val_accuracy: 0.7994\n",
      "Epoch 81/100\n",
      "250/250 [==============================] - 9s 37ms/step - loss: 0.3485 - accuracy: 0.8952 - val_loss: 0.7164 - val_accuracy: 0.7982\n",
      "Epoch 82/100\n",
      "250/250 [==============================] - 9s 37ms/step - loss: 0.3467 - accuracy: 0.8957 - val_loss: 0.7198 - val_accuracy: 0.7986\n",
      "Epoch 83/100\n",
      "250/250 [==============================] - 9s 36ms/step - loss: 0.3463 - accuracy: 0.8959 - val_loss: 0.7166 - val_accuracy: 0.7986\n",
      "Epoch 84/100\n",
      "250/250 [==============================] - 9s 36ms/step - loss: 0.3456 - accuracy: 0.8961 - val_loss: 0.7194 - val_accuracy: 0.7975\n",
      "Epoch 85/100\n",
      "250/250 [==============================] - 9s 36ms/step - loss: 0.3408 - accuracy: 0.8974 - val_loss: 0.7203 - val_accuracy: 0.7983\n",
      "Epoch 86/100\n",
      "250/250 [==============================] - 9s 36ms/step - loss: 0.3414 - accuracy: 0.8973 - val_loss: 0.7252 - val_accuracy: 0.7981\n",
      "Epoch 87/100\n",
      "250/250 [==============================] - 9s 36ms/step - loss: 0.3406 - accuracy: 0.8975 - val_loss: 0.7212 - val_accuracy: 0.7986\n",
      "Epoch 88/100\n",
      "250/250 [==============================] - 9s 38ms/step - loss: 0.3378 - accuracy: 0.8983 - val_loss: 0.7207 - val_accuracy: 0.7986\n",
      "Epoch 89/100\n",
      "250/250 [==============================] - 9s 37ms/step - loss: 0.3386 - accuracy: 0.8981 - val_loss: 0.7248 - val_accuracy: 0.7974\n",
      "Epoch 90/100\n",
      "250/250 [==============================] - 9s 36ms/step - loss: 0.3349 - accuracy: 0.8993 - val_loss: 0.7251 - val_accuracy: 0.7975\n",
      "Epoch 91/100\n",
      "250/250 [==============================] - 9s 36ms/step - loss: 0.3335 - accuracy: 0.8995 - val_loss: 0.7267 - val_accuracy: 0.7982\n",
      "Epoch 92/100\n",
      "250/250 [==============================] - 9s 36ms/step - loss: 0.3333 - accuracy: 0.8994 - val_loss: 0.7286 - val_accuracy: 0.7981\n",
      "Epoch 93/100\n",
      "250/250 [==============================] - 9s 36ms/step - loss: 0.3321 - accuracy: 0.9002 - val_loss: 0.7244 - val_accuracy: 0.7982\n",
      "Epoch 94/100\n",
      "250/250 [==============================] - 9s 36ms/step - loss: 0.3314 - accuracy: 0.9002 - val_loss: 0.7252 - val_accuracy: 0.7989\n",
      "Epoch 95/100\n",
      "250/250 [==============================] - 10s 40ms/step - loss: 0.3290 - accuracy: 0.9008 - val_loss: 0.7288 - val_accuracy: 0.7977\n",
      "Epoch 96/100\n",
      "250/250 [==============================] - 9s 36ms/step - loss: 0.3280 - accuracy: 0.9010 - val_loss: 0.7265 - val_accuracy: 0.7990\n",
      "Epoch 97/100\n",
      "250/250 [==============================] - 9s 36ms/step - loss: 0.3275 - accuracy: 0.9013 - val_loss: 0.7319 - val_accuracy: 0.7981\n",
      "Epoch 98/100\n",
      "250/250 [==============================] - 9s 37ms/step - loss: 0.3255 - accuracy: 0.9017 - val_loss: 0.7361 - val_accuracy: 0.7965\n",
      "Epoch 99/100\n",
      "250/250 [==============================] - 9s 36ms/step - loss: 0.3252 - accuracy: 0.9016 - val_loss: 0.7355 - val_accuracy: 0.7965\n",
      "Epoch 100/100\n",
      "250/250 [==============================] - 9s 36ms/step - loss: 0.3234 - accuracy: 0.9022 - val_loss: 0.7415 - val_accuracy: 0.7966\n"
     ]
    },
    {
     "data": {
      "text/plain": [
       "<tensorflow.python.keras.callbacks.History at 0x7fb47172cad0>"
      ]
     },
     "execution_count": 23,
     "metadata": {},
     "output_type": "execute_result"
    }
   ],
   "source": [
    "model.compile(\n",
    "    optimizer=\"rmsprop\", loss=\"categorical_crossentropy\", metrics=[\"accuracy\"]\n",
    ")\n",
    "model.fit(\n",
    "    [encoder_input_data, decoder_input_data],\n",
    "    decoder_target_data,\n",
    "    batch_size=batch_size,\n",
    "    epochs=epochs,\n",
    "    validation_split=0.2,\n",
    ")"
   ]
  },
  {
   "cell_type": "code",
   "execution_count": 24,
   "metadata": {
    "execution": {
     "iopub.execute_input": "2020-10-31T20:24:09.047083Z",
     "iopub.status.busy": "2020-10-31T20:24:09.046153Z",
     "iopub.status.idle": "2020-10-31T20:24:09.095795Z",
     "shell.execute_reply": "2020-10-31T20:24:09.095280Z"
    },
    "papermill": {
     "duration": 4.979552,
     "end_time": "2020-10-31T20:24:09.095934",
     "exception": false,
     "start_time": "2020-10-31T20:24:04.116382",
     "status": "completed"
    },
    "tags": []
   },
   "outputs": [],
   "source": [
    "model.save(\"engtoczech.h5\")"
   ]
  },
  {
   "cell_type": "code",
   "execution_count": 25,
   "metadata": {
    "execution": {
     "iopub.execute_input": "2020-10-31T20:24:18.662632Z",
     "iopub.status.busy": "2020-10-31T20:24:18.661689Z",
     "iopub.status.idle": "2020-10-31T20:24:18.663643Z",
     "shell.execute_reply": "2020-10-31T20:24:18.664143Z"
    },
    "papermill": {
     "duration": 4.616137,
     "end_time": "2020-10-31T20:24:18.664268",
     "exception": false,
     "start_time": "2020-10-31T20:24:14.048131",
     "status": "completed"
    },
    "tags": []
   },
   "outputs": [],
   "source": [
    "import keras"
   ]
  },
  {
   "cell_type": "code",
   "execution_count": 26,
   "metadata": {
    "execution": {
     "iopub.execute_input": "2020-10-31T20:24:27.693225Z",
     "iopub.status.busy": "2020-10-31T20:24:27.692295Z",
     "iopub.status.idle": "2020-10-31T20:24:28.816044Z",
     "shell.execute_reply": "2020-10-31T20:24:28.815277Z"
    },
    "papermill": {
     "duration": 5.44616,
     "end_time": "2020-10-31T20:24:28.816189",
     "exception": false,
     "start_time": "2020-10-31T20:24:23.370029",
     "status": "completed"
    },
    "tags": []
   },
   "outputs": [],
   "source": [
    "model = keras.models.load_model(\"engtoczech.h5\")\n",
    "encoder_inputs = model.input[0]  \n",
    "encoder_outputs_1, state_h_enc_1, state_c_enc_1 = model.layers[2].output \n",
    "encoder_outputs, state_h_enc, state_c_enc = model.layers[4].output \n",
    "encoder_states = [state_h_enc_1, state_c_enc_1,state_h_enc, state_c_enc]\n",
    "encoder_model_1 = keras.Model(encoder_inputs, encoder_states)"
   ]
  },
  {
   "cell_type": "code",
   "execution_count": 27,
   "metadata": {
    "execution": {
     "iopub.execute_input": "2020-10-31T20:24:37.772279Z",
     "iopub.status.busy": "2020-10-31T20:24:37.771183Z",
     "iopub.status.idle": "2020-10-31T20:24:38.258044Z",
     "shell.execute_reply": "2020-10-31T20:24:38.257345Z"
    },
    "papermill": {
     "duration": 4.875999,
     "end_time": "2020-10-31T20:24:38.258154",
     "exception": false,
     "start_time": "2020-10-31T20:24:33.382155",
     "status": "completed"
    },
    "tags": []
   },
   "outputs": [],
   "source": [
    "decoder_inputs = model.input[1]  \n",
    "decoder_state_input_h = keras.Input(shape=(latent_dim,), name=\"input_3\")\n",
    "decoder_state_input_c = keras.Input(shape=(latent_dim,), name=\"input_4\")\n",
    "decoder_state_input_h1 = Input(shape=(latent_dim,),name=\"input_5\")\n",
    "decoder_state_input_c1 = Input(shape=(latent_dim,),name=\"input_6\")\n",
    "decoder_states_inputs = [decoder_state_input_h, decoder_state_input_c,decoder_state_input_h1,decoder_state_input_c1]\n",
    "decoder_lstm = model.layers[3]\n",
    "dec_o, state_h, state_c = decoder_lstm(\n",
    "    decoder_inputs, initial_state=decoder_states_inputs[:2])\n",
    "decoder_lstm_1=model.layers[5]\n",
    "dec_o_1, state_h1, state_c1 = decoder_lstm_1(\n",
    "    dec_o, initial_state=decoder_states_inputs[-2:])\n",
    "decoder_states = [state_h,state_c,state_h1,state_c1]\n",
    "decoder_dense = model.layers[6]\n",
    "decoder_outputs = decoder_dense(dec_o_1)\n",
    "decoder_model = keras.Model(\n",
    "    [decoder_inputs] + decoder_states_inputs, [decoder_outputs] + decoder_states\n",
    ")"
   ]
  },
  {
   "cell_type": "code",
   "execution_count": 28,
   "metadata": {
    "execution": {
     "iopub.execute_input": "2020-10-31T20:24:47.584969Z",
     "iopub.status.busy": "2020-10-31T20:24:47.584320Z",
     "iopub.status.idle": "2020-10-31T20:24:47.588379Z",
     "shell.execute_reply": "2020-10-31T20:24:47.588816Z"
    },
    "papermill": {
     "duration": 4.701877,
     "end_time": "2020-10-31T20:24:47.588960",
     "exception": false,
     "start_time": "2020-10-31T20:24:42.887083",
     "status": "completed"
    },
    "tags": []
   },
   "outputs": [],
   "source": [
    "reverse_input_char_index ={}\n",
    "for i in range(len(english_character)):\n",
    "    reverse_input_char_index[i]=english_character[i]\n",
    "reverse_target_char_index ={}\n",
    "for i in range(len(czech_character)):\n",
    "    reverse_target_char_index[i]=czech_character[i]\n"
   ]
  },
  {
   "cell_type": "code",
   "execution_count": 29,
   "metadata": {
    "execution": {
     "iopub.execute_input": "2020-10-31T20:24:56.619020Z",
     "iopub.status.busy": "2020-10-31T20:24:56.618288Z",
     "iopub.status.idle": "2020-10-31T20:24:56.621819Z",
     "shell.execute_reply": "2020-10-31T20:24:56.621323Z"
    },
    "papermill": {
     "duration": 4.512459,
     "end_time": "2020-10-31T20:24:56.621934",
     "exception": false,
     "start_time": "2020-10-31T20:24:52.109475",
     "status": "completed"
    },
    "tags": []
   },
   "outputs": [],
   "source": [
    "def decode_sequence(input_seq):\n",
    "    states_value=encoder_model_1.predict(input_seq)\n",
    "    target_seq = np.zeros((1, 1, len(czech_character)))\n",
    "    target_seq[0, 0, czech_d[\"\\t\"]] = 1.0\n",
    "    flag=0\n",
    "    sent=\"\"\n",
    "    while flag==0:\n",
    "        output_tokens, h, c,h1,c1 = decoder_model.predict([target_seq] + states_value)\n",
    "        sample = np.argmax(output_tokens[0, -1, :])\n",
    "        sampled_char = reverse_target_char_index[sample]\n",
    "        sent+=sampled_char\n",
    "        if sampled_char == \"\\n\" or len(sent) > max_decoder_seq_length:\n",
    "            flag=1\n",
    "        target_seq = np.zeros((1, 1, len(czech_character)))\n",
    "        target_seq[0, 0,sample] = 1.0\n",
    "        states_value = [h, c,h1,c1]\n",
    "    return sent\n"
   ]
  },
  {
   "cell_type": "code",
   "execution_count": 30,
   "metadata": {
    "execution": {
     "iopub.execute_input": "2020-10-31T20:25:05.635834Z",
     "iopub.status.busy": "2020-10-31T20:25:05.634922Z",
     "iopub.status.idle": "2020-10-31T20:25:05.636852Z",
     "shell.execute_reply": "2020-10-31T20:25:05.637359Z"
    },
    "papermill": {
     "duration": 4.570788,
     "end_time": "2020-10-31T20:25:05.637483",
     "exception": false,
     "start_time": "2020-10-31T20:25:01.066695",
     "status": "completed"
    },
    "tags": []
   },
   "outputs": [],
   "source": [
    "english='Who is?'"
   ]
  },
  {
   "cell_type": "code",
   "execution_count": 31,
   "metadata": {
    "execution": {
     "iopub.execute_input": "2020-10-31T20:25:15.359345Z",
     "iopub.status.busy": "2020-10-31T20:25:15.358598Z",
     "iopub.status.idle": "2020-10-31T20:25:15.361796Z",
     "shell.execute_reply": "2020-10-31T20:25:15.362368Z"
    },
    "papermill": {
     "duration": 5.041768,
     "end_time": "2020-10-31T20:25:15.362507",
     "exception": false,
     "start_time": "2020-10-31T20:25:10.320739",
     "status": "completed"
    },
    "tags": []
   },
   "outputs": [],
   "source": [
    "k=len(english)\n",
    "m=0\n",
    "a=[]\n",
    "b=[]\n",
    "c=[]\n",
    "inpu=[]\n",
    "while m<k:\n",
    "    for char in english[m]:\n",
    "        for i in range(len(english_character)):\n",
    "            if english_d[char]==i:\n",
    "                a.append(1)\n",
    "            else:\n",
    "                a.append(0)\n",
    "    for kp in a:\n",
    "        b.append(kp)\n",
    "    c.append(b)\n",
    "    b=[]\n",
    "    a=[]\n",
    "    m=m+1\n",
    "while m<max_encoder_seq_length:\n",
    "        for i in range(len(english_character)):\n",
    "            if i==0:\n",
    "                a.append(1)\n",
    "            else:\n",
    "                a.append(0)\n",
    "        for kp in a:\n",
    "            b.append(kp)\n",
    "        c.append(b)\n",
    "        b=[]\n",
    "        a=[]\n",
    "        m=m+1\n",
    "inpu.append(c)"
   ]
  },
  {
   "cell_type": "code",
   "execution_count": 32,
   "metadata": {
    "execution": {
     "iopub.execute_input": "2020-10-31T20:25:24.584375Z",
     "iopub.status.busy": "2020-10-31T20:25:24.582942Z",
     "iopub.status.idle": "2020-10-31T20:25:24.585077Z",
     "shell.execute_reply": "2020-10-31T20:25:24.585569Z"
    },
    "papermill": {
     "duration": 4.387445,
     "end_time": "2020-10-31T20:25:24.585808",
     "exception": false,
     "start_time": "2020-10-31T20:25:20.198363",
     "status": "completed"
    },
    "tags": []
   },
   "outputs": [],
   "source": [
    "inpu=np.array(inpu)"
   ]
  },
  {
   "cell_type": "code",
   "execution_count": 33,
   "metadata": {
    "execution": {
     "iopub.execute_input": "2020-10-31T20:25:33.525020Z",
     "iopub.status.busy": "2020-10-31T20:25:33.524223Z",
     "iopub.status.idle": "2020-10-31T20:25:33.527496Z",
     "shell.execute_reply": "2020-10-31T20:25:33.528033Z"
    },
    "papermill": {
     "duration": 4.36574,
     "end_time": "2020-10-31T20:25:33.528156",
     "exception": false,
     "start_time": "2020-10-31T20:25:29.162416",
     "status": "completed"
    },
    "tags": []
   },
   "outputs": [
    {
     "data": {
      "text/plain": [
       "(1, 48, 75)"
      ]
     },
     "execution_count": 33,
     "metadata": {},
     "output_type": "execute_result"
    }
   ],
   "source": [
    "inpu.shape"
   ]
  },
  {
   "cell_type": "code",
   "execution_count": 34,
   "metadata": {
    "execution": {
     "iopub.execute_input": "2020-10-31T20:25:42.526185Z",
     "iopub.status.busy": "2020-10-31T20:25:42.525311Z",
     "iopub.status.idle": "2020-10-31T20:25:44.359213Z",
     "shell.execute_reply": "2020-10-31T20:25:44.357684Z"
    },
    "papermill": {
     "duration": 6.204675,
     "end_time": "2020-10-31T20:25:44.359331",
     "exception": false,
     "start_time": "2020-10-31T20:25:38.154656",
     "status": "completed"
    },
    "tags": []
   },
   "outputs": [],
   "source": [
    "d=decode_sequence(inpu)"
   ]
  },
  {
   "cell_type": "code",
   "execution_count": 35,
   "metadata": {
    "execution": {
     "iopub.execute_input": "2020-10-31T20:25:53.764818Z",
     "iopub.status.busy": "2020-10-31T20:25:53.762419Z",
     "iopub.status.idle": "2020-10-31T20:25:53.767855Z",
     "shell.execute_reply": "2020-10-31T20:25:53.767181Z"
    },
    "papermill": {
     "duration": 4.505316,
     "end_time": "2020-10-31T20:25:53.768014",
     "exception": false,
     "start_time": "2020-10-31T20:25:49.262698",
     "status": "completed"
    },
    "tags": []
   },
   "outputs": [
    {
     "name": "stdout",
     "output_type": "stream",
     "text": [
      "Kdo je tvrd?\n",
      "\n"
     ]
    }
   ],
   "source": [
    "print(d)"
   ]
  }
 ],
 "metadata": {
  "kernelspec": {
   "display_name": "Python 3",
   "language": "python",
   "name": "python3"
  },
  "language_info": {
   "codemirror_mode": {
    "name": "ipython",
    "version": 3
   },
   "file_extension": ".py",
   "mimetype": "text/x-python",
   "name": "python",
   "nbconvert_exporter": "python",
   "pygments_lexer": "ipython3",
   "version": "3.7.6"
  },
  "papermill": {
   "duration": 1276.061513,
   "end_time": "2020-10-31T20:25:59.987073",
   "environment_variables": {},
   "exception": null,
   "input_path": "__notebook__.ipynb",
   "output_path": "__notebook__.ipynb",
   "parameters": {},
   "start_time": "2020-10-31T20:04:43.925560",
   "version": "2.1.0"
  }
 },
 "nbformat": 4,
 "nbformat_minor": 4
}
