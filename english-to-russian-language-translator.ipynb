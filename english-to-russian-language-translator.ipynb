{
 "cells": [
  {
   "cell_type": "code",
   "execution_count": 1,
   "metadata": {
    "_cell_guid": "b1076dfc-b9ad-4769-8c92-a6c4dae69d19",
    "_uuid": "8f2839f25d086af736a60e9eeb907d3b93b6e0e5",
    "execution": {
     "iopub.execute_input": "2020-10-31T19:09:07.490665Z",
     "iopub.status.busy": "2020-10-31T19:09:07.489645Z",
     "iopub.status.idle": "2020-10-31T19:09:07.495027Z",
     "shell.execute_reply": "2020-10-31T19:09:07.495731Z"
    },
    "papermill": {
     "duration": 0.041759,
     "end_time": "2020-10-31T19:09:07.495888",
     "exception": false,
     "start_time": "2020-10-31T19:09:07.454129",
     "status": "completed"
    },
    "tags": []
   },
   "outputs": [
    {
     "name": "stdout",
     "output_type": "stream",
     "text": [
      "/kaggle/input/english-to-russian-language/_about.txt\n",
      "/kaggle/input/english-to-russian-language/rus.txt\n"
     ]
    }
   ],
   "source": [
    "# This Python 3 environment comes with many helpful analytics libraries installed\n",
    "# It is defined by the kaggle/python Docker image: https://github.com/kaggle/docker-python\n",
    "# For example, here's several helpful packages to load\n",
    "\n",
    "import numpy as np # linear algebra\n",
    "import pandas as pd # data processing, CSV file I/O (e.g. pd.read_csv)\n",
    "\n",
    "# Input data files are available in the read-only \"../input/\" directory\n",
    "# For example, running this (by clicking run or pressing Shift+Enter) will list all files under the input directory\n",
    "\n",
    "import os\n",
    "for dirname, _, filenames in os.walk('/kaggle/input'):\n",
    "    for filename in filenames:\n",
    "        print(os.path.join(dirname, filename))\n",
    "\n",
    "# You can write up to 20GB to the current directory (/kaggle/working/) that gets preserved as output when you create a version using \"Save & Run All\" \n",
    "# You can also write temporary files to /kaggle/temp/, but they won't be saved outside of the current session"
   ]
  },
  {
   "cell_type": "code",
   "execution_count": 2,
   "metadata": {
    "_cell_guid": "79c7e3d0-c299-4dcb-8224-4455121ee9b0",
    "_uuid": "d629ff2d2480ee46fbb7e2d37f6b5fab8052498a",
    "execution": {
     "iopub.execute_input": "2020-10-31T19:09:07.564203Z",
     "iopub.status.busy": "2020-10-31T19:09:07.561905Z",
     "iopub.status.idle": "2020-10-31T19:09:08.028209Z",
     "shell.execute_reply": "2020-10-31T19:09:08.027411Z"
    },
    "papermill": {
     "duration": 0.502247,
     "end_time": "2020-10-31T19:09:08.028330",
     "exception": false,
     "start_time": "2020-10-31T19:09:07.526083",
     "status": "completed"
    },
    "tags": []
   },
   "outputs": [],
   "source": [
    "english_texts=[]\n",
    "russian_texts=[]\n",
    "english_character=[]\n",
    "russian_character=[]\n",
    "with open(\"/kaggle/input/english-to-russian-language/rus.txt\", \"r\", encoding=\"utf-8\") as f:\n",
    "    lines = f.read().split(\"\\n\")\n",
    "for line in lines[:30000]:\n",
    "    english_text,russian_text,_=line.split(\"\\t\")\n",
    "    english_texts.append(english_text)\n",
    "    russian_text = \"\\t\" + russian_text + \"\\n\"\n",
    "    russian_texts.append(russian_text)"
   ]
  },
  {
   "cell_type": "code",
   "execution_count": 3,
   "metadata": {
    "execution": {
     "iopub.execute_input": "2020-10-31T19:09:08.113088Z",
     "iopub.status.busy": "2020-10-31T19:09:08.097748Z",
     "iopub.status.idle": "2020-10-31T19:09:08.868879Z",
     "shell.execute_reply": "2020-10-31T19:09:08.868216Z"
    },
    "papermill": {
     "duration": 0.81384,
     "end_time": "2020-10-31T19:09:08.869035",
     "exception": false,
     "start_time": "2020-10-31T19:09:08.055195",
     "status": "completed"
    },
    "tags": []
   },
   "outputs": [],
   "source": [
    "for i in english_texts:\n",
    "    for c in i:\n",
    "        if c not in english_character:\n",
    "            english_character.append(c)\n",
    "            english_character.sort()"
   ]
  },
  {
   "cell_type": "code",
   "execution_count": 4,
   "metadata": {
    "execution": {
     "iopub.execute_input": "2020-10-31T19:09:08.942259Z",
     "iopub.status.busy": "2020-10-31T19:09:08.937127Z",
     "iopub.status.idle": "2020-10-31T19:09:09.668192Z",
     "shell.execute_reply": "2020-10-31T19:09:09.667556Z"
    },
    "papermill": {
     "duration": 0.770801,
     "end_time": "2020-10-31T19:09:09.668301",
     "exception": false,
     "start_time": "2020-10-31T19:09:08.897500",
     "status": "completed"
    },
    "tags": []
   },
   "outputs": [],
   "source": [
    "for j in russian_texts:\n",
    "    for c in j:\n",
    "        if c not in russian_character:\n",
    "            russian_character.append(c)\n",
    "            russian_character.sort()"
   ]
  },
  {
   "cell_type": "code",
   "execution_count": 5,
   "metadata": {
    "execution": {
     "iopub.execute_input": "2020-10-31T19:09:09.727715Z",
     "iopub.status.busy": "2020-10-31T19:09:09.726883Z",
     "iopub.status.idle": "2020-10-31T19:09:09.731052Z",
     "shell.execute_reply": "2020-10-31T19:09:09.730494Z"
    },
    "papermill": {
     "duration": 0.036064,
     "end_time": "2020-10-31T19:09:09.731153",
     "exception": false,
     "start_time": "2020-10-31T19:09:09.695089",
     "status": "completed"
    },
    "tags": []
   },
   "outputs": [],
   "source": [
    "english_d={}\n",
    "for i in range(len(english_character)):\n",
    "    english_d[english_character[i]]=i"
   ]
  },
  {
   "cell_type": "code",
   "execution_count": 6,
   "metadata": {
    "execution": {
     "iopub.execute_input": "2020-10-31T19:09:09.791332Z",
     "iopub.status.busy": "2020-10-31T19:09:09.790485Z",
     "iopub.status.idle": "2020-10-31T19:09:09.793524Z",
     "shell.execute_reply": "2020-10-31T19:09:09.792894Z"
    },
    "papermill": {
     "duration": 0.034403,
     "end_time": "2020-10-31T19:09:09.793641",
     "exception": false,
     "start_time": "2020-10-31T19:09:09.759238",
     "status": "completed"
    },
    "tags": []
   },
   "outputs": [],
   "source": [
    "russian_d={}\n",
    "for i in range(len(russian_character)):\n",
    "    russian_d[russian_character[i]]=i"
   ]
  },
  {
   "cell_type": "code",
   "execution_count": 7,
   "metadata": {
    "execution": {
     "iopub.execute_input": "2020-10-31T19:09:09.851583Z",
     "iopub.status.busy": "2020-10-31T19:09:09.850732Z",
     "iopub.status.idle": "2020-10-31T19:09:09.853764Z",
     "shell.execute_reply": "2020-10-31T19:09:09.853159Z"
    },
    "papermill": {
     "duration": 0.033598,
     "end_time": "2020-10-31T19:09:09.853857",
     "exception": false,
     "start_time": "2020-10-31T19:09:09.820259",
     "status": "completed"
    },
    "tags": []
   },
   "outputs": [],
   "source": [
    "english_encoder_tokens = len(english_character)\n",
    "russian_decoder_tokens = len(russian_character)"
   ]
  },
  {
   "cell_type": "code",
   "execution_count": 8,
   "metadata": {
    "execution": {
     "iopub.execute_input": "2020-10-31T19:09:09.920576Z",
     "iopub.status.busy": "2020-10-31T19:09:09.919788Z",
     "iopub.status.idle": "2020-10-31T19:09:09.923826Z",
     "shell.execute_reply": "2020-10-31T19:09:09.923274Z"
    },
    "papermill": {
     "duration": 0.041934,
     "end_time": "2020-10-31T19:09:09.923934",
     "exception": false,
     "start_time": "2020-10-31T19:09:09.882000",
     "status": "completed"
    },
    "tags": []
   },
   "outputs": [],
   "source": [
    "max_encoder_seq_length=0\n",
    "for i in english_texts:\n",
    "    if len(i)>max_encoder_seq_length:\n",
    "        max_encoder_seq_length=len(i)"
   ]
  },
  {
   "cell_type": "code",
   "execution_count": 9,
   "metadata": {
    "execution": {
     "iopub.execute_input": "2020-10-31T19:09:09.993582Z",
     "iopub.status.busy": "2020-10-31T19:09:09.992737Z",
     "iopub.status.idle": "2020-10-31T19:09:09.997051Z",
     "shell.execute_reply": "2020-10-31T19:09:09.996452Z"
    },
    "papermill": {
     "duration": 0.044845,
     "end_time": "2020-10-31T19:09:09.997153",
     "exception": false,
     "start_time": "2020-10-31T19:09:09.952308",
     "status": "completed"
    },
    "tags": []
   },
   "outputs": [],
   "source": [
    "max_decoder_seq_length=0\n",
    "for i in russian_texts:\n",
    "    if len(i)>max_decoder_seq_length:\n",
    "        max_decoder_seq_length=len(i)"
   ]
  },
  {
   "cell_type": "code",
   "execution_count": 10,
   "metadata": {
    "execution": {
     "iopub.execute_input": "2020-10-31T19:09:10.061283Z",
     "iopub.status.busy": "2020-10-31T19:09:10.060503Z",
     "iopub.status.idle": "2020-10-31T19:09:10.068291Z",
     "shell.execute_reply": "2020-10-31T19:09:10.066794Z"
    },
    "papermill": {
     "duration": 0.042143,
     "end_time": "2020-10-31T19:09:10.068569",
     "exception": false,
     "start_time": "2020-10-31T19:09:10.026426",
     "status": "completed"
    },
    "tags": []
   },
   "outputs": [
    {
     "data": {
      "text/plain": [
       "60"
      ]
     },
     "execution_count": 10,
     "metadata": {},
     "output_type": "execute_result"
    }
   ],
   "source": [
    "max_decoder_seq_length"
   ]
  },
  {
   "cell_type": "code",
   "execution_count": 11,
   "metadata": {
    "execution": {
     "iopub.execute_input": "2020-10-31T19:09:10.181027Z",
     "iopub.status.busy": "2020-10-31T19:09:10.165676Z",
     "iopub.status.idle": "2020-10-31T19:09:29.248021Z",
     "shell.execute_reply": "2020-10-31T19:09:29.246726Z"
    },
    "papermill": {
     "duration": 19.146877,
     "end_time": "2020-10-31T19:09:29.248160",
     "exception": false,
     "start_time": "2020-10-31T19:09:10.101283",
     "status": "completed"
    },
    "tags": []
   },
   "outputs": [],
   "source": [
    "encoder_input_data=[]\n",
    "for bb in range(30000):\n",
    "    a=[]\n",
    "    b=[]\n",
    "    c=[]\n",
    "    k=len(english_texts[bb])\n",
    "    m=0\n",
    "    while m<k:\n",
    "        for char in english_texts[bb][m]:\n",
    "                           for i in range(len(english_character)):\n",
    "                                            if english_d[char]==i:\n",
    "                                                a.append(1)\n",
    "                                            else:\n",
    "                                                a.append(0)\n",
    "       \n",
    "        for kp in a:\n",
    "            b.append(kp)\n",
    "        c.append(b)\n",
    "        b=[]\n",
    "        a=[]\n",
    "        m=m+1\n",
    "    while m<max_encoder_seq_length:\n",
    "        for i in range(len(english_character)):\n",
    "            if i==0:\n",
    "                a.append(1)\n",
    "            else:\n",
    "                a.append(0)\n",
    "        for kp in a:\n",
    "            b.append(kp)\n",
    "        c.append(b)\n",
    "        b=[]\n",
    "        a=[]\n",
    "        m=m+1\n",
    "    encoder_input_data.append(c)"
   ]
  },
  {
   "cell_type": "code",
   "execution_count": 12,
   "metadata": {
    "execution": {
     "iopub.execute_input": "2020-10-31T19:09:37.800626Z",
     "iopub.status.busy": "2020-10-31T19:09:37.799632Z",
     "iopub.status.idle": "2020-10-31T19:09:37.803370Z",
     "shell.execute_reply": "2020-10-31T19:09:37.802409Z"
    },
    "papermill": {
     "duration": 8.526465,
     "end_time": "2020-10-31T19:09:37.803493",
     "exception": false,
     "start_time": "2020-10-31T19:09:29.277028",
     "status": "completed"
    },
    "tags": []
   },
   "outputs": [],
   "source": [
    "encoder_input_data=np.array(encoder_input_data)"
   ]
  },
  {
   "cell_type": "code",
   "execution_count": 13,
   "metadata": {
    "execution": {
     "iopub.execute_input": "2020-10-31T19:09:37.868665Z",
     "iopub.status.busy": "2020-10-31T19:09:37.867889Z",
     "iopub.status.idle": "2020-10-31T19:09:37.873420Z",
     "shell.execute_reply": "2020-10-31T19:09:37.872821Z"
    },
    "papermill": {
     "duration": 0.040707,
     "end_time": "2020-10-31T19:09:37.873535",
     "exception": false,
     "start_time": "2020-10-31T19:09:37.832828",
     "status": "completed"
    },
    "tags": []
   },
   "outputs": [
    {
     "data": {
      "text/plain": [
       "(30000, 17, 74)"
      ]
     },
     "execution_count": 13,
     "metadata": {},
     "output_type": "execute_result"
    }
   ],
   "source": [
    "encoder_input_data.shape"
   ]
  },
  {
   "cell_type": "code",
   "execution_count": 14,
   "metadata": {
    "execution": {
     "iopub.execute_input": "2020-10-31T19:09:37.968645Z",
     "iopub.status.busy": "2020-10-31T19:09:37.958353Z",
     "iopub.status.idle": "2020-10-31T19:10:59.410148Z",
     "shell.execute_reply": "2020-10-31T19:10:59.409112Z"
    },
    "papermill": {
     "duration": 81.507085,
     "end_time": "2020-10-31T19:10:59.410278",
     "exception": false,
     "start_time": "2020-10-31T19:09:37.903193",
     "status": "completed"
    },
    "tags": []
   },
   "outputs": [],
   "source": [
    "decoder_input_data=[]\n",
    "for bb in range(30000):\n",
    "    a=[]\n",
    "    b=[]\n",
    "    c=[]\n",
    "    k=len(russian_texts[bb])\n",
    "    m=0\n",
    "    while m<k:\n",
    "        for char in russian_texts[bb][m]:\n",
    "                           for i in range(len(russian_character)):\n",
    "                                            if russian_d[char]==i:\n",
    "                                                a.append(1)\n",
    "                                            else:\n",
    "                                                a.append(0)\n",
    "       \n",
    "        for kp in a:\n",
    "            b.append(kp)\n",
    "        c.append(b)\n",
    "        b=[]\n",
    "        a=[]\n",
    "        m=m+1\n",
    "    while m<max_decoder_seq_length:\n",
    "        for i in range(len(russian_character)):\n",
    "            if i==0:\n",
    "                a.append(1)\n",
    "            else:\n",
    "                a.append(0)\n",
    "        for kp in a:\n",
    "            b.append(kp)\n",
    "        c.append(b)\n",
    "        b=[]\n",
    "        a=[]\n",
    "        m=m+1\n",
    "    decoder_input_data.append(c)"
   ]
  },
  {
   "cell_type": "code",
   "execution_count": 15,
   "metadata": {
    "execution": {
     "iopub.execute_input": "2020-10-31T19:11:39.750998Z",
     "iopub.status.busy": "2020-10-31T19:11:39.718696Z",
     "iopub.status.idle": "2020-10-31T19:11:39.752191Z",
     "shell.execute_reply": "2020-10-31T19:11:39.751636Z"
    },
    "papermill": {
     "duration": 40.31149,
     "end_time": "2020-10-31T19:11:39.752302",
     "exception": false,
     "start_time": "2020-10-31T19:10:59.440812",
     "status": "completed"
    },
    "tags": []
   },
   "outputs": [],
   "source": [
    "decoder_input_data=np.array(decoder_input_data)\n"
   ]
  },
  {
   "cell_type": "code",
   "execution_count": 16,
   "metadata": {
    "execution": {
     "iopub.execute_input": "2020-10-31T19:11:39.816109Z",
     "iopub.status.busy": "2020-10-31T19:11:39.815399Z",
     "iopub.status.idle": "2020-10-31T19:11:39.821139Z",
     "shell.execute_reply": "2020-10-31T19:11:39.820590Z"
    },
    "papermill": {
     "duration": 0.039166,
     "end_time": "2020-10-31T19:11:39.821255",
     "exception": false,
     "start_time": "2020-10-31T19:11:39.782089",
     "status": "completed"
    },
    "tags": []
   },
   "outputs": [
    {
     "data": {
      "text/plain": [
       "(30000, 60, 101)"
      ]
     },
     "execution_count": 16,
     "metadata": {},
     "output_type": "execute_result"
    }
   ],
   "source": [
    "decoder_input_data.shape\n"
   ]
  },
  {
   "cell_type": "code",
   "execution_count": 17,
   "metadata": {
    "execution": {
     "iopub.execute_input": "2020-10-31T19:11:39.911353Z",
     "iopub.status.busy": "2020-10-31T19:11:39.901198Z",
     "iopub.status.idle": "2020-10-31T19:13:03.541296Z",
     "shell.execute_reply": "2020-10-31T19:13:03.540658Z"
    },
    "papermill": {
     "duration": 83.689173,
     "end_time": "2020-10-31T19:13:03.541431",
     "exception": false,
     "start_time": "2020-10-31T19:11:39.852258",
     "status": "completed"
    },
    "tags": []
   },
   "outputs": [],
   "source": [
    "decoder_target_data=[]\n",
    "for bb in range(30000):\n",
    "    a=[]\n",
    "    b=[]\n",
    "    c=[]\n",
    "    k=len(russian_texts[bb])\n",
    "    m=1\n",
    "    while m<k:\n",
    "        for char in russian_texts[bb][m]:\n",
    "                           for i in range(len(russian_character)):\n",
    "                                            if russian_d[char]==i:\n",
    "                                                a.append(1)\n",
    "                                            else:\n",
    "                                                a.append(0)\n",
    "       \n",
    "        for kp in a:\n",
    "            b.append(kp)\n",
    "        c.append(b)\n",
    "        b=[]\n",
    "        a=[]\n",
    "        m=m+1\n",
    "    m=m-1\n",
    "    while m<max_decoder_seq_length:\n",
    "        for i in range(len(russian_character)):\n",
    "            if i==0:\n",
    "                a.append(1)\n",
    "            else:\n",
    "                a.append(0)\n",
    "        for kp in a:\n",
    "            b.append(kp)\n",
    "        c.append(b)\n",
    "        b=[]\n",
    "        a=[]\n",
    "        m=m+1\n",
    "    decoder_target_data.append(c)"
   ]
  },
  {
   "cell_type": "code",
   "execution_count": 18,
   "metadata": {
    "execution": {
     "iopub.execute_input": "2020-10-31T19:13:43.458335Z",
     "iopub.status.busy": "2020-10-31T19:13:43.424604Z",
     "iopub.status.idle": "2020-10-31T19:13:43.459489Z",
     "shell.execute_reply": "2020-10-31T19:13:43.458955Z"
    },
    "papermill": {
     "duration": 39.885148,
     "end_time": "2020-10-31T19:13:43.459609",
     "exception": false,
     "start_time": "2020-10-31T19:13:03.574461",
     "status": "completed"
    },
    "tags": []
   },
   "outputs": [],
   "source": [
    "decoder_target_data=np.array(decoder_target_data)\n"
   ]
  },
  {
   "cell_type": "code",
   "execution_count": 19,
   "metadata": {
    "execution": {
     "iopub.execute_input": "2020-10-31T19:13:43.522532Z",
     "iopub.status.busy": "2020-10-31T19:13:43.521645Z",
     "iopub.status.idle": "2020-10-31T19:13:43.525241Z",
     "shell.execute_reply": "2020-10-31T19:13:43.525738Z"
    },
    "papermill": {
     "duration": 0.037629,
     "end_time": "2020-10-31T19:13:43.525859",
     "exception": false,
     "start_time": "2020-10-31T19:13:43.488230",
     "status": "completed"
    },
    "tags": []
   },
   "outputs": [
    {
     "data": {
      "text/plain": [
       "(30000, 60, 101)"
      ]
     },
     "execution_count": 19,
     "metadata": {},
     "output_type": "execute_result"
    }
   ],
   "source": [
    "decoder_target_data.shape"
   ]
  },
  {
   "cell_type": "code",
   "execution_count": 20,
   "metadata": {
    "execution": {
     "iopub.execute_input": "2020-10-31T19:13:43.595281Z",
     "iopub.status.busy": "2020-10-31T19:13:43.594396Z",
     "iopub.status.idle": "2020-10-31T19:13:43.597253Z",
     "shell.execute_reply": "2020-10-31T19:13:43.597691Z"
    },
    "papermill": {
     "duration": 0.040391,
     "end_time": "2020-10-31T19:13:43.597831",
     "exception": false,
     "start_time": "2020-10-31T19:13:43.557440",
     "status": "completed"
    },
    "tags": []
   },
   "outputs": [],
   "source": [
    "batch_size = 64  # Batch size for training.\n",
    "epochs = 100 # Number of epochs to train for.\n",
    "latent_dim = 256 "
   ]
  },
  {
   "cell_type": "code",
   "execution_count": 21,
   "metadata": {
    "execution": {
     "iopub.execute_input": "2020-10-31T19:13:43.666329Z",
     "iopub.status.busy": "2020-10-31T19:13:43.665573Z",
     "iopub.status.idle": "2020-10-31T19:13:49.458804Z",
     "shell.execute_reply": "2020-10-31T19:13:49.458141Z"
    },
    "papermill": {
     "duration": 5.828844,
     "end_time": "2020-10-31T19:13:49.458933",
     "exception": false,
     "start_time": "2020-10-31T19:13:43.630089",
     "status": "completed"
    },
    "tags": []
   },
   "outputs": [],
   "source": [
    "from keras.layers import Dense\n",
    "from keras.layers import LSTM,Input\n",
    "from keras.models import Model"
   ]
  },
  {
   "cell_type": "code",
   "execution_count": 22,
   "metadata": {
    "execution": {
     "iopub.execute_input": "2020-10-31T19:13:49.526373Z",
     "iopub.status.busy": "2020-10-31T19:13:49.525623Z",
     "iopub.status.idle": "2020-10-31T19:13:53.007426Z",
     "shell.execute_reply": "2020-10-31T19:13:53.006775Z"
    },
    "papermill": {
     "duration": 3.51852,
     "end_time": "2020-10-31T19:13:53.007577",
     "exception": false,
     "start_time": "2020-10-31T19:13:49.489057",
     "status": "completed"
    },
    "tags": []
   },
   "outputs": [],
   "source": [
    "encoder_inputs = Input(shape=(None,len(english_character)))\n",
    "encoder = LSTM(latent_dim,dropout=0.2,return_sequences=True,return_state=True)\n",
    "encoder_outputs_1, state_h_1, state_c_1 = encoder(encoder_inputs)\n",
    "encoder = LSTM(latent_dim,dropout=0.2,return_state=True)\n",
    "encoder_outputs, state_h, state_c = encoder(encoder_outputs_1)\n",
    "encoder_states = [state_h_1,state_c_1,state_h, state_c]"
   ]
  },
  {
   "cell_type": "code",
   "execution_count": 23,
   "metadata": {
    "execution": {
     "iopub.execute_input": "2020-10-31T19:13:53.086820Z",
     "iopub.status.busy": "2020-10-31T19:13:53.079708Z",
     "iopub.status.idle": "2020-10-31T19:13:53.637830Z",
     "shell.execute_reply": "2020-10-31T19:13:53.637285Z"
    },
    "papermill": {
     "duration": 0.599224,
     "end_time": "2020-10-31T19:13:53.638007",
     "exception": false,
     "start_time": "2020-10-31T19:13:53.038783",
     "status": "completed"
    },
    "tags": []
   },
   "outputs": [],
   "source": [
    "decoder_inputs = Input(shape=(None, len(russian_character)))\n",
    "decoder_lstm = LSTM(latent_dim,return_sequences=True,dropout=0.2,return_state=True)\n",
    "decoder_outputs_1, _, _ = decoder_lstm(decoder_inputs, initial_state=[state_h_1,state_c_1])\n",
    "decoder_lstm_1 = LSTM(latent_dim, return_sequences=True,dropout=0.2,return_state=True)\n",
    "decoder_outputs, _, _ = decoder_lstm_1(decoder_outputs_1, initial_state=[state_h,state_c])\n",
    "decoder_dense = Dense(len(russian_character), activation=\"softmax\")\n",
    "decoder_outputs = decoder_dense(decoder_outputs)\n",
    "model=Model([encoder_inputs, decoder_inputs], decoder_outputs)\n"
   ]
  },
  {
   "cell_type": "code",
   "execution_count": 24,
   "metadata": {
    "execution": {
     "iopub.execute_input": "2020-10-31T19:13:53.711562Z",
     "iopub.status.busy": "2020-10-31T19:13:53.707307Z",
     "iopub.status.idle": "2020-10-31T19:13:53.718650Z",
     "shell.execute_reply": "2020-10-31T19:13:53.717813Z"
    },
    "papermill": {
     "duration": 0.048608,
     "end_time": "2020-10-31T19:13:53.718799",
     "exception": false,
     "start_time": "2020-10-31T19:13:53.670191",
     "status": "completed"
    },
    "tags": []
   },
   "outputs": [
    {
     "name": "stdout",
     "output_type": "stream",
     "text": [
      "Model: \"functional_1\"\n",
      "__________________________________________________________________________________________________\n",
      "Layer (type)                    Output Shape         Param #     Connected to                     \n",
      "==================================================================================================\n",
      "input_1 (InputLayer)            [(None, None, 74)]   0                                            \n",
      "__________________________________________________________________________________________________\n",
      "input_2 (InputLayer)            [(None, None, 101)]  0                                            \n",
      "__________________________________________________________________________________________________\n",
      "lstm (LSTM)                     [(None, None, 256),  338944      input_1[0][0]                    \n",
      "__________________________________________________________________________________________________\n",
      "lstm_2 (LSTM)                   [(None, None, 256),  366592      input_2[0][0]                    \n",
      "                                                                 lstm[0][1]                       \n",
      "                                                                 lstm[0][2]                       \n",
      "__________________________________________________________________________________________________\n",
      "lstm_1 (LSTM)                   [(None, 256), (None, 525312      lstm[0][0]                       \n",
      "__________________________________________________________________________________________________\n",
      "lstm_3 (LSTM)                   [(None, None, 256),  525312      lstm_2[0][0]                     \n",
      "                                                                 lstm_1[0][1]                     \n",
      "                                                                 lstm_1[0][2]                     \n",
      "__________________________________________________________________________________________________\n",
      "dense (Dense)                   (None, None, 101)    25957       lstm_3[0][0]                     \n",
      "==================================================================================================\n",
      "Total params: 1,782,117\n",
      "Trainable params: 1,782,117\n",
      "Non-trainable params: 0\n",
      "__________________________________________________________________________________________________\n"
     ]
    }
   ],
   "source": [
    "model.summary()"
   ]
  },
  {
   "cell_type": "code",
   "execution_count": 25,
   "metadata": {
    "execution": {
     "iopub.execute_input": "2020-10-31T19:13:53.789936Z",
     "iopub.status.busy": "2020-10-31T19:13:53.789292Z",
     "iopub.status.idle": "2020-10-31T19:13:53.795295Z",
     "shell.execute_reply": "2020-10-31T19:13:53.794737Z"
    },
    "papermill": {
     "duration": 0.042675,
     "end_time": "2020-10-31T19:13:53.795411",
     "exception": false,
     "start_time": "2020-10-31T19:13:53.752736",
     "status": "completed"
    },
    "tags": []
   },
   "outputs": [
    {
     "data": {
      "text/plain": [
       "<tensorflow.python.keras.layers.recurrent_v2.LSTM at 0x7f368b72c350>"
      ]
     },
     "execution_count": 25,
     "metadata": {},
     "output_type": "execute_result"
    }
   ],
   "source": [
    "model.layers[2]"
   ]
  },
  {
   "cell_type": "code",
   "execution_count": 26,
   "metadata": {
    "execution": {
     "iopub.execute_input": "2020-10-31T19:13:53.890785Z",
     "iopub.status.busy": "2020-10-31T19:13:53.889695Z",
     "iopub.status.idle": "2020-10-31T19:30:48.351275Z",
     "shell.execute_reply": "2020-10-31T19:30:48.351769Z"
    },
    "papermill": {
     "duration": 1014.508406,
     "end_time": "2020-10-31T19:30:48.351911",
     "exception": false,
     "start_time": "2020-10-31T19:13:53.843505",
     "status": "completed"
    },
    "tags": []
   },
   "outputs": [
    {
     "name": "stdout",
     "output_type": "stream",
     "text": [
      "Epoch 1/100\n",
      "375/375 [==============================] - 12s 33ms/step - loss: 0.8172 - accuracy: 0.7837 - val_loss: 0.6825 - val_accuracy: 0.8029\n",
      "Epoch 2/100\n",
      "375/375 [==============================] - 10s 27ms/step - loss: 0.5882 - accuracy: 0.8315 - val_loss: 0.5796 - val_accuracy: 0.8319\n",
      "Epoch 3/100\n",
      "375/375 [==============================] - 10s 27ms/step - loss: 0.5253 - accuracy: 0.8485 - val_loss: 0.5197 - val_accuracy: 0.8490\n",
      "Epoch 4/100\n",
      "375/375 [==============================] - 10s 26ms/step - loss: 0.4839 - accuracy: 0.8601 - val_loss: 0.4805 - val_accuracy: 0.8603\n",
      "Epoch 5/100\n",
      "375/375 [==============================] - 10s 26ms/step - loss: 0.4533 - accuracy: 0.8687 - val_loss: 0.4474 - val_accuracy: 0.8696\n",
      "Epoch 6/100\n",
      "375/375 [==============================] - 10s 28ms/step - loss: 0.4292 - accuracy: 0.8755 - val_loss: 0.4327 - val_accuracy: 0.8735\n",
      "Epoch 7/100\n",
      "375/375 [==============================] - 10s 27ms/step - loss: 0.4092 - accuracy: 0.8808 - val_loss: 0.4103 - val_accuracy: 0.8801\n",
      "Epoch 8/100\n",
      "375/375 [==============================] - 10s 27ms/step - loss: 0.3926 - accuracy: 0.8854 - val_loss: 0.3957 - val_accuracy: 0.8840\n",
      "Epoch 9/100\n",
      "375/375 [==============================] - 10s 27ms/step - loss: 0.3783 - accuracy: 0.8891 - val_loss: 0.3845 - val_accuracy: 0.8872\n",
      "Epoch 10/100\n",
      "375/375 [==============================] - 10s 27ms/step - loss: 0.3668 - accuracy: 0.8922 - val_loss: 0.3761 - val_accuracy: 0.8893\n",
      "Epoch 11/100\n",
      "375/375 [==============================] - 10s 26ms/step - loss: 0.3559 - accuracy: 0.8951 - val_loss: 0.3673 - val_accuracy: 0.8918\n",
      "Epoch 12/100\n",
      "375/375 [==============================] - 11s 28ms/step - loss: 0.3458 - accuracy: 0.8979 - val_loss: 0.3576 - val_accuracy: 0.8948\n",
      "Epoch 13/100\n",
      "375/375 [==============================] - 10s 28ms/step - loss: 0.3364 - accuracy: 0.9004 - val_loss: 0.3547 - val_accuracy: 0.8957\n",
      "Epoch 14/100\n",
      "375/375 [==============================] - 10s 27ms/step - loss: 0.3280 - accuracy: 0.9027 - val_loss: 0.3501 - val_accuracy: 0.8973\n",
      "Epoch 15/100\n",
      "375/375 [==============================] - 10s 27ms/step - loss: 0.3200 - accuracy: 0.9047 - val_loss: 0.3446 - val_accuracy: 0.8987\n",
      "Epoch 16/100\n",
      "375/375 [==============================] - 10s 26ms/step - loss: 0.3130 - accuracy: 0.9067 - val_loss: 0.3415 - val_accuracy: 0.8997\n",
      "Epoch 17/100\n",
      "375/375 [==============================] - 10s 27ms/step - loss: 0.3059 - accuracy: 0.9084 - val_loss: 0.3367 - val_accuracy: 0.9011\n",
      "Epoch 18/100\n",
      "375/375 [==============================] - 11s 29ms/step - loss: 0.2998 - accuracy: 0.9104 - val_loss: 0.3355 - val_accuracy: 0.9023\n",
      "Epoch 19/100\n",
      "375/375 [==============================] - 10s 27ms/step - loss: 0.2947 - accuracy: 0.9116 - val_loss: 0.3297 - val_accuracy: 0.9032\n",
      "Epoch 20/100\n",
      "375/375 [==============================] - 10s 27ms/step - loss: 0.2886 - accuracy: 0.9132 - val_loss: 0.3306 - val_accuracy: 0.9039\n",
      "Epoch 21/100\n",
      "375/375 [==============================] - 10s 27ms/step - loss: 0.2842 - accuracy: 0.9144 - val_loss: 0.3279 - val_accuracy: 0.9042\n",
      "Epoch 22/100\n",
      "375/375 [==============================] - 10s 27ms/step - loss: 0.2780 - accuracy: 0.9160 - val_loss: 0.3275 - val_accuracy: 0.9049\n",
      "Epoch 23/100\n",
      "375/375 [==============================] - 10s 27ms/step - loss: 0.2747 - accuracy: 0.9171 - val_loss: 0.3231 - val_accuracy: 0.9059\n",
      "Epoch 24/100\n",
      "375/375 [==============================] - 10s 28ms/step - loss: 0.2705 - accuracy: 0.9182 - val_loss: 0.3232 - val_accuracy: 0.9069\n",
      "Epoch 25/100\n",
      "375/375 [==============================] - 10s 27ms/step - loss: 0.2658 - accuracy: 0.9197 - val_loss: 0.3214 - val_accuracy: 0.9069\n",
      "Epoch 26/100\n",
      "375/375 [==============================] - 10s 26ms/step - loss: 0.2614 - accuracy: 0.9206 - val_loss: 0.3183 - val_accuracy: 0.9077\n",
      "Epoch 27/100\n",
      "375/375 [==============================] - 10s 26ms/step - loss: 0.2583 - accuracy: 0.9215 - val_loss: 0.3180 - val_accuracy: 0.9080\n",
      "Epoch 28/100\n",
      "375/375 [==============================] - 10s 27ms/step - loss: 0.2541 - accuracy: 0.9227 - val_loss: 0.3178 - val_accuracy: 0.9085\n",
      "Epoch 29/100\n",
      "375/375 [==============================] - 10s 26ms/step - loss: 0.2505 - accuracy: 0.9238 - val_loss: 0.3158 - val_accuracy: 0.9092\n",
      "Epoch 30/100\n",
      "375/375 [==============================] - 11s 29ms/step - loss: 0.2475 - accuracy: 0.9247 - val_loss: 0.3147 - val_accuracy: 0.9095\n",
      "Epoch 31/100\n",
      "375/375 [==============================] - 10s 27ms/step - loss: 0.2448 - accuracy: 0.9252 - val_loss: 0.3152 - val_accuracy: 0.9093\n",
      "Epoch 32/100\n",
      "375/375 [==============================] - 10s 26ms/step - loss: 0.2410 - accuracy: 0.9263 - val_loss: 0.3138 - val_accuracy: 0.9102\n",
      "Epoch 33/100\n",
      "375/375 [==============================] - 10s 26ms/step - loss: 0.2376 - accuracy: 0.9272 - val_loss: 0.3153 - val_accuracy: 0.9098\n",
      "Epoch 34/100\n",
      "375/375 [==============================] - 10s 27ms/step - loss: 0.2351 - accuracy: 0.9279 - val_loss: 0.3138 - val_accuracy: 0.9105\n",
      "Epoch 35/100\n",
      "375/375 [==============================] - 10s 26ms/step - loss: 0.2324 - accuracy: 0.9286 - val_loss: 0.3140 - val_accuracy: 0.9111\n",
      "Epoch 36/100\n",
      "375/375 [==============================] - 10s 27ms/step - loss: 0.2297 - accuracy: 0.9295 - val_loss: 0.3127 - val_accuracy: 0.9113\n",
      "Epoch 37/100\n",
      "375/375 [==============================] - 10s 26ms/step - loss: 0.2264 - accuracy: 0.9303 - val_loss: 0.3151 - val_accuracy: 0.9108\n",
      "Epoch 38/100\n",
      "375/375 [==============================] - 10s 27ms/step - loss: 0.2247 - accuracy: 0.9308 - val_loss: 0.3144 - val_accuracy: 0.9113\n",
      "Epoch 39/100\n",
      "375/375 [==============================] - 10s 26ms/step - loss: 0.2215 - accuracy: 0.9317 - val_loss: 0.3131 - val_accuracy: 0.9116\n",
      "Epoch 40/100\n",
      "375/375 [==============================] - 10s 26ms/step - loss: 0.2195 - accuracy: 0.9322 - val_loss: 0.3129 - val_accuracy: 0.9121\n",
      "Epoch 41/100\n",
      "375/375 [==============================] - 10s 27ms/step - loss: 0.2170 - accuracy: 0.9330 - val_loss: 0.3128 - val_accuracy: 0.9122\n",
      "Epoch 42/100\n",
      "375/375 [==============================] - 10s 27ms/step - loss: 0.2151 - accuracy: 0.9335 - val_loss: 0.3126 - val_accuracy: 0.9124\n",
      "Epoch 43/100\n",
      "375/375 [==============================] - 10s 26ms/step - loss: 0.2129 - accuracy: 0.9340 - val_loss: 0.3148 - val_accuracy: 0.9121\n",
      "Epoch 44/100\n",
      "375/375 [==============================] - 10s 26ms/step - loss: 0.2105 - accuracy: 0.9349 - val_loss: 0.3118 - val_accuracy: 0.9129\n",
      "Epoch 45/100\n",
      "375/375 [==============================] - 10s 26ms/step - loss: 0.2085 - accuracy: 0.9351 - val_loss: 0.3154 - val_accuracy: 0.9118\n",
      "Epoch 46/100\n",
      "375/375 [==============================] - 10s 26ms/step - loss: 0.2055 - accuracy: 0.9362 - val_loss: 0.3111 - val_accuracy: 0.9134\n",
      "Epoch 47/100\n",
      "375/375 [==============================] - 10s 27ms/step - loss: 0.2041 - accuracy: 0.9366 - val_loss: 0.3134 - val_accuracy: 0.9130\n",
      "Epoch 48/100\n",
      "375/375 [==============================] - 10s 27ms/step - loss: 0.2014 - accuracy: 0.9374 - val_loss: 0.3134 - val_accuracy: 0.9131\n",
      "Epoch 49/100\n",
      "375/375 [==============================] - 10s 26ms/step - loss: 0.1995 - accuracy: 0.9376 - val_loss: 0.3144 - val_accuracy: 0.9134\n",
      "Epoch 50/100\n",
      "375/375 [==============================] - 10s 26ms/step - loss: 0.1995 - accuracy: 0.9377 - val_loss: 0.3157 - val_accuracy: 0.9136\n",
      "Epoch 51/100\n",
      "375/375 [==============================] - 10s 27ms/step - loss: 0.1958 - accuracy: 0.9388 - val_loss: 0.3154 - val_accuracy: 0.9132\n",
      "Epoch 52/100\n",
      "375/375 [==============================] - 10s 26ms/step - loss: 0.1952 - accuracy: 0.9390 - val_loss: 0.3143 - val_accuracy: 0.9133\n",
      "Epoch 53/100\n",
      "375/375 [==============================] - 10s 26ms/step - loss: 0.1931 - accuracy: 0.9395 - val_loss: 0.3158 - val_accuracy: 0.9134\n",
      "Epoch 54/100\n",
      "375/375 [==============================] - 11s 28ms/step - loss: 0.1918 - accuracy: 0.9400 - val_loss: 0.3165 - val_accuracy: 0.9136\n",
      "Epoch 55/100\n",
      "375/375 [==============================] - 10s 26ms/step - loss: 0.1899 - accuracy: 0.9404 - val_loss: 0.3154 - val_accuracy: 0.9140\n",
      "Epoch 56/100\n",
      "375/375 [==============================] - 10s 26ms/step - loss: 0.1884 - accuracy: 0.9409 - val_loss: 0.3142 - val_accuracy: 0.9142\n",
      "Epoch 57/100\n",
      "375/375 [==============================] - 10s 26ms/step - loss: 0.1868 - accuracy: 0.9414 - val_loss: 0.3142 - val_accuracy: 0.9142\n",
      "Epoch 58/100\n",
      "375/375 [==============================] - 10s 26ms/step - loss: 0.1850 - accuracy: 0.9418 - val_loss: 0.3167 - val_accuracy: 0.9134\n",
      "Epoch 59/100\n",
      "375/375 [==============================] - 10s 26ms/step - loss: 0.1837 - accuracy: 0.9421 - val_loss: 0.3153 - val_accuracy: 0.9145\n",
      "Epoch 60/100\n",
      "375/375 [==============================] - 10s 27ms/step - loss: 0.1817 - accuracy: 0.9426 - val_loss: 0.3182 - val_accuracy: 0.9141\n",
      "Epoch 61/100\n",
      "375/375 [==============================] - 10s 27ms/step - loss: 0.1806 - accuracy: 0.9430 - val_loss: 0.3173 - val_accuracy: 0.9142\n",
      "Epoch 62/100\n",
      "375/375 [==============================] - 10s 26ms/step - loss: 0.1802 - accuracy: 0.9431 - val_loss: 0.3191 - val_accuracy: 0.9137\n",
      "Epoch 63/100\n",
      "375/375 [==============================] - 10s 26ms/step - loss: 0.1779 - accuracy: 0.9438 - val_loss: 0.3198 - val_accuracy: 0.9140\n",
      "Epoch 64/100\n",
      "375/375 [==============================] - 10s 26ms/step - loss: 0.1768 - accuracy: 0.9441 - val_loss: 0.3172 - val_accuracy: 0.9145\n",
      "Epoch 65/100\n",
      "375/375 [==============================] - 10s 26ms/step - loss: 0.1756 - accuracy: 0.9445 - val_loss: 0.3207 - val_accuracy: 0.9144\n",
      "Epoch 66/100\n",
      "375/375 [==============================] - 10s 27ms/step - loss: 0.1749 - accuracy: 0.9447 - val_loss: 0.3184 - val_accuracy: 0.9142\n",
      "Epoch 67/100\n",
      "375/375 [==============================] - 10s 27ms/step - loss: 0.1732 - accuracy: 0.9452 - val_loss: 0.3180 - val_accuracy: 0.9146\n",
      "Epoch 68/100\n",
      "375/375 [==============================] - 10s 26ms/step - loss: 0.1715 - accuracy: 0.9455 - val_loss: 0.3194 - val_accuracy: 0.9144\n",
      "Epoch 69/100\n",
      "375/375 [==============================] - 10s 26ms/step - loss: 0.1697 - accuracy: 0.9461 - val_loss: 0.3201 - val_accuracy: 0.9146\n",
      "Epoch 70/100\n",
      "375/375 [==============================] - 10s 26ms/step - loss: 0.1707 - accuracy: 0.9460 - val_loss: 0.3197 - val_accuracy: 0.9143\n",
      "Epoch 71/100\n",
      "375/375 [==============================] - 10s 26ms/step - loss: 0.1683 - accuracy: 0.9465 - val_loss: 0.3216 - val_accuracy: 0.9146\n",
      "Epoch 72/100\n",
      "375/375 [==============================] - 11s 29ms/step - loss: 0.1674 - accuracy: 0.9467 - val_loss: 0.3229 - val_accuracy: 0.9138\n",
      "Epoch 73/100\n",
      "375/375 [==============================] - 10s 27ms/step - loss: 0.1666 - accuracy: 0.9470 - val_loss: 0.3234 - val_accuracy: 0.9146\n",
      "Epoch 74/100\n",
      "375/375 [==============================] - 10s 26ms/step - loss: 0.1657 - accuracy: 0.9475 - val_loss: 0.3231 - val_accuracy: 0.9144\n",
      "Epoch 75/100\n",
      "375/375 [==============================] - 10s 26ms/step - loss: 0.1648 - accuracy: 0.9476 - val_loss: 0.3231 - val_accuracy: 0.9142\n",
      "Epoch 76/100\n",
      "375/375 [==============================] - 10s 26ms/step - loss: 0.1631 - accuracy: 0.9480 - val_loss: 0.3230 - val_accuracy: 0.9146\n",
      "Epoch 77/100\n",
      "375/375 [==============================] - 10s 26ms/step - loss: 0.1626 - accuracy: 0.9480 - val_loss: 0.3225 - val_accuracy: 0.9148\n",
      "Epoch 78/100\n",
      "375/375 [==============================] - 10s 26ms/step - loss: 0.1611 - accuracy: 0.9486 - val_loss: 0.3239 - val_accuracy: 0.9146\n",
      "Epoch 79/100\n",
      "375/375 [==============================] - 10s 27ms/step - loss: 0.1612 - accuracy: 0.9486 - val_loss: 0.3233 - val_accuracy: 0.9146\n",
      "Epoch 80/100\n",
      "375/375 [==============================] - 10s 26ms/step - loss: 0.1585 - accuracy: 0.9492 - val_loss: 0.3240 - val_accuracy: 0.9148\n",
      "Epoch 81/100\n",
      "375/375 [==============================] - 10s 26ms/step - loss: 0.1581 - accuracy: 0.9495 - val_loss: 0.3254 - val_accuracy: 0.9148\n",
      "Epoch 82/100\n",
      "375/375 [==============================] - 10s 26ms/step - loss: 0.1579 - accuracy: 0.9496 - val_loss: 0.3256 - val_accuracy: 0.9152\n",
      "Epoch 83/100\n",
      "375/375 [==============================] - 10s 26ms/step - loss: 0.1560 - accuracy: 0.9499 - val_loss: 0.3278 - val_accuracy: 0.9142\n",
      "Epoch 84/100\n",
      "375/375 [==============================] - 10s 27ms/step - loss: 0.1563 - accuracy: 0.9500 - val_loss: 0.3276 - val_accuracy: 0.9144\n",
      "Epoch 85/100\n",
      "375/375 [==============================] - 10s 27ms/step - loss: 0.1549 - accuracy: 0.9503 - val_loss: 0.3259 - val_accuracy: 0.9147\n",
      "Epoch 86/100\n",
      "375/375 [==============================] - 10s 27ms/step - loss: 0.1534 - accuracy: 0.9508 - val_loss: 0.3276 - val_accuracy: 0.9143\n",
      "Epoch 87/100\n",
      "375/375 [==============================] - 10s 26ms/step - loss: 0.1527 - accuracy: 0.9510 - val_loss: 0.3282 - val_accuracy: 0.9148\n",
      "Epoch 88/100\n",
      "375/375 [==============================] - 10s 26ms/step - loss: 0.1531 - accuracy: 0.9508 - val_loss: 0.3286 - val_accuracy: 0.9148\n",
      "Epoch 89/100\n",
      "375/375 [==============================] - 10s 27ms/step - loss: 0.1522 - accuracy: 0.9510 - val_loss: 0.3256 - val_accuracy: 0.9150\n",
      "Epoch 90/100\n",
      "375/375 [==============================] - 10s 27ms/step - loss: 0.1496 - accuracy: 0.9518 - val_loss: 0.3304 - val_accuracy: 0.9147\n",
      "Epoch 91/100\n",
      "375/375 [==============================] - 10s 27ms/step - loss: 0.1507 - accuracy: 0.9517 - val_loss: 0.3273 - val_accuracy: 0.9147\n",
      "Epoch 92/100\n",
      "375/375 [==============================] - 10s 28ms/step - loss: 0.1490 - accuracy: 0.9519 - val_loss: 0.3300 - val_accuracy: 0.9147\n",
      "Epoch 93/100\n",
      "375/375 [==============================] - 10s 26ms/step - loss: 0.1480 - accuracy: 0.9521 - val_loss: 0.3305 - val_accuracy: 0.9146\n",
      "Epoch 94/100\n",
      "375/375 [==============================] - 10s 26ms/step - loss: 0.1476 - accuracy: 0.9524 - val_loss: 0.3295 - val_accuracy: 0.9146\n",
      "Epoch 95/100\n",
      "375/375 [==============================] - 10s 26ms/step - loss: 0.1469 - accuracy: 0.9525 - val_loss: 0.3267 - val_accuracy: 0.9156\n",
      "Epoch 96/100\n",
      "375/375 [==============================] - 10s 27ms/step - loss: 0.1461 - accuracy: 0.9528 - val_loss: 0.3303 - val_accuracy: 0.9148\n",
      "Epoch 97/100\n",
      "375/375 [==============================] - 10s 26ms/step - loss: 0.1461 - accuracy: 0.9528 - val_loss: 0.3322 - val_accuracy: 0.9147\n",
      "Epoch 98/100\n",
      "375/375 [==============================] - 10s 26ms/step - loss: 0.1449 - accuracy: 0.9531 - val_loss: 0.3305 - val_accuracy: 0.9150\n",
      "Epoch 99/100\n",
      "375/375 [==============================] - 10s 27ms/step - loss: 0.1439 - accuracy: 0.9534 - val_loss: 0.3299 - val_accuracy: 0.9148\n",
      "Epoch 100/100\n",
      "375/375 [==============================] - 10s 26ms/step - loss: 0.1444 - accuracy: 0.9533 - val_loss: 0.3331 - val_accuracy: 0.9146\n"
     ]
    },
    {
     "data": {
      "text/plain": [
       "<tensorflow.python.keras.callbacks.History at 0x7f3670400a10>"
      ]
     },
     "execution_count": 26,
     "metadata": {},
     "output_type": "execute_result"
    }
   ],
   "source": [
    "model.compile(\n",
    "    optimizer=\"rmsprop\", loss=\"categorical_crossentropy\", metrics=[\"accuracy\"]\n",
    ")\n",
    "model.fit(\n",
    "    [encoder_input_data, decoder_input_data],\n",
    "    decoder_target_data,\n",
    "    batch_size=batch_size,\n",
    "    epochs=epochs,\n",
    "    validation_split=0.2,\n",
    ")"
   ]
  },
  {
   "cell_type": "code",
   "execution_count": 27,
   "metadata": {
    "execution": {
     "iopub.execute_input": "2020-10-31T19:30:57.793961Z",
     "iopub.status.busy": "2020-10-31T19:30:57.793035Z",
     "iopub.status.idle": "2020-10-31T19:30:57.844345Z",
     "shell.execute_reply": "2020-10-31T19:30:57.843725Z"
    },
    "papermill": {
     "duration": 4.571275,
     "end_time": "2020-10-31T19:30:57.844456",
     "exception": false,
     "start_time": "2020-10-31T19:30:53.273181",
     "status": "completed"
    },
    "tags": []
   },
   "outputs": [],
   "source": [
    "model.save(\"engtorussian.h5\")"
   ]
  },
  {
   "cell_type": "code",
   "execution_count": 28,
   "metadata": {
    "execution": {
     "iopub.execute_input": "2020-10-31T19:31:08.332974Z",
     "iopub.status.busy": "2020-10-31T19:31:08.332140Z",
     "iopub.status.idle": "2020-10-31T19:31:08.334048Z",
     "shell.execute_reply": "2020-10-31T19:31:08.333536Z"
    },
    "papermill": {
     "duration": 5.52493,
     "end_time": "2020-10-31T19:31:08.334150",
     "exception": false,
     "start_time": "2020-10-31T19:31:02.809220",
     "status": "completed"
    },
    "tags": []
   },
   "outputs": [],
   "source": [
    "import keras"
   ]
  },
  {
   "cell_type": "code",
   "execution_count": 29,
   "metadata": {
    "execution": {
     "iopub.execute_input": "2020-10-31T19:31:18.021113Z",
     "iopub.status.busy": "2020-10-31T19:31:18.015233Z",
     "iopub.status.idle": "2020-10-31T19:31:19.438321Z",
     "shell.execute_reply": "2020-10-31T19:31:19.437474Z"
    },
    "papermill": {
     "duration": 6.00892,
     "end_time": "2020-10-31T19:31:19.438434",
     "exception": false,
     "start_time": "2020-10-31T19:31:13.429514",
     "status": "completed"
    },
    "tags": []
   },
   "outputs": [],
   "source": [
    "model = keras.models.load_model(\"engtorussian.h5\")\n",
    "encoder_inputs = model.input[0]  # input_1\n",
    "encoder_outputs_1, state_h_enc_1, state_c_enc_1 = model.layers[2].output \n",
    "encoder_outputs, state_h_enc, state_c_enc = model.layers[4].output \n",
    "encoder_states = [state_h_enc_1, state_c_enc_1,state_h_enc, state_c_enc]\n",
    "encoder_model_1 = keras.Model(encoder_inputs, encoder_states)"
   ]
  },
  {
   "cell_type": "code",
   "execution_count": 30,
   "metadata": {
    "execution": {
     "iopub.execute_input": "2020-10-31T19:31:28.716163Z",
     "iopub.status.busy": "2020-10-31T19:31:28.715482Z",
     "iopub.status.idle": "2020-10-31T19:31:29.184586Z",
     "shell.execute_reply": "2020-10-31T19:31:29.183729Z"
    },
    "papermill": {
     "duration": 5.025248,
     "end_time": "2020-10-31T19:31:29.184700",
     "exception": false,
     "start_time": "2020-10-31T19:31:24.159452",
     "status": "completed"
    },
    "tags": []
   },
   "outputs": [],
   "source": [
    "decoder_inputs = model.input[1]  \n",
    "decoder_state_input_h = keras.Input(shape=(latent_dim,),)\n",
    "decoder_state_input_c = keras.Input(shape=(latent_dim,),)\n",
    "decoder_state_input_h1 = Input(shape=(latent_dim,),)\n",
    "decoder_state_input_c1 = Input(shape=(latent_dim,),)\n",
    "decoder_states_inputs = [decoder_state_input_h, decoder_state_input_c,decoder_state_input_h1,decoder_state_input_c1]\n",
    "decoder_lstm = model.layers[3]\n",
    "dec_o, state_h, state_c = decoder_lstm(\n",
    "    decoder_inputs, initial_state=decoder_states_inputs[:2])\n",
    "decoder_lstm_1=model.layers[5]\n",
    "dec_o_1, state_h1, state_c1 = decoder_lstm_1(\n",
    "    dec_o, initial_state=decoder_states_inputs[-2:])\n",
    "decoder_states = [state_h,state_c,state_h1,state_c1]\n",
    "decoder_dense = model.layers[6]\n",
    "decoder_outputs = decoder_dense(dec_o_1)\n",
    "decoder_model = keras.Model(\n",
    "    [decoder_inputs] + decoder_states_inputs, [decoder_outputs] + decoder_states\n",
    ")"
   ]
  },
  {
   "cell_type": "code",
   "execution_count": 31,
   "metadata": {
    "execution": {
     "iopub.execute_input": "2020-10-31T19:31:38.904043Z",
     "iopub.status.busy": "2020-10-31T19:31:38.902241Z",
     "iopub.status.idle": "2020-10-31T19:31:38.904697Z",
     "shell.execute_reply": "2020-10-31T19:31:38.905208Z"
    },
    "papermill": {
     "duration": 4.956866,
     "end_time": "2020-10-31T19:31:38.905347",
     "exception": false,
     "start_time": "2020-10-31T19:31:33.948481",
     "status": "completed"
    },
    "tags": []
   },
   "outputs": [],
   "source": [
    "reverse_input_char_index ={}\n",
    "for i in range(len(english_character)):\n",
    "    reverse_input_char_index[i]=english_character[i]\n",
    "reverse_target_char_index ={}\n",
    "for i in range(len(russian_character)):\n",
    "    reverse_target_char_index[i]=russian_character[i]"
   ]
  },
  {
   "cell_type": "code",
   "execution_count": 32,
   "metadata": {
    "execution": {
     "iopub.execute_input": "2020-10-31T19:31:48.269153Z",
     "iopub.status.busy": "2020-10-31T19:31:48.268385Z",
     "iopub.status.idle": "2020-10-31T19:31:48.271781Z",
     "shell.execute_reply": "2020-10-31T19:31:48.271259Z"
    },
    "papermill": {
     "duration": 4.810716,
     "end_time": "2020-10-31T19:31:48.271927",
     "exception": false,
     "start_time": "2020-10-31T19:31:43.461211",
     "status": "completed"
    },
    "tags": []
   },
   "outputs": [],
   "source": [
    "def decode_sequence(input_seq):\n",
    "    states_value=encoder_model_1.predict(input_seq)\n",
    "    target_seq = np.zeros((1, 1, len(russian_character)))\n",
    "    target_seq[0, 0, russian_d[\"\\t\"]] = 1.0\n",
    "    flag=0\n",
    "    sent=\"\"\n",
    "    while flag==0:\n",
    "        output_tokens, h, c,h1,c1 = decoder_model.predict([target_seq] + states_value)\n",
    "        sample = np.argmax(output_tokens[0, -1, :])\n",
    "        sampled_char = reverse_target_char_index[sample]\n",
    "        sent+=sampled_char\n",
    "        if sampled_char == \"\\n\" or len(sent) > max_decoder_seq_length:\n",
    "            flag=1\n",
    "        target_seq = np.zeros((1, 1, len(russian_character)))\n",
    "        target_seq[0, 0,sample] = 1.0\n",
    "        states_value = [h, c,h1,c1]\n",
    "    return sent"
   ]
  },
  {
   "cell_type": "code",
   "execution_count": 33,
   "metadata": {
    "execution": {
     "iopub.execute_input": "2020-10-31T19:31:57.698710Z",
     "iopub.status.busy": "2020-10-31T19:31:57.697277Z",
     "iopub.status.idle": "2020-10-31T19:31:57.699381Z",
     "shell.execute_reply": "2020-10-31T19:31:57.699835Z"
    },
    "papermill": {
     "duration": 4.729324,
     "end_time": "2020-10-31T19:31:57.699980",
     "exception": false,
     "start_time": "2020-10-31T19:31:52.970656",
     "status": "completed"
    },
    "tags": []
   },
   "outputs": [],
   "source": [
    "english='who?'"
   ]
  },
  {
   "cell_type": "code",
   "execution_count": 34,
   "metadata": {
    "execution": {
     "iopub.execute_input": "2020-10-31T19:32:07.940176Z",
     "iopub.status.busy": "2020-10-31T19:32:07.938320Z",
     "iopub.status.idle": "2020-10-31T19:32:07.940873Z",
     "shell.execute_reply": "2020-10-31T19:32:07.941463Z"
    },
    "papermill": {
     "duration": 5.654247,
     "end_time": "2020-10-31T19:32:07.941598",
     "exception": false,
     "start_time": "2020-10-31T19:32:02.287351",
     "status": "completed"
    },
    "tags": []
   },
   "outputs": [],
   "source": [
    "k=len(english)\n",
    "m=0\n",
    "a=[]\n",
    "b=[]\n",
    "c=[]\n",
    "inpu=[]\n",
    "while m<k:\n",
    "    for char in english[m]:\n",
    "        for i in range(len(english_character)):\n",
    "            if english_d[char]==i:\n",
    "                a.append(1)\n",
    "            else:\n",
    "                a.append(0)\n",
    "    for kp in a:\n",
    "        b.append(kp)\n",
    "    c.append(b)\n",
    "    b=[]\n",
    "    a=[]\n",
    "    m=m+1\n",
    "while m<max_encoder_seq_length:\n",
    "        for i in range(len(english_character)):\n",
    "            if i==0:\n",
    "                a.append(1)\n",
    "            else:\n",
    "                a.append(0)\n",
    "        for kp in a:\n",
    "            b.append(kp)\n",
    "        c.append(b)\n",
    "        b=[]\n",
    "        a=[]\n",
    "        m=m+1\n",
    "inpu.append(c)"
   ]
  },
  {
   "cell_type": "code",
   "execution_count": 35,
   "metadata": {
    "execution": {
     "iopub.execute_input": "2020-10-31T19:32:17.836667Z",
     "iopub.status.busy": "2020-10-31T19:32:17.835745Z",
     "iopub.status.idle": "2020-10-31T19:32:17.837598Z",
     "shell.execute_reply": "2020-10-31T19:32:17.838155Z"
    },
    "papermill": {
     "duration": 4.792545,
     "end_time": "2020-10-31T19:32:17.838285",
     "exception": false,
     "start_time": "2020-10-31T19:32:13.045740",
     "status": "completed"
    },
    "tags": []
   },
   "outputs": [],
   "source": [
    "inpu=np.array(inpu)"
   ]
  },
  {
   "cell_type": "code",
   "execution_count": 36,
   "metadata": {
    "execution": {
     "iopub.execute_input": "2020-10-31T19:32:26.863744Z",
     "iopub.status.busy": "2020-10-31T19:32:26.862812Z",
     "iopub.status.idle": "2020-10-31T19:32:26.867592Z",
     "shell.execute_reply": "2020-10-31T19:32:26.867113Z"
    },
    "papermill": {
     "duration": 4.525243,
     "end_time": "2020-10-31T19:32:26.867696",
     "exception": false,
     "start_time": "2020-10-31T19:32:22.342453",
     "status": "completed"
    },
    "tags": []
   },
   "outputs": [
    {
     "data": {
      "text/plain": [
       "array([[[0, 0, 0, ..., 0, 0, 0],\n",
       "        [0, 0, 0, ..., 0, 0, 0],\n",
       "        [0, 0, 0, ..., 0, 0, 0],\n",
       "        ...,\n",
       "        [1, 0, 0, ..., 0, 0, 0],\n",
       "        [1, 0, 0, ..., 0, 0, 0],\n",
       "        [1, 0, 0, ..., 0, 0, 0]]])"
      ]
     },
     "execution_count": 36,
     "metadata": {},
     "output_type": "execute_result"
    }
   ],
   "source": [
    "inpu"
   ]
  },
  {
   "cell_type": "code",
   "execution_count": 37,
   "metadata": {
    "execution": {
     "iopub.execute_input": "2020-10-31T19:32:36.155658Z",
     "iopub.status.busy": "2020-10-31T19:32:36.154776Z",
     "iopub.status.idle": "2020-10-31T19:32:37.583700Z",
     "shell.execute_reply": "2020-10-31T19:32:37.582435Z"
    },
    "papermill": {
     "duration": 5.951649,
     "end_time": "2020-10-31T19:32:37.583817",
     "exception": false,
     "start_time": "2020-10-31T19:32:31.632168",
     "status": "completed"
    },
    "tags": []
   },
   "outputs": [],
   "source": [
    "d=decode_sequence(inpu)"
   ]
  },
  {
   "cell_type": "code",
   "execution_count": 38,
   "metadata": {
    "execution": {
     "iopub.execute_input": "2020-10-31T19:32:47.359873Z",
     "iopub.status.busy": "2020-10-31T19:32:47.358581Z",
     "iopub.status.idle": "2020-10-31T19:32:47.362675Z",
     "shell.execute_reply": "2020-10-31T19:32:47.360498Z"
    },
    "papermill": {
     "duration": 4.567995,
     "end_time": "2020-10-31T19:32:47.362813",
     "exception": false,
     "start_time": "2020-10-31T19:32:42.794818",
     "status": "completed"
    },
    "tags": []
   },
   "outputs": [
    {
     "name": "stdout",
     "output_type": "stream",
     "text": [
      "Кто?\n",
      "\n"
     ]
    }
   ],
   "source": [
    "print(d)"
   ]
  }
 ],
 "metadata": {
  "kernelspec": {
   "display_name": "Python 3",
   "language": "python",
   "name": "python3"
  },
  "language_info": {
   "codemirror_mode": {
    "name": "ipython",
    "version": 3
   },
   "file_extension": ".py",
   "mimetype": "text/x-python",
   "name": "python",
   "nbconvert_exporter": "python",
   "pygments_lexer": "ipython3",
   "version": "3.7.6"
  },
  "papermill": {
   "duration": 1431.549751,
   "end_time": "2020-10-31T19:32:53.915498",
   "environment_variables": {},
   "exception": null,
   "input_path": "__notebook__.ipynb",
   "output_path": "__notebook__.ipynb",
   "parameters": {},
   "start_time": "2020-10-31T19:09:02.365747",
   "version": "2.1.0"
  }
 },
 "nbformat": 4,
 "nbformat_minor": 4
}
