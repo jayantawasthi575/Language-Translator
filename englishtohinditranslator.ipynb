{
 "cells": [
  {
   "cell_type": "code",
   "execution_count": 1,
   "metadata": {
    "_cell_guid": "b1076dfc-b9ad-4769-8c92-a6c4dae69d19",
    "_uuid": "8f2839f25d086af736a60e9eeb907d3b93b6e0e5",
    "execution": {
     "iopub.execute_input": "2020-10-31T15:44:33.899978Z",
     "iopub.status.busy": "2020-10-31T15:44:33.899014Z",
     "iopub.status.idle": "2020-10-31T15:44:33.906698Z",
     "shell.execute_reply": "2020-10-31T15:44:33.907491Z"
    },
    "papermill": {
     "duration": 0.057284,
     "end_time": "2020-10-31T15:44:33.907710",
     "exception": false,
     "start_time": "2020-10-31T15:44:33.850426",
     "status": "completed"
    },
    "tags": []
   },
   "outputs": [
    {
     "name": "stdout",
     "output_type": "stream",
     "text": [
      "/kaggle/input/hindienglish-corpora/Hindi_English_Truncated_Corpus.csv\n"
     ]
    }
   ],
   "source": [
    "# This Python 3 environment comes with many helpful analytics libraries installed\n",
    "# It is defined by the kaggle/python Docker image: https://github.com/kaggle/docker-python\n",
    "# For example, here's several helpful packages to load\n",
    "\n",
    "import numpy as np # linear algebra\n",
    "import pandas as pd # data processing, CSV file I/O (e.g. pd.read_csv)\n",
    "\n",
    "# Input data files are available in the read-only \"../input/\" directory\n",
    "# For example, running this (by clicking run or pressing Shift+Enter) will list all files under the input directory\n",
    "\n",
    "import os\n",
    "for dirname, _, filenames in os.walk('/kaggle/input'):\n",
    "    for filename in filenames:\n",
    "        print(os.path.join(dirname, filename))\n",
    "\n",
    "# You can write up to 20GB to the current directory (/kaggle/working/) that gets preserved as output when you create a version using \"Save & Run All\" \n",
    "# You can also write temporary files to /kaggle/temp/, but they won't be saved outside of the current session"
   ]
  },
  {
   "cell_type": "code",
   "execution_count": 2,
   "metadata": {
    "_cell_guid": "79c7e3d0-c299-4dcb-8224-4455121ee9b0",
    "_uuid": "d629ff2d2480ee46fbb7e2d37f6b5fab8052498a",
    "execution": {
     "iopub.execute_input": "2020-10-31T15:44:33.994082Z",
     "iopub.status.busy": "2020-10-31T15:44:33.993356Z",
     "iopub.status.idle": "2020-10-31T15:44:34.766107Z",
     "shell.execute_reply": "2020-10-31T15:44:34.764796Z"
    },
    "papermill": {
     "duration": 0.81806,
     "end_time": "2020-10-31T15:44:34.766273",
     "exception": false,
     "start_time": "2020-10-31T15:44:33.948213",
     "status": "completed"
    },
    "tags": []
   },
   "outputs": [],
   "source": [
    "data=pd.read_csv(\"/kaggle/input/hindienglish-corpora/Hindi_English_Truncated_Corpus.csv\")"
   ]
  },
  {
   "cell_type": "code",
   "execution_count": 3,
   "metadata": {
    "execution": {
     "iopub.execute_input": "2020-10-31T15:44:34.864034Z",
     "iopub.status.busy": "2020-10-31T15:44:34.862886Z",
     "iopub.status.idle": "2020-10-31T15:44:34.873477Z",
     "shell.execute_reply": "2020-10-31T15:44:34.874069Z"
    },
    "papermill": {
     "duration": 0.068301,
     "end_time": "2020-10-31T15:44:34.874250",
     "exception": false,
     "start_time": "2020-10-31T15:44:34.805949",
     "status": "completed"
    },
    "tags": []
   },
   "outputs": [
    {
     "data": {
      "text/html": [
       "<div>\n",
       "<style scoped>\n",
       "    .dataframe tbody tr th:only-of-type {\n",
       "        vertical-align: middle;\n",
       "    }\n",
       "\n",
       "    .dataframe tbody tr th {\n",
       "        vertical-align: top;\n",
       "    }\n",
       "\n",
       "    .dataframe thead th {\n",
       "        text-align: right;\n",
       "    }\n",
       "</style>\n",
       "<table border=\"1\" class=\"dataframe\">\n",
       "  <thead>\n",
       "    <tr style=\"text-align: right;\">\n",
       "      <th></th>\n",
       "      <th>source</th>\n",
       "      <th>english_sentence</th>\n",
       "      <th>hindi_sentence</th>\n",
       "    </tr>\n",
       "  </thead>\n",
       "  <tbody>\n",
       "    <tr>\n",
       "      <th>0</th>\n",
       "      <td>ted</td>\n",
       "      <td>politicians do not have permission to do what ...</td>\n",
       "      <td>राजनीतिज्ञों के पास जो कार्य करना चाहिए, वह कर...</td>\n",
       "    </tr>\n",
       "    <tr>\n",
       "      <th>1</th>\n",
       "      <td>ted</td>\n",
       "      <td>I'd like to tell you about one such child,</td>\n",
       "      <td>मई आपको ऐसे ही एक बच्चे के बारे में बताना चाहू...</td>\n",
       "    </tr>\n",
       "    <tr>\n",
       "      <th>2</th>\n",
       "      <td>indic2012</td>\n",
       "      <td>This percentage is even greater than the perce...</td>\n",
       "      <td>यह प्रतिशत भारत में हिन्दुओं प्रतिशत से अधिक है।</td>\n",
       "    </tr>\n",
       "    <tr>\n",
       "      <th>3</th>\n",
       "      <td>ted</td>\n",
       "      <td>what we really mean is that they're bad at not...</td>\n",
       "      <td>हम ये नहीं कहना चाहते कि वो ध्यान नहीं दे पाते</td>\n",
       "    </tr>\n",
       "    <tr>\n",
       "      <th>4</th>\n",
       "      <td>indic2012</td>\n",
       "      <td>.The ending portion of these Vedas is called U...</td>\n",
       "      <td>इन्हीं वेदों का अंतिम भाग उपनिषद कहलाता है।</td>\n",
       "    </tr>\n",
       "  </tbody>\n",
       "</table>\n",
       "</div>"
      ],
      "text/plain": [
       "      source                                   english_sentence  \\\n",
       "0        ted  politicians do not have permission to do what ...   \n",
       "1        ted         I'd like to tell you about one such child,   \n",
       "2  indic2012  This percentage is even greater than the perce...   \n",
       "3        ted  what we really mean is that they're bad at not...   \n",
       "4  indic2012  .The ending portion of these Vedas is called U...   \n",
       "\n",
       "                                      hindi_sentence  \n",
       "0  राजनीतिज्ञों के पास जो कार्य करना चाहिए, वह कर...  \n",
       "1  मई आपको ऐसे ही एक बच्चे के बारे में बताना चाहू...  \n",
       "2   यह प्रतिशत भारत में हिन्दुओं प्रतिशत से अधिक है।  \n",
       "3     हम ये नहीं कहना चाहते कि वो ध्यान नहीं दे पाते  \n",
       "4        इन्हीं वेदों का अंतिम भाग उपनिषद कहलाता है।  "
      ]
     },
     "execution_count": 3,
     "metadata": {},
     "output_type": "execute_result"
    }
   ],
   "source": [
    "data.head()"
   ]
  },
  {
   "cell_type": "code",
   "execution_count": 4,
   "metadata": {
    "execution": {
     "iopub.execute_input": "2020-10-31T15:44:34.963123Z",
     "iopub.status.busy": "2020-10-31T15:44:34.961972Z",
     "iopub.status.idle": "2020-10-31T15:44:34.972687Z",
     "shell.execute_reply": "2020-10-31T15:44:34.972095Z"
    },
    "papermill": {
     "duration": 0.057593,
     "end_time": "2020-10-31T15:44:34.972804",
     "exception": false,
     "start_time": "2020-10-31T15:44:34.915211",
     "status": "completed"
    },
    "tags": []
   },
   "outputs": [],
   "source": [
    "data.drop([\"source\"],axis=1,inplace=True)"
   ]
  },
  {
   "cell_type": "code",
   "execution_count": 5,
   "metadata": {
    "execution": {
     "iopub.execute_input": "2020-10-31T15:44:35.064563Z",
     "iopub.status.busy": "2020-10-31T15:44:35.063813Z",
     "iopub.status.idle": "2020-10-31T15:44:35.071463Z",
     "shell.execute_reply": "2020-10-31T15:44:35.070853Z"
    },
    "papermill": {
     "duration": 0.058402,
     "end_time": "2020-10-31T15:44:35.071580",
     "exception": false,
     "start_time": "2020-10-31T15:44:35.013178",
     "status": "completed"
    },
    "tags": []
   },
   "outputs": [
    {
     "data": {
      "text/html": [
       "<div>\n",
       "<style scoped>\n",
       "    .dataframe tbody tr th:only-of-type {\n",
       "        vertical-align: middle;\n",
       "    }\n",
       "\n",
       "    .dataframe tbody tr th {\n",
       "        vertical-align: top;\n",
       "    }\n",
       "\n",
       "    .dataframe thead th {\n",
       "        text-align: right;\n",
       "    }\n",
       "</style>\n",
       "<table border=\"1\" class=\"dataframe\">\n",
       "  <thead>\n",
       "    <tr style=\"text-align: right;\">\n",
       "      <th></th>\n",
       "      <th>english_sentence</th>\n",
       "      <th>hindi_sentence</th>\n",
       "    </tr>\n",
       "  </thead>\n",
       "  <tbody>\n",
       "    <tr>\n",
       "      <th>310</th>\n",
       "      <td>As a result , production of super varieties wa...</td>\n",
       "      <td>परिणामस्वरूप , अत्यधिक उन्नत किस्मों के उत्पाद...</td>\n",
       "    </tr>\n",
       "    <tr>\n",
       "      <th>311</th>\n",
       "      <td>The next breakthrough is to cut that 10 millio...</td>\n",
       "      <td>अगली उपलब्धि है उस एक करोड़ को आधा करना.</td>\n",
       "    </tr>\n",
       "    <tr>\n",
       "      <th>312</th>\n",
       "      <td>Spread over an area of 8,325 sq km in the Bay ...</td>\n",
       "      <td>बंगाल की खाड़ी में 8,325 वर्ग किमी में फैल यह ...</td>\n",
       "    </tr>\n",
       "    <tr>\n",
       "      <th>313</th>\n",
       "      <td>If we did we could dictate the agenda and Paki...</td>\n",
       "      <td>अगर हम चाहते तो अपनी बात मनवाकर पाकिस्तान को उ...</td>\n",
       "    </tr>\n",
       "    <tr>\n",
       "      <th>314</th>\n",
       "      <td>He continued to be a spokesman for the Muslims...</td>\n",
       "      <td>वह मुसलमानों के प्रवक़्ता बने रहे और जानते थे ...</td>\n",
       "    </tr>\n",
       "    <tr>\n",
       "      <th>315</th>\n",
       "      <td>one-upmanship.</td>\n",
       "      <td>होड़ चली है.</td>\n",
       "    </tr>\n",
       "    <tr>\n",
       "      <th>316</th>\n",
       "      <td>if you made literature affordable and availabl...</td>\n",
       "      <td>यदि हम खरीद पाने लायक मूल्य में उन्हें साहित्य...</td>\n",
       "    </tr>\n",
       "    <tr>\n",
       "      <th>317</th>\n",
       "      <td>No other national leader except Nehru shared t...</td>\n",
       "      <td>नेहरू को छोड़कर और किसी भी राष्ट्र नेता के मन ...</td>\n",
       "    </tr>\n",
       "    <tr>\n",
       "      <th>318</th>\n",
       "      <td>Now up until that moment,</td>\n",
       "      <td>अब तक उस पल तक</td>\n",
       "    </tr>\n",
       "    <tr>\n",
       "      <th>319</th>\n",
       "      <td>को सीखने के लिए खुला रख पाएँ</td>\n",
       "      <td>हो सकता है हम अपने दिमागों</td>\n",
       "    </tr>\n",
       "  </tbody>\n",
       "</table>\n",
       "</div>"
      ],
      "text/plain": [
       "                                      english_sentence  \\\n",
       "310  As a result , production of super varieties wa...   \n",
       "311  The next breakthrough is to cut that 10 millio...   \n",
       "312  Spread over an area of 8,325 sq km in the Bay ...   \n",
       "313  If we did we could dictate the agenda and Paki...   \n",
       "314  He continued to be a spokesman for the Muslims...   \n",
       "315                                     one-upmanship.   \n",
       "316  if you made literature affordable and availabl...   \n",
       "317  No other national leader except Nehru shared t...   \n",
       "318                          Now up until that moment,   \n",
       "319                       को सीखने के लिए खुला रख पाएँ   \n",
       "\n",
       "                                        hindi_sentence  \n",
       "310  परिणामस्वरूप , अत्यधिक उन्नत किस्मों के उत्पाद...  \n",
       "311           अगली उपलब्धि है उस एक करोड़ को आधा करना.  \n",
       "312  बंगाल की खाड़ी में 8,325 वर्ग किमी में फैल यह ...  \n",
       "313  अगर हम चाहते तो अपनी बात मनवाकर पाकिस्तान को उ...  \n",
       "314  वह मुसलमानों के प्रवक़्ता बने रहे और जानते थे ...  \n",
       "315                                       होड़ चली है.  \n",
       "316  यदि हम खरीद पाने लायक मूल्य में उन्हें साहित्य...  \n",
       "317  नेहरू को छोड़कर और किसी भी राष्ट्र नेता के मन ...  \n",
       "318                                     अब तक उस पल तक  \n",
       "319                         हो सकता है हम अपने दिमागों  "
      ]
     },
     "execution_count": 5,
     "metadata": {},
     "output_type": "execute_result"
    }
   ],
   "source": [
    "data[310:320]"
   ]
  },
  {
   "cell_type": "code",
   "execution_count": 6,
   "metadata": {
    "execution": {
     "iopub.execute_input": "2020-10-31T15:44:35.159460Z",
     "iopub.status.busy": "2020-10-31T15:44:35.158576Z",
     "iopub.status.idle": "2020-10-31T15:44:35.163796Z",
     "shell.execute_reply": "2020-10-31T15:44:35.163218Z"
    },
    "papermill": {
     "duration": 0.050815,
     "end_time": "2020-10-31T15:44:35.163919",
     "exception": false,
     "start_time": "2020-10-31T15:44:35.113104",
     "status": "completed"
    },
    "tags": []
   },
   "outputs": [],
   "source": [
    "import re"
   ]
  },
  {
   "cell_type": "code",
   "execution_count": 7,
   "metadata": {
    "execution": {
     "iopub.execute_input": "2020-10-31T15:44:35.273170Z",
     "iopub.status.busy": "2020-10-31T15:44:35.262862Z",
     "iopub.status.idle": "2020-10-31T15:44:36.051236Z",
     "shell.execute_reply": "2020-10-31T15:44:36.051809Z"
    },
    "papermill": {
     "duration": 0.847513,
     "end_time": "2020-10-31T15:44:36.051969",
     "exception": false,
     "start_time": "2020-10-31T15:44:35.204456",
     "status": "completed"
    },
    "tags": []
   },
   "outputs": [],
   "source": [
    "pattern=\"[a-zA-Z]\"\n",
    "b=[]\n",
    "for i in range(15000):\n",
    "    result=re.findall(pattern,data[\"english_sentence\"].iloc[i])\n",
    "    if len(result)==0:\n",
    "        b.append(i)\n",
    "    if len(data[\"english_sentence\"].iloc[i])>100:\n",
    "        b.append(i)"
   ]
  },
  {
   "cell_type": "code",
   "execution_count": 8,
   "metadata": {
    "execution": {
     "iopub.execute_input": "2020-10-31T15:44:36.163150Z",
     "iopub.status.busy": "2020-10-31T15:44:36.147754Z",
     "iopub.status.idle": "2020-10-31T15:44:36.810116Z",
     "shell.execute_reply": "2020-10-31T15:44:36.811465Z"
    },
    "papermill": {
     "duration": 0.718494,
     "end_time": "2020-10-31T15:44:36.811672",
     "exception": false,
     "start_time": "2020-10-31T15:44:36.093178",
     "status": "completed"
    },
    "tags": []
   },
   "outputs": [],
   "source": [
    "for i in range(15000):\n",
    "    result=re.findall(pattern,data[\"hindi_sentence\"].iloc[i])\n",
    "    if len(result)!=0:\n",
    "        b.append(i)\n",
    "    if len(data[\"hindi_sentence\"].iloc[i])>100:\n",
    "        b.append(i)\n",
    "        "
   ]
  },
  {
   "cell_type": "code",
   "execution_count": 9,
   "metadata": {
    "execution": {
     "iopub.execute_input": "2020-10-31T15:44:36.941532Z",
     "iopub.status.busy": "2020-10-31T15:44:36.940533Z",
     "iopub.status.idle": "2020-10-31T15:44:36.946409Z",
     "shell.execute_reply": "2020-10-31T15:44:36.947126Z"
    },
    "papermill": {
     "duration": 0.07367,
     "end_time": "2020-10-31T15:44:36.947348",
     "exception": false,
     "start_time": "2020-10-31T15:44:36.873678",
     "status": "completed"
    },
    "tags": []
   },
   "outputs": [
    {
     "data": {
      "text/plain": [
       "10261"
      ]
     },
     "execution_count": 9,
     "metadata": {},
     "output_type": "execute_result"
    }
   ],
   "source": [
    "len(b)"
   ]
  },
  {
   "cell_type": "code",
   "execution_count": 10,
   "metadata": {
    "execution": {
     "iopub.execute_input": "2020-10-31T15:44:37.075971Z",
     "iopub.status.busy": "2020-10-31T15:44:37.074952Z",
     "iopub.status.idle": "2020-10-31T15:44:37.082471Z",
     "shell.execute_reply": "2020-10-31T15:44:37.083261Z"
    },
    "papermill": {
     "duration": 0.074733,
     "end_time": "2020-10-31T15:44:37.083457",
     "exception": false,
     "start_time": "2020-10-31T15:44:37.008724",
     "status": "completed"
    },
    "tags": []
   },
   "outputs": [
    {
     "data": {
      "text/plain": [
       "'इस प्रकार , यद्यपि संपूर्ण ब्रिटिश इंडिया के लिए , भारत में सम्राट की ब्रिटिश प्रजा एवं सेवियों के लिए तथा ब्रिटिश इंडिया में और उससे बाहर ब्रिटिश इंडिया की सारी प्रजा के लिए केंद्रीय विधानमंडल की शक्ति को दोहराया गया परंतु उसकी अनेक महत्वपूर्ण सीमाएं बनी रहीं जो या तो ब्रिटिश संसद की प्रभुसत्ता ज्यों की त्यों बनाए रखने के लिए निर्धारित की गई थीं या Zइफर गवर्नर-जनरल तथा उसकी परिषद् की प्रभुसत्ता बनाए रखने के लिए .'"
      ]
     },
     "execution_count": 10,
     "metadata": {},
     "output_type": "execute_result"
    }
   ],
   "source": [
    "data[\"hindi_sentence\"].iloc[73]"
   ]
  },
  {
   "cell_type": "code",
   "execution_count": 11,
   "metadata": {
    "execution": {
     "iopub.execute_input": "2020-10-31T15:44:37.247773Z",
     "iopub.status.busy": "2020-10-31T15:44:37.244690Z",
     "iopub.status.idle": "2020-10-31T15:44:37.251081Z",
     "shell.execute_reply": "2020-10-31T15:44:37.250302Z"
    },
    "papermill": {
     "duration": 0.093897,
     "end_time": "2020-10-31T15:44:37.251239",
     "exception": false,
     "start_time": "2020-10-31T15:44:37.157342",
     "status": "completed"
    },
    "tags": []
   },
   "outputs": [
    {
     "data": {
      "text/plain": [
       "10261"
      ]
     },
     "execution_count": 11,
     "metadata": {},
     "output_type": "execute_result"
    }
   ],
   "source": [
    "len(b)"
   ]
  },
  {
   "cell_type": "code",
   "execution_count": 12,
   "metadata": {
    "execution": {
     "iopub.execute_input": "2020-10-31T15:44:37.373453Z",
     "iopub.status.busy": "2020-10-31T15:44:37.372465Z",
     "iopub.status.idle": "2020-10-31T15:44:37.374929Z",
     "shell.execute_reply": "2020-10-31T15:44:37.374227Z"
    },
    "papermill": {
     "duration": 0.068074,
     "end_time": "2020-10-31T15:44:37.375060",
     "exception": false,
     "start_time": "2020-10-31T15:44:37.306986",
     "status": "completed"
    },
    "tags": []
   },
   "outputs": [],
   "source": [
    "english_texts=[]\n",
    "hindi_texts=[]\n",
    "english_character=[]\n",
    "hindi_character=[]"
   ]
  },
  {
   "cell_type": "code",
   "execution_count": 13,
   "metadata": {
    "execution": {
     "iopub.execute_input": "2020-10-31T15:44:37.508505Z",
     "iopub.status.busy": "2020-10-31T15:44:37.507433Z",
     "iopub.status.idle": "2020-10-31T15:44:39.294491Z",
     "shell.execute_reply": "2020-10-31T15:44:39.293329Z"
    },
    "papermill": {
     "duration": 1.850299,
     "end_time": "2020-10-31T15:44:39.294622",
     "exception": false,
     "start_time": "2020-10-31T15:44:37.444323",
     "status": "completed"
    },
    "tags": []
   },
   "outputs": [],
   "source": [
    "for i in range(15000):\n",
    "    if i not in b:\n",
    "        english_texts.append(data[\"english_sentence\"].iloc[i])"
   ]
  },
  {
   "cell_type": "code",
   "execution_count": 14,
   "metadata": {
    "execution": {
     "iopub.execute_input": "2020-10-31T15:44:39.438607Z",
     "iopub.status.busy": "2020-10-31T15:44:39.422929Z",
     "iopub.status.idle": "2020-10-31T15:44:41.044298Z",
     "shell.execute_reply": "2020-10-31T15:44:41.043252Z"
    },
    "papermill": {
     "duration": 1.706094,
     "end_time": "2020-10-31T15:44:41.044430",
     "exception": false,
     "start_time": "2020-10-31T15:44:39.338336",
     "status": "completed"
    },
    "tags": []
   },
   "outputs": [],
   "source": [
    "for i in range(15000):\n",
    "    if i not in b:\n",
    "         hindi=\"\\t\"+data[\"hindi_sentence\"].iloc[i]+\"\\n\"\n",
    "         hindi_texts.append(hindi)"
   ]
  },
  {
   "cell_type": "code",
   "execution_count": 15,
   "metadata": {
    "execution": {
     "iopub.execute_input": "2020-10-31T15:44:41.140241Z",
     "iopub.status.busy": "2020-10-31T15:44:41.138788Z",
     "iopub.status.idle": "2020-10-31T15:44:41.143181Z",
     "shell.execute_reply": "2020-10-31T15:44:41.143720Z"
    },
    "papermill": {
     "duration": 0.055579,
     "end_time": "2020-10-31T15:44:41.143861",
     "exception": false,
     "start_time": "2020-10-31T15:44:41.088282",
     "status": "completed"
    },
    "tags": []
   },
   "outputs": [
    {
     "data": {
      "text/plain": [
       "9499"
      ]
     },
     "execution_count": 15,
     "metadata": {},
     "output_type": "execute_result"
    }
   ],
   "source": [
    "len(hindi_texts)"
   ]
  },
  {
   "cell_type": "code",
   "execution_count": 16,
   "metadata": {
    "execution": {
     "iopub.execute_input": "2020-10-31T15:44:41.277389Z",
     "iopub.status.busy": "2020-10-31T15:44:41.256979Z",
     "iopub.status.idle": "2020-10-31T15:44:42.040211Z",
     "shell.execute_reply": "2020-10-31T15:44:42.039566Z"
    },
    "papermill": {
     "duration": 0.851149,
     "end_time": "2020-10-31T15:44:42.040336",
     "exception": false,
     "start_time": "2020-10-31T15:44:41.189187",
     "status": "completed"
    },
    "tags": []
   },
   "outputs": [],
   "source": [
    "for i in english_texts:\n",
    "    for c in i:\n",
    "        if c not in english_character:\n",
    "            english_character.append(c)\n",
    "            english_character.sort()"
   ]
  },
  {
   "cell_type": "code",
   "execution_count": 17,
   "metadata": {
    "execution": {
     "iopub.execute_input": "2020-10-31T15:44:42.148087Z",
     "iopub.status.busy": "2020-10-31T15:44:42.142983Z",
     "iopub.status.idle": "2020-10-31T15:44:43.000782Z",
     "shell.execute_reply": "2020-10-31T15:44:43.000187Z"
    },
    "papermill": {
     "duration": 0.916171,
     "end_time": "2020-10-31T15:44:43.000907",
     "exception": false,
     "start_time": "2020-10-31T15:44:42.084736",
     "status": "completed"
    },
    "tags": []
   },
   "outputs": [],
   "source": [
    "for j in hindi_texts:\n",
    "    for c in j:\n",
    "        if c not in hindi_character:\n",
    "            hindi_character.append(c)\n",
    "            hindi_character.sort()"
   ]
  },
  {
   "cell_type": "code",
   "execution_count": 18,
   "metadata": {
    "execution": {
     "iopub.execute_input": "2020-10-31T15:44:43.097067Z",
     "iopub.status.busy": "2020-10-31T15:44:43.096221Z",
     "iopub.status.idle": "2020-10-31T15:44:43.100573Z",
     "shell.execute_reply": "2020-10-31T15:44:43.099901Z"
    },
    "papermill": {
     "duration": 0.054838,
     "end_time": "2020-10-31T15:44:43.100694",
     "exception": false,
     "start_time": "2020-10-31T15:44:43.045856",
     "status": "completed"
    },
    "tags": []
   },
   "outputs": [],
   "source": [
    "english_d={}\n",
    "for i in range(len(english_character)):\n",
    "    english_d[english_character[i]]=i"
   ]
  },
  {
   "cell_type": "code",
   "execution_count": 19,
   "metadata": {
    "execution": {
     "iopub.execute_input": "2020-10-31T15:44:43.198894Z",
     "iopub.status.busy": "2020-10-31T15:44:43.197476Z",
     "iopub.status.idle": "2020-10-31T15:44:43.199696Z",
     "shell.execute_reply": "2020-10-31T15:44:43.200259Z"
    },
    "papermill": {
     "duration": 0.054839,
     "end_time": "2020-10-31T15:44:43.200395",
     "exception": false,
     "start_time": "2020-10-31T15:44:43.145556",
     "status": "completed"
    },
    "tags": []
   },
   "outputs": [],
   "source": [
    "hindi_d={}\n",
    "for i in range(len(hindi_character)):\n",
    "    hindi_d[hindi_character[i]]=i"
   ]
  },
  {
   "cell_type": "code",
   "execution_count": 20,
   "metadata": {
    "execution": {
     "iopub.execute_input": "2020-10-31T15:44:43.297374Z",
     "iopub.status.busy": "2020-10-31T15:44:43.295947Z",
     "iopub.status.idle": "2020-10-31T15:44:43.298151Z",
     "shell.execute_reply": "2020-10-31T15:44:43.298693Z"
    },
    "papermill": {
     "duration": 0.054085,
     "end_time": "2020-10-31T15:44:43.298836",
     "exception": false,
     "start_time": "2020-10-31T15:44:43.244751",
     "status": "completed"
    },
    "tags": []
   },
   "outputs": [],
   "source": [
    "english_encoder_tokens = len(english_character)\n",
    "hindi_decoder_tokens = len(hindi_character)"
   ]
  },
  {
   "cell_type": "code",
   "execution_count": 21,
   "metadata": {
    "execution": {
     "iopub.execute_input": "2020-10-31T15:44:43.398484Z",
     "iopub.status.busy": "2020-10-31T15:44:43.397605Z",
     "iopub.status.idle": "2020-10-31T15:44:43.401662Z",
     "shell.execute_reply": "2020-10-31T15:44:43.401051Z"
    },
    "papermill": {
     "duration": 0.057374,
     "end_time": "2020-10-31T15:44:43.401775",
     "exception": false,
     "start_time": "2020-10-31T15:44:43.344401",
     "status": "completed"
    },
    "tags": []
   },
   "outputs": [],
   "source": [
    "max_encoder_seq_length=0\n",
    "for i in english_texts:\n",
    "    if len(i)>max_encoder_seq_length:\n",
    "        max_encoder_seq_length=len(i)"
   ]
  },
  {
   "cell_type": "code",
   "execution_count": 22,
   "metadata": {
    "execution": {
     "iopub.execute_input": "2020-10-31T15:44:43.503878Z",
     "iopub.status.busy": "2020-10-31T15:44:43.502166Z",
     "iopub.status.idle": "2020-10-31T15:44:43.504674Z",
     "shell.execute_reply": "2020-10-31T15:44:43.505238Z"
    },
    "papermill": {
     "duration": 0.057615,
     "end_time": "2020-10-31T15:44:43.505412",
     "exception": false,
     "start_time": "2020-10-31T15:44:43.447797",
     "status": "completed"
    },
    "tags": []
   },
   "outputs": [],
   "source": [
    "max_decoder_seq_length=0\n",
    "for i in hindi_texts:\n",
    "    if len(i)>max_decoder_seq_length:\n",
    "        max_decoder_seq_length=len(i)"
   ]
  },
  {
   "cell_type": "code",
   "execution_count": 23,
   "metadata": {
    "execution": {
     "iopub.execute_input": "2020-10-31T15:44:43.604751Z",
     "iopub.status.busy": "2020-10-31T15:44:43.603343Z",
     "iopub.status.idle": "2020-10-31T15:44:43.608181Z",
     "shell.execute_reply": "2020-10-31T15:44:43.608924Z"
    },
    "papermill": {
     "duration": 0.057741,
     "end_time": "2020-10-31T15:44:43.609091",
     "exception": false,
     "start_time": "2020-10-31T15:44:43.551350",
     "status": "completed"
    },
    "tags": []
   },
   "outputs": [
    {
     "data": {
      "text/plain": [
       "102"
      ]
     },
     "execution_count": 23,
     "metadata": {},
     "output_type": "execute_result"
    }
   ],
   "source": [
    "max_decoder_seq_length"
   ]
  },
  {
   "cell_type": "code",
   "execution_count": 24,
   "metadata": {
    "execution": {
     "iopub.execute_input": "2020-10-31T15:44:43.719146Z",
     "iopub.status.busy": "2020-10-31T15:44:43.718003Z",
     "iopub.status.idle": "2020-10-31T15:45:30.138022Z",
     "shell.execute_reply": "2020-10-31T15:45:30.137394Z"
    },
    "papermill": {
     "duration": 46.483313,
     "end_time": "2020-10-31T15:45:30.138184",
     "exception": false,
     "start_time": "2020-10-31T15:44:43.654871",
     "status": "completed"
    },
    "tags": []
   },
   "outputs": [],
   "source": [
    "encoder_input_data=[]\n",
    "for bb in range(len(english_texts)):\n",
    "    a=[]\n",
    "    b=[]\n",
    "    c=[]\n",
    "    k=len(english_texts[bb])\n",
    "    m=0\n",
    "    while m<k:\n",
    "        for char in english_texts[bb][m]:\n",
    "                           for i in range(len(english_character)):\n",
    "                                            if english_d[char]==i:\n",
    "                                                a.append(1)\n",
    "                                            else:\n",
    "                                                a.append(0)\n",
    "       \n",
    "        for kp in a:\n",
    "            b.append(kp)\n",
    "        c.append(b)\n",
    "        b=[]\n",
    "        a=[]\n",
    "        m=m+1\n",
    "    while m<max_encoder_seq_length:\n",
    "        for i in range(len(english_character)):\n",
    "            if i==0:\n",
    "                a.append(1)\n",
    "            else:\n",
    "                a.append(0)\n",
    "        for kp in a:\n",
    "            b.append(kp)\n",
    "        c.append(b)\n",
    "        b=[]\n",
    "        a=[]\n",
    "        m=m+1\n",
    "    encoder_input_data.append(c)\n"
   ]
  },
  {
   "cell_type": "code",
   "execution_count": 25,
   "metadata": {
    "execution": {
     "iopub.execute_input": "2020-10-31T15:45:51.516427Z",
     "iopub.status.busy": "2020-10-31T15:45:51.515491Z",
     "iopub.status.idle": "2020-10-31T15:45:51.520927Z",
     "shell.execute_reply": "2020-10-31T15:45:51.519918Z"
    },
    "papermill": {
     "duration": 21.334239,
     "end_time": "2020-10-31T15:45:51.521067",
     "exception": false,
     "start_time": "2020-10-31T15:45:30.186828",
     "status": "completed"
    },
    "tags": []
   },
   "outputs": [],
   "source": [
    "encoder_input_data=np.array(encoder_input_data)"
   ]
  },
  {
   "cell_type": "code",
   "execution_count": 26,
   "metadata": {
    "execution": {
     "iopub.execute_input": "2020-10-31T15:45:51.684041Z",
     "iopub.status.busy": "2020-10-31T15:45:51.682768Z",
     "iopub.status.idle": "2020-10-31T15:45:51.687494Z",
     "shell.execute_reply": "2020-10-31T15:45:51.685003Z"
    },
    "papermill": {
     "duration": 0.100233,
     "end_time": "2020-10-31T15:45:51.687668",
     "exception": false,
     "start_time": "2020-10-31T15:45:51.587435",
     "status": "completed"
    },
    "tags": []
   },
   "outputs": [
    {
     "data": {
      "text/plain": [
       "(9499, 100, 97)"
      ]
     },
     "execution_count": 26,
     "metadata": {},
     "output_type": "execute_result"
    }
   ],
   "source": [
    "encoder_input_data.shape"
   ]
  },
  {
   "cell_type": "code",
   "execution_count": 27,
   "metadata": {
    "execution": {
     "iopub.execute_input": "2020-10-31T15:45:51.838518Z",
     "iopub.status.busy": "2020-10-31T15:45:51.837431Z",
     "iopub.status.idle": "2020-10-31T15:46:56.283769Z",
     "shell.execute_reply": "2020-10-31T15:46:56.283059Z"
    },
    "papermill": {
     "duration": 64.525794,
     "end_time": "2020-10-31T15:46:56.283892",
     "exception": false,
     "start_time": "2020-10-31T15:45:51.758098",
     "status": "completed"
    },
    "tags": []
   },
   "outputs": [],
   "source": [
    "decoder_input_data=[]\n",
    "for bb in range(len(hindi_texts)):\n",
    "    a=[]\n",
    "    b=[]\n",
    "    c=[]\n",
    "    k=len(hindi_texts[bb])\n",
    "    m=0\n",
    "    while m<k:\n",
    "        for char in hindi_texts[bb][m]:\n",
    "                           for i in range(len(hindi_character)):\n",
    "                                            if hindi_d[char]==i:\n",
    "                                                a.append(1)\n",
    "                                            else:\n",
    "                                                a.append(0)\n",
    "       \n",
    "        for kp in a:\n",
    "            b.append(kp)\n",
    "        c.append(b)\n",
    "        b=[]\n",
    "        a=[]\n",
    "        m=m+1\n",
    "    while m<max_decoder_seq_length:\n",
    "        for i in range(len(hindi_character)):\n",
    "            if i==0:\n",
    "                a.append(1)\n",
    "            else:\n",
    "                a.append(0)\n",
    "        for kp in a:\n",
    "            b.append(kp)\n",
    "        c.append(b)\n",
    "        b=[]\n",
    "        a=[]\n",
    "        m=m+1\n",
    "    decoder_input_data.append(c)"
   ]
  },
  {
   "cell_type": "code",
   "execution_count": 28,
   "metadata": {
    "execution": {
     "iopub.execute_input": "2020-10-31T15:47:27.249026Z",
     "iopub.status.busy": "2020-10-31T15:47:27.200236Z",
     "iopub.status.idle": "2020-10-31T15:47:27.250321Z",
     "shell.execute_reply": "2020-10-31T15:47:27.249714Z"
    },
    "papermill": {
     "duration": 30.91868,
     "end_time": "2020-10-31T15:47:27.250435",
     "exception": false,
     "start_time": "2020-10-31T15:46:56.331755",
     "status": "completed"
    },
    "tags": []
   },
   "outputs": [],
   "source": [
    "decoder_input_data=np.array(decoder_input_data)"
   ]
  },
  {
   "cell_type": "code",
   "execution_count": 29,
   "metadata": {
    "execution": {
     "iopub.execute_input": "2020-10-31T15:47:27.361932Z",
     "iopub.status.busy": "2020-10-31T15:47:27.360393Z",
     "iopub.status.idle": "2020-10-31T15:47:27.365472Z",
     "shell.execute_reply": "2020-10-31T15:47:27.364819Z"
    },
    "papermill": {
     "duration": 0.059831,
     "end_time": "2020-10-31T15:47:27.365592",
     "exception": false,
     "start_time": "2020-10-31T15:47:27.305761",
     "status": "completed"
    },
    "tags": []
   },
   "outputs": [
    {
     "data": {
      "text/plain": [
       "(9499, 102, 132)"
      ]
     },
     "execution_count": 29,
     "metadata": {},
     "output_type": "execute_result"
    }
   ],
   "source": [
    "decoder_input_data.shape"
   ]
  },
  {
   "cell_type": "code",
   "execution_count": 30,
   "metadata": {
    "execution": {
     "iopub.execute_input": "2020-10-31T15:47:27.497678Z",
     "iopub.status.busy": "2020-10-31T15:47:27.487531Z",
     "iopub.status.idle": "2020-10-31T15:48:32.857442Z",
     "shell.execute_reply": "2020-10-31T15:48:32.856602Z"
    },
    "papermill": {
     "duration": 65.443273,
     "end_time": "2020-10-31T15:48:32.857587",
     "exception": false,
     "start_time": "2020-10-31T15:47:27.414314",
     "status": "completed"
    },
    "tags": []
   },
   "outputs": [],
   "source": [
    "decoder_target_data=[]\n",
    "for bb in range(len(hindi_texts)):\n",
    "    a=[]\n",
    "    b=[]\n",
    "    c=[]\n",
    "    k=len(hindi_texts[bb])\n",
    "    m=1\n",
    "    while m<k:\n",
    "        for char in hindi_texts[bb][m]:\n",
    "                           for i in range(len(hindi_character)):\n",
    "                                            if hindi_d[char]==i:\n",
    "                                                a.append(1)\n",
    "                                            else:\n",
    "                                                a.append(0)\n",
    "       \n",
    "        for kp in a:\n",
    "            b.append(kp)\n",
    "        c.append(b)\n",
    "        b=[]\n",
    "        a=[]\n",
    "        m=m+1\n",
    "    m=m-1\n",
    "    while m<max_decoder_seq_length:\n",
    "        for i in range(len(hindi_character)):\n",
    "            if i==0:\n",
    "                a.append(1)\n",
    "            else:\n",
    "                a.append(0)\n",
    "        for kp in a:\n",
    "            b.append(kp)\n",
    "        c.append(b)\n",
    "        b=[]\n",
    "        a=[]\n",
    "        m=m+1\n",
    "    decoder_target_data.append(c)"
   ]
  },
  {
   "cell_type": "code",
   "execution_count": 31,
   "metadata": {
    "execution": {
     "iopub.execute_input": "2020-10-31T15:49:03.586747Z",
     "iopub.status.busy": "2020-10-31T15:49:03.536692Z",
     "iopub.status.idle": "2020-10-31T15:49:03.588039Z",
     "shell.execute_reply": "2020-10-31T15:49:03.587449Z"
    },
    "papermill": {
     "duration": 30.682051,
     "end_time": "2020-10-31T15:49:03.588173",
     "exception": false,
     "start_time": "2020-10-31T15:48:32.906122",
     "status": "completed"
    },
    "tags": []
   },
   "outputs": [],
   "source": [
    "decoder_target_data=np.array(decoder_target_data)"
   ]
  },
  {
   "cell_type": "code",
   "execution_count": 32,
   "metadata": {
    "execution": {
     "iopub.execute_input": "2020-10-31T15:49:03.704721Z",
     "iopub.status.busy": "2020-10-31T15:49:03.703146Z",
     "iopub.status.idle": "2020-10-31T15:49:03.708582Z",
     "shell.execute_reply": "2020-10-31T15:49:03.707924Z"
    },
    "papermill": {
     "duration": 0.072191,
     "end_time": "2020-10-31T15:49:03.708707",
     "exception": false,
     "start_time": "2020-10-31T15:49:03.636516",
     "status": "completed"
    },
    "tags": []
   },
   "outputs": [
    {
     "data": {
      "text/plain": [
       "(9499, 102, 132)"
      ]
     },
     "execution_count": 32,
     "metadata": {},
     "output_type": "execute_result"
    }
   ],
   "source": [
    "decoder_target_data.shape"
   ]
  },
  {
   "cell_type": "code",
   "execution_count": 33,
   "metadata": {
    "execution": {
     "iopub.execute_input": "2020-10-31T15:49:03.822385Z",
     "iopub.status.busy": "2020-10-31T15:49:03.821568Z",
     "iopub.status.idle": "2020-10-31T15:49:03.826649Z",
     "shell.execute_reply": "2020-10-31T15:49:03.825964Z"
    },
    "papermill": {
     "duration": 0.058468,
     "end_time": "2020-10-31T15:49:03.826761",
     "exception": false,
     "start_time": "2020-10-31T15:49:03.768293",
     "status": "completed"
    },
    "tags": []
   },
   "outputs": [],
   "source": [
    "batch_size = 64  # Batch size for training.\n",
    "epochs = 100 # Number of epochs to train for.\n",
    "latent_dim = 256 "
   ]
  },
  {
   "cell_type": "code",
   "execution_count": 34,
   "metadata": {
    "execution": {
     "iopub.execute_input": "2020-10-31T15:49:03.931941Z",
     "iopub.status.busy": "2020-10-31T15:49:03.931033Z",
     "iopub.status.idle": "2020-10-31T15:49:10.211430Z",
     "shell.execute_reply": "2020-10-31T15:49:10.212907Z"
    },
    "papermill": {
     "duration": 6.336558,
     "end_time": "2020-10-31T15:49:10.213107",
     "exception": false,
     "start_time": "2020-10-31T15:49:03.876549",
     "status": "completed"
    },
    "tags": []
   },
   "outputs": [],
   "source": [
    "from keras.layers import Dense\n",
    "from keras.layers import LSTM,Input\n",
    "from keras.models import Model"
   ]
  },
  {
   "cell_type": "code",
   "execution_count": 35,
   "metadata": {
    "execution": {
     "iopub.execute_input": "2020-10-31T15:49:10.378594Z",
     "iopub.status.busy": "2020-10-31T15:49:10.377406Z",
     "iopub.status.idle": "2020-10-31T15:49:14.331698Z",
     "shell.execute_reply": "2020-10-31T15:49:14.330998Z"
    },
    "papermill": {
     "duration": 4.041891,
     "end_time": "2020-10-31T15:49:14.331824",
     "exception": false,
     "start_time": "2020-10-31T15:49:10.289933",
     "status": "completed"
    },
    "tags": []
   },
   "outputs": [],
   "source": [
    "encoder_inputs = Input(shape=(None,len(english_character)))\n",
    "encoder = LSTM(latent_dim,dropout=0.2,return_sequences=True,return_state=True)\n",
    "encoder_outputs_1, state_h_1, state_c_1 = encoder(encoder_inputs)\n",
    "encoder = LSTM(latent_dim,dropout=0.2,return_state=True)\n",
    "encoder_outputs, state_h, state_c = encoder(encoder_outputs_1)\n",
    "encoder_states = [state_h_1,state_c_1,state_h, state_c]"
   ]
  },
  {
   "cell_type": "code",
   "execution_count": 36,
   "metadata": {
    "execution": {
     "iopub.execute_input": "2020-10-31T15:49:14.452766Z",
     "iopub.status.busy": "2020-10-31T15:49:14.451744Z",
     "iopub.status.idle": "2020-10-31T15:49:15.062425Z",
     "shell.execute_reply": "2020-10-31T15:49:15.061709Z"
    },
    "papermill": {
     "duration": 0.679822,
     "end_time": "2020-10-31T15:49:15.062574",
     "exception": false,
     "start_time": "2020-10-31T15:49:14.382752",
     "status": "completed"
    },
    "tags": []
   },
   "outputs": [],
   "source": [
    "decoder_inputs = Input(shape=(None, len(hindi_character)))\n",
    "decoder_lstm = LSTM(latent_dim,return_sequences=True,dropout=0.2,return_state=True)\n",
    "decoder_outputs_1, _, _ = decoder_lstm(decoder_inputs, initial_state=[state_h_1,state_c_1])\n",
    "decoder_lstm_1 = LSTM(latent_dim, return_sequences=True,dropout=0.2,return_state=True)\n",
    "decoder_outputs, _, _ = decoder_lstm_1(decoder_outputs_1, initial_state=[state_h,state_c])\n",
    "decoder_dense = Dense(len(hindi_character), activation=\"softmax\")\n",
    "decoder_outputs = decoder_dense(decoder_outputs)\n",
    "model=Model([encoder_inputs, decoder_inputs], decoder_outputs)"
   ]
  },
  {
   "cell_type": "code",
   "execution_count": 37,
   "metadata": {
    "execution": {
     "iopub.execute_input": "2020-10-31T15:49:15.173185Z",
     "iopub.status.busy": "2020-10-31T15:49:15.171868Z",
     "iopub.status.idle": "2020-10-31T15:49:15.180430Z",
     "shell.execute_reply": "2020-10-31T15:49:15.181026Z"
    },
    "papermill": {
     "duration": 0.068554,
     "end_time": "2020-10-31T15:49:15.181212",
     "exception": false,
     "start_time": "2020-10-31T15:49:15.112658",
     "status": "completed"
    },
    "tags": []
   },
   "outputs": [
    {
     "name": "stdout",
     "output_type": "stream",
     "text": [
      "Model: \"functional_1\"\n",
      "__________________________________________________________________________________________________\n",
      "Layer (type)                    Output Shape         Param #     Connected to                     \n",
      "==================================================================================================\n",
      "input_1 (InputLayer)            [(None, None, 97)]   0                                            \n",
      "__________________________________________________________________________________________________\n",
      "input_2 (InputLayer)            [(None, None, 132)]  0                                            \n",
      "__________________________________________________________________________________________________\n",
      "lstm (LSTM)                     [(None, None, 256),  362496      input_1[0][0]                    \n",
      "__________________________________________________________________________________________________\n",
      "lstm_2 (LSTM)                   [(None, None, 256),  398336      input_2[0][0]                    \n",
      "                                                                 lstm[0][1]                       \n",
      "                                                                 lstm[0][2]                       \n",
      "__________________________________________________________________________________________________\n",
      "lstm_1 (LSTM)                   [(None, 256), (None, 525312      lstm[0][0]                       \n",
      "__________________________________________________________________________________________________\n",
      "lstm_3 (LSTM)                   [(None, None, 256),  525312      lstm_2[0][0]                     \n",
      "                                                                 lstm_1[0][1]                     \n",
      "                                                                 lstm_1[0][2]                     \n",
      "__________________________________________________________________________________________________\n",
      "dense (Dense)                   (None, None, 132)    33924       lstm_3[0][0]                     \n",
      "==================================================================================================\n",
      "Total params: 1,845,380\n",
      "Trainable params: 1,845,380\n",
      "Non-trainable params: 0\n",
      "__________________________________________________________________________________________________\n"
     ]
    }
   ],
   "source": [
    "model.summary()"
   ]
  },
  {
   "cell_type": "code",
   "execution_count": 38,
   "metadata": {
    "execution": {
     "iopub.execute_input": "2020-10-31T15:49:15.288769Z",
     "iopub.status.busy": "2020-10-31T15:49:15.287713Z",
     "iopub.status.idle": "2020-10-31T15:49:15.293111Z",
     "shell.execute_reply": "2020-10-31T15:49:15.292449Z"
    },
    "papermill": {
     "duration": 0.061196,
     "end_time": "2020-10-31T15:49:15.293250",
     "exception": false,
     "start_time": "2020-10-31T15:49:15.232054",
     "status": "completed"
    },
    "tags": []
   },
   "outputs": [
    {
     "data": {
      "text/plain": [
       "<tensorflow.python.keras.layers.recurrent_v2.LSTM at 0x7f1c99697f50>"
      ]
     },
     "execution_count": 38,
     "metadata": {},
     "output_type": "execute_result"
    }
   ],
   "source": [
    "model.layers[2]"
   ]
  },
  {
   "cell_type": "code",
   "execution_count": 39,
   "metadata": {
    "execution": {
     "iopub.execute_input": "2020-10-31T15:49:15.409390Z",
     "iopub.status.busy": "2020-10-31T15:49:15.408639Z",
     "iopub.status.idle": "2020-10-31T16:02:18.090383Z",
     "shell.execute_reply": "2020-10-31T16:02:17.991398Z"
    },
    "papermill": {
     "duration": 782.746814,
     "end_time": "2020-10-31T16:02:18.090578",
     "exception": false,
     "start_time": "2020-10-31T15:49:15.343764",
     "status": "completed"
    },
    "tags": []
   },
   "outputs": [
    {
     "name": "stdout",
     "output_type": "stream",
     "text": [
      "Epoch 1/100\n",
      "119/119 [==============================] - 9s 80ms/step - loss: 1.7319 - accuracy: 0.6038 - val_loss: 1.5555 - val_accuracy: 0.6262\n",
      "Epoch 2/100\n",
      "119/119 [==============================] - 8s 64ms/step - loss: 1.4127 - accuracy: 0.6491 - val_loss: 1.2824 - val_accuracy: 0.6729\n",
      "Epoch 3/100\n",
      "119/119 [==============================] - 7s 63ms/step - loss: 1.2694 - accuracy: 0.6723 - val_loss: 1.1760 - val_accuracy: 0.6893\n",
      "Epoch 4/100\n",
      "119/119 [==============================] - 8s 65ms/step - loss: 1.2055 - accuracy: 0.6851 - val_loss: 1.1123 - val_accuracy: 0.7066\n",
      "Epoch 5/100\n",
      "119/119 [==============================] - 8s 65ms/step - loss: 1.1600 - accuracy: 0.6946 - val_loss: 1.0730 - val_accuracy: 0.7144\n",
      "Epoch 6/100\n",
      "119/119 [==============================] - 8s 64ms/step - loss: 1.1281 - accuracy: 0.7016 - val_loss: 1.0413 - val_accuracy: 0.7229\n",
      "Epoch 7/100\n",
      "119/119 [==============================] - 7s 63ms/step - loss: 1.1013 - accuracy: 0.7076 - val_loss: 1.0083 - val_accuracy: 0.7299\n",
      "Epoch 8/100\n",
      "119/119 [==============================] - 7s 63ms/step - loss: 1.0792 - accuracy: 0.7118 - val_loss: 0.9932 - val_accuracy: 0.7336\n",
      "Epoch 9/100\n",
      "119/119 [==============================] - 7s 63ms/step - loss: 1.0614 - accuracy: 0.7158 - val_loss: 0.9773 - val_accuracy: 0.7335\n",
      "Epoch 10/100\n",
      "119/119 [==============================] - 7s 63ms/step - loss: 1.0446 - accuracy: 0.7192 - val_loss: 0.9526 - val_accuracy: 0.7417\n",
      "Epoch 11/100\n",
      "119/119 [==============================] - 8s 66ms/step - loss: 1.0312 - accuracy: 0.7223 - val_loss: 0.9421 - val_accuracy: 0.7441\n",
      "Epoch 12/100\n",
      "119/119 [==============================] - 8s 65ms/step - loss: 1.0190 - accuracy: 0.7249 - val_loss: 0.9224 - val_accuracy: 0.7496\n",
      "Epoch 13/100\n",
      "119/119 [==============================] - 8s 65ms/step - loss: 1.0074 - accuracy: 0.7276 - val_loss: 0.9110 - val_accuracy: 0.7524\n",
      "Epoch 14/100\n",
      "119/119 [==============================] - 8s 63ms/step - loss: 0.9972 - accuracy: 0.7299 - val_loss: 0.8989 - val_accuracy: 0.7551\n",
      "Epoch 15/100\n",
      "119/119 [==============================] - 8s 65ms/step - loss: 0.9867 - accuracy: 0.7319 - val_loss: 0.8903 - val_accuracy: 0.7576\n",
      "Epoch 16/100\n",
      "119/119 [==============================] - 7s 63ms/step - loss: 0.9779 - accuracy: 0.7336 - val_loss: 0.8830 - val_accuracy: 0.7592\n",
      "Epoch 17/100\n",
      "119/119 [==============================] - 7s 63ms/step - loss: 0.9694 - accuracy: 0.7364 - val_loss: 0.8763 - val_accuracy: 0.7601\n",
      "Epoch 18/100\n",
      "119/119 [==============================] - 8s 63ms/step - loss: 0.9611 - accuracy: 0.7378 - val_loss: 0.8653 - val_accuracy: 0.7636\n",
      "Epoch 19/100\n",
      "119/119 [==============================] - 8s 64ms/step - loss: 0.9549 - accuracy: 0.7394 - val_loss: 0.8596 - val_accuracy: 0.7645\n",
      "Epoch 20/100\n",
      "119/119 [==============================] - 8s 65ms/step - loss: 0.9460 - accuracy: 0.7413 - val_loss: 0.8509 - val_accuracy: 0.7674\n",
      "Epoch 21/100\n",
      "119/119 [==============================] - 8s 64ms/step - loss: 0.9397 - accuracy: 0.7431 - val_loss: 0.8476 - val_accuracy: 0.7669\n",
      "Epoch 22/100\n",
      "119/119 [==============================] - 7s 63ms/step - loss: 0.9325 - accuracy: 0.7443 - val_loss: 0.8409 - val_accuracy: 0.7691\n",
      "Epoch 23/100\n",
      "119/119 [==============================] - 8s 65ms/step - loss: 0.9273 - accuracy: 0.7459 - val_loss: 0.8367 - val_accuracy: 0.7700\n",
      "Epoch 24/100\n",
      "119/119 [==============================] - 8s 64ms/step - loss: 0.9216 - accuracy: 0.7467 - val_loss: 0.8322 - val_accuracy: 0.7712\n",
      "Epoch 25/100\n",
      "119/119 [==============================] - 7s 63ms/step - loss: 0.9153 - accuracy: 0.7488 - val_loss: 0.8271 - val_accuracy: 0.7726\n",
      "Epoch 26/100\n",
      "119/119 [==============================] - 8s 64ms/step - loss: 0.9103 - accuracy: 0.7496 - val_loss: 0.8214 - val_accuracy: 0.7742\n",
      "Epoch 27/100\n",
      "119/119 [==============================] - 8s 64ms/step - loss: 0.9043 - accuracy: 0.7509 - val_loss: 0.8169 - val_accuracy: 0.7749\n",
      "Epoch 28/100\n",
      "119/119 [==============================] - 8s 67ms/step - loss: 0.9001 - accuracy: 0.7524 - val_loss: 0.8128 - val_accuracy: 0.7758\n",
      "Epoch 29/100\n",
      "119/119 [==============================] - 8s 64ms/step - loss: 0.8951 - accuracy: 0.7532 - val_loss: 0.8094 - val_accuracy: 0.7774\n",
      "Epoch 30/100\n",
      "119/119 [==============================] - 8s 63ms/step - loss: 0.8905 - accuracy: 0.7547 - val_loss: 0.8056 - val_accuracy: 0.7783\n",
      "Epoch 31/100\n",
      "119/119 [==============================] - 8s 63ms/step - loss: 0.8879 - accuracy: 0.7547 - val_loss: 0.8029 - val_accuracy: 0.7782\n",
      "Epoch 32/100\n",
      "119/119 [==============================] - 8s 65ms/step - loss: 0.8815 - accuracy: 0.7564 - val_loss: 0.8012 - val_accuracy: 0.7796\n",
      "Epoch 33/100\n",
      "119/119 [==============================] - 8s 63ms/step - loss: 0.8776 - accuracy: 0.7572 - val_loss: 0.7988 - val_accuracy: 0.7795\n",
      "Epoch 34/100\n",
      "119/119 [==============================] - 7s 63ms/step - loss: 0.8721 - accuracy: 0.7587 - val_loss: 0.7954 - val_accuracy: 0.7803\n",
      "Epoch 35/100\n",
      "119/119 [==============================] - 7s 62ms/step - loss: 0.8693 - accuracy: 0.7591 - val_loss: 0.7935 - val_accuracy: 0.7809\n",
      "Epoch 36/100\n",
      "119/119 [==============================] - 9s 74ms/step - loss: 0.8668 - accuracy: 0.7598 - val_loss: 0.7923 - val_accuracy: 0.7813\n",
      "Epoch 37/100\n",
      "119/119 [==============================] - 8s 64ms/step - loss: 0.8619 - accuracy: 0.7610 - val_loss: 0.7874 - val_accuracy: 0.7829\n",
      "Epoch 38/100\n",
      "119/119 [==============================] - 7s 63ms/step - loss: 0.8585 - accuracy: 0.7614 - val_loss: 0.7854 - val_accuracy: 0.7835\n",
      "Epoch 39/100\n",
      "119/119 [==============================] - 7s 62ms/step - loss: 0.8547 - accuracy: 0.7628 - val_loss: 0.7836 - val_accuracy: 0.7839\n",
      "Epoch 40/100\n",
      "119/119 [==============================] - 8s 65ms/step - loss: 0.8507 - accuracy: 0.7637 - val_loss: 0.7810 - val_accuracy: 0.7841\n",
      "Epoch 41/100\n",
      "119/119 [==============================] - 7s 63ms/step - loss: 0.8489 - accuracy: 0.7642 - val_loss: 0.7815 - val_accuracy: 0.7839\n",
      "Epoch 42/100\n",
      "119/119 [==============================] - 7s 63ms/step - loss: 0.8443 - accuracy: 0.7649 - val_loss: 0.7776 - val_accuracy: 0.7850\n",
      "Epoch 43/100\n",
      "119/119 [==============================] - 8s 64ms/step - loss: 0.8409 - accuracy: 0.7657 - val_loss: 0.7769 - val_accuracy: 0.7856\n",
      "Epoch 44/100\n",
      "119/119 [==============================] - 8s 65ms/step - loss: 0.8363 - accuracy: 0.7672 - val_loss: 0.7743 - val_accuracy: 0.7866\n",
      "Epoch 45/100\n",
      "119/119 [==============================] - 8s 64ms/step - loss: 0.8337 - accuracy: 0.7675 - val_loss: 0.7733 - val_accuracy: 0.7867\n",
      "Epoch 46/100\n",
      "119/119 [==============================] - 7s 63ms/step - loss: 0.8322 - accuracy: 0.7679 - val_loss: 0.7728 - val_accuracy: 0.7865\n",
      "Epoch 47/100\n",
      "119/119 [==============================] - 8s 63ms/step - loss: 0.8281 - accuracy: 0.7689 - val_loss: 0.7723 - val_accuracy: 0.7861\n",
      "Epoch 48/100\n",
      "119/119 [==============================] - 7s 63ms/step - loss: 0.8253 - accuracy: 0.7695 - val_loss: 0.7706 - val_accuracy: 0.7875\n",
      "Epoch 49/100\n",
      "119/119 [==============================] - 8s 64ms/step - loss: 0.8217 - accuracy: 0.7703 - val_loss: 0.7688 - val_accuracy: 0.7875\n",
      "Epoch 50/100\n",
      "119/119 [==============================] - 8s 63ms/step - loss: 0.8192 - accuracy: 0.7709 - val_loss: 0.7690 - val_accuracy: 0.7876\n",
      "Epoch 51/100\n",
      "119/119 [==============================] - 8s 65ms/step - loss: 0.8174 - accuracy: 0.7718 - val_loss: 0.7668 - val_accuracy: 0.7881\n",
      "Epoch 52/100\n",
      "119/119 [==============================] - 8s 63ms/step - loss: 0.8133 - accuracy: 0.7724 - val_loss: 0.7663 - val_accuracy: 0.7890\n",
      "Epoch 53/100\n",
      "119/119 [==============================] - 8s 66ms/step - loss: 0.8113 - accuracy: 0.7729 - val_loss: 0.7651 - val_accuracy: 0.7890\n",
      "Epoch 54/100\n",
      "119/119 [==============================] - 7s 63ms/step - loss: 0.8091 - accuracy: 0.7736 - val_loss: 0.7641 - val_accuracy: 0.7890\n",
      "Epoch 55/100\n",
      "119/119 [==============================] - 7s 62ms/step - loss: 0.8069 - accuracy: 0.7737 - val_loss: 0.7633 - val_accuracy: 0.7897\n",
      "Epoch 56/100\n",
      "119/119 [==============================] - 8s 63ms/step - loss: 0.8040 - accuracy: 0.7746 - val_loss: 0.7631 - val_accuracy: 0.7892\n",
      "Epoch 57/100\n",
      "119/119 [==============================] - 8s 66ms/step - loss: 0.8006 - accuracy: 0.7754 - val_loss: 0.7646 - val_accuracy: 0.7895\n",
      "Epoch 58/100\n",
      "119/119 [==============================] - 7s 63ms/step - loss: 0.7994 - accuracy: 0.7754 - val_loss: 0.7614 - val_accuracy: 0.7901\n",
      "Epoch 59/100\n",
      "119/119 [==============================] - 8s 66ms/step - loss: 0.7942 - accuracy: 0.7771 - val_loss: 0.7618 - val_accuracy: 0.7893\n",
      "Epoch 60/100\n",
      "119/119 [==============================] - 8s 64ms/step - loss: 0.7935 - accuracy: 0.7768 - val_loss: 0.7625 - val_accuracy: 0.7899\n",
      "Epoch 61/100\n",
      "119/119 [==============================] - 8s 66ms/step - loss: 0.7919 - accuracy: 0.7772 - val_loss: 0.7604 - val_accuracy: 0.7898\n",
      "Epoch 62/100\n",
      "119/119 [==============================] - 8s 63ms/step - loss: 0.7904 - accuracy: 0.7778 - val_loss: 0.7605 - val_accuracy: 0.7903\n",
      "Epoch 63/100\n",
      "119/119 [==============================] - 8s 64ms/step - loss: 0.7873 - accuracy: 0.7789 - val_loss: 0.7607 - val_accuracy: 0.7900\n",
      "Epoch 64/100\n",
      "119/119 [==============================] - 7s 63ms/step - loss: 0.7844 - accuracy: 0.7791 - val_loss: 0.7587 - val_accuracy: 0.7908\n",
      "Epoch 65/100\n",
      "119/119 [==============================] - 7s 63ms/step - loss: 0.7842 - accuracy: 0.7791 - val_loss: 0.7598 - val_accuracy: 0.7905\n",
      "Epoch 66/100\n",
      "119/119 [==============================] - 8s 65ms/step - loss: 0.7815 - accuracy: 0.7800 - val_loss: 0.7597 - val_accuracy: 0.7909\n",
      "Epoch 67/100\n",
      "119/119 [==============================] - 8s 66ms/step - loss: 0.7772 - accuracy: 0.7807 - val_loss: 0.7593 - val_accuracy: 0.7914\n",
      "Epoch 68/100\n",
      "119/119 [==============================] - 8s 64ms/step - loss: 0.7767 - accuracy: 0.7810 - val_loss: 0.7579 - val_accuracy: 0.7917\n",
      "Epoch 69/100\n",
      "119/119 [==============================] - 8s 63ms/step - loss: 0.7764 - accuracy: 0.7811 - val_loss: 0.7579 - val_accuracy: 0.7916\n",
      "Epoch 70/100\n",
      "119/119 [==============================] - 8s 65ms/step - loss: 0.7726 - accuracy: 0.7820 - val_loss: 0.7579 - val_accuracy: 0.7921\n",
      "Epoch 71/100\n",
      "119/119 [==============================] - 8s 63ms/step - loss: 0.7687 - accuracy: 0.7828 - val_loss: 0.7586 - val_accuracy: 0.7918\n",
      "Epoch 72/100\n",
      "119/119 [==============================] - 8s 63ms/step - loss: 0.7685 - accuracy: 0.7834 - val_loss: 0.7587 - val_accuracy: 0.7914\n",
      "Epoch 73/100\n",
      "119/119 [==============================] - 8s 64ms/step - loss: 0.7688 - accuracy: 0.7829 - val_loss: 0.7560 - val_accuracy: 0.7922\n",
      "Epoch 74/100\n",
      "119/119 [==============================] - 8s 65ms/step - loss: 0.7651 - accuracy: 0.7837 - val_loss: 0.7555 - val_accuracy: 0.7924\n",
      "Epoch 75/100\n",
      "119/119 [==============================] - 8s 66ms/step - loss: 0.7621 - accuracy: 0.7847 - val_loss: 0.7586 - val_accuracy: 0.7916\n",
      "Epoch 76/100\n",
      "119/119 [==============================] - 8s 63ms/step - loss: 0.7616 - accuracy: 0.7847 - val_loss: 0.7564 - val_accuracy: 0.7927\n",
      "Epoch 77/100\n",
      "119/119 [==============================] - 8s 65ms/step - loss: 0.7590 - accuracy: 0.7852 - val_loss: 0.7570 - val_accuracy: 0.7920\n",
      "Epoch 78/100\n",
      "119/119 [==============================] - 8s 63ms/step - loss: 0.7569 - accuracy: 0.7856 - val_loss: 0.7567 - val_accuracy: 0.7923\n",
      "Epoch 79/100\n",
      "119/119 [==============================] - 8s 63ms/step - loss: 0.7566 - accuracy: 0.7860 - val_loss: 0.7579 - val_accuracy: 0.7922\n",
      "Epoch 80/100\n",
      "119/119 [==============================] - 8s 63ms/step - loss: 0.7535 - accuracy: 0.7864 - val_loss: 0.7577 - val_accuracy: 0.7919\n",
      "Epoch 81/100\n",
      "119/119 [==============================] - 7s 63ms/step - loss: 0.7536 - accuracy: 0.7861 - val_loss: 0.7560 - val_accuracy: 0.7923\n",
      "Epoch 82/100\n",
      "119/119 [==============================] - 7s 63ms/step - loss: 0.7511 - accuracy: 0.7868 - val_loss: 0.7574 - val_accuracy: 0.7922\n",
      "Epoch 83/100\n",
      "119/119 [==============================] - 9s 73ms/step - loss: 0.7488 - accuracy: 0.7873 - val_loss: 0.7575 - val_accuracy: 0.7926\n",
      "Epoch 84/100\n",
      "119/119 [==============================] - 7s 62ms/step - loss: 0.7469 - accuracy: 0.7881 - val_loss: 0.7596 - val_accuracy: 0.7921\n",
      "Epoch 85/100\n",
      "119/119 [==============================] - 7s 63ms/step - loss: 0.7439 - accuracy: 0.7889 - val_loss: 0.7585 - val_accuracy: 0.7926\n",
      "Epoch 86/100\n",
      "119/119 [==============================] - 8s 63ms/step - loss: 0.7425 - accuracy: 0.7894 - val_loss: 0.7574 - val_accuracy: 0.7924\n",
      "Epoch 87/100\n",
      "119/119 [==============================] - 8s 63ms/step - loss: 0.7428 - accuracy: 0.7887 - val_loss: 0.7607 - val_accuracy: 0.7919\n",
      "Epoch 88/100\n",
      "119/119 [==============================] - 7s 63ms/step - loss: 0.7397 - accuracy: 0.7899 - val_loss: 0.7590 - val_accuracy: 0.7921\n",
      "Epoch 89/100\n",
      "119/119 [==============================] - 7s 63ms/step - loss: 0.7404 - accuracy: 0.7892 - val_loss: 0.7588 - val_accuracy: 0.7929\n",
      "Epoch 90/100\n",
      "119/119 [==============================] - 8s 65ms/step - loss: 0.7367 - accuracy: 0.7905 - val_loss: 0.7585 - val_accuracy: 0.7927\n",
      "Epoch 91/100\n",
      "119/119 [==============================] - 9s 74ms/step - loss: 0.7359 - accuracy: 0.7902 - val_loss: 0.7608 - val_accuracy: 0.7920\n",
      "Epoch 92/100\n",
      "119/119 [==============================] - 8s 63ms/step - loss: 0.7337 - accuracy: 0.7910 - val_loss: 0.7582 - val_accuracy: 0.7929\n",
      "Epoch 93/100\n",
      "119/119 [==============================] - 8s 63ms/step - loss: 0.7309 - accuracy: 0.7918 - val_loss: 0.7608 - val_accuracy: 0.7927\n",
      "Epoch 94/100\n",
      "119/119 [==============================] - 7s 63ms/step - loss: 0.7303 - accuracy: 0.7919 - val_loss: 0.7600 - val_accuracy: 0.7931\n",
      "Epoch 95/100\n",
      "119/119 [==============================] - 8s 63ms/step - loss: 0.7285 - accuracy: 0.7925 - val_loss: 0.7585 - val_accuracy: 0.7930\n",
      "Epoch 96/100\n",
      "119/119 [==============================] - 7s 63ms/step - loss: 0.7280 - accuracy: 0.7923 - val_loss: 0.7604 - val_accuracy: 0.7934\n",
      "Epoch 97/100\n",
      "119/119 [==============================] - 7s 63ms/step - loss: 0.7272 - accuracy: 0.7927 - val_loss: 0.7606 - val_accuracy: 0.7923\n",
      "Epoch 98/100\n",
      "119/119 [==============================] - 8s 64ms/step - loss: 0.7240 - accuracy: 0.7934 - val_loss: 0.7618 - val_accuracy: 0.7924\n",
      "Epoch 99/100\n",
      "119/119 [==============================] - 8s 67ms/step - loss: 0.7253 - accuracy: 0.7933 - val_loss: 0.7613 - val_accuracy: 0.7934\n",
      "Epoch 100/100\n",
      "119/119 [==============================] - 8s 64ms/step - loss: 0.7206 - accuracy: 0.7943 - val_loss: 0.7595 - val_accuracy: 0.7930\n"
     ]
    },
    {
     "data": {
      "text/plain": [
       "<tensorflow.python.keras.callbacks.History at 0x7f1c8c4b4e50>"
      ]
     },
     "execution_count": 39,
     "metadata": {},
     "output_type": "execute_result"
    }
   ],
   "source": [
    "model.compile(\n",
    "    optimizer=\"rmsprop\", loss=\"categorical_crossentropy\", metrics=[\"accuracy\"]\n",
    ")\n",
    "model.fit(\n",
    "    [encoder_input_data, decoder_input_data],\n",
    "    decoder_target_data,\n",
    "    batch_size=batch_size,\n",
    "    epochs=epochs,\n",
    "    validation_split=0.2,\n",
    ")"
   ]
  },
  {
   "cell_type": "code",
   "execution_count": 40,
   "metadata": {
    "execution": {
     "iopub.execute_input": "2020-10-31T16:02:28.112907Z",
     "iopub.status.busy": "2020-10-31T16:02:28.111706Z",
     "iopub.status.idle": "2020-10-31T16:02:28.172038Z",
     "shell.execute_reply": "2020-10-31T16:02:28.171396Z"
    },
    "papermill": {
     "duration": 5.242433,
     "end_time": "2020-10-31T16:02:28.172178",
     "exception": false,
     "start_time": "2020-10-31T16:02:22.929745",
     "status": "completed"
    },
    "tags": []
   },
   "outputs": [],
   "source": [
    "model.save(\"engtohindi.h5\")"
   ]
  },
  {
   "cell_type": "code",
   "execution_count": 41,
   "metadata": {
    "execution": {
     "iopub.execute_input": "2020-10-31T16:02:38.076889Z",
     "iopub.status.busy": "2020-10-31T16:02:38.075691Z",
     "iopub.status.idle": "2020-10-31T16:02:38.077866Z",
     "shell.execute_reply": "2020-10-31T16:02:38.078439Z"
    },
    "papermill": {
     "duration": 5.125873,
     "end_time": "2020-10-31T16:02:38.078607",
     "exception": false,
     "start_time": "2020-10-31T16:02:32.952734",
     "status": "completed"
    },
    "tags": []
   },
   "outputs": [],
   "source": [
    "import keras"
   ]
  },
  {
   "cell_type": "code",
   "execution_count": 42,
   "metadata": {
    "execution": {
     "iopub.execute_input": "2020-10-31T16:02:48.447539Z",
     "iopub.status.busy": "2020-10-31T16:02:48.440610Z",
     "iopub.status.idle": "2020-10-31T16:02:49.733634Z",
     "shell.execute_reply": "2020-10-31T16:02:49.732502Z"
    },
    "papermill": {
     "duration": 6.438394,
     "end_time": "2020-10-31T16:02:49.733763",
     "exception": false,
     "start_time": "2020-10-31T16:02:43.295369",
     "status": "completed"
    },
    "tags": []
   },
   "outputs": [],
   "source": [
    "model = keras.models.load_model(\"engtohindi.h5\")"
   ]
  },
  {
   "cell_type": "code",
   "execution_count": 43,
   "metadata": {
    "execution": {
     "iopub.execute_input": "2020-10-31T16:03:00.098607Z",
     "iopub.status.busy": "2020-10-31T16:03:00.096212Z",
     "iopub.status.idle": "2020-10-31T16:03:00.109107Z",
     "shell.execute_reply": "2020-10-31T16:03:00.108405Z"
    },
    "papermill": {
     "duration": 5.545801,
     "end_time": "2020-10-31T16:03:00.109254",
     "exception": false,
     "start_time": "2020-10-31T16:02:54.563453",
     "status": "completed"
    },
    "tags": []
   },
   "outputs": [],
   "source": [
    "encoder_inputs = model.input[0]\n",
    "encoder_outputs_1, state_h_enc_1, state_c_enc_1 = model.layers[2].output \n",
    "encoder_outputs, state_h_enc, state_c_enc = model.layers[4].output \n",
    "encoder_states = [state_h_enc_1, state_c_enc_1,state_h_enc, state_c_enc]\n",
    "encoder_model_1 = keras.Model(encoder_inputs, encoder_states)"
   ]
  },
  {
   "cell_type": "code",
   "execution_count": 44,
   "metadata": {
    "execution": {
     "iopub.execute_input": "2020-10-31T16:03:10.939086Z",
     "iopub.status.busy": "2020-10-31T16:03:10.937992Z",
     "iopub.status.idle": "2020-10-31T16:03:11.476998Z",
     "shell.execute_reply": "2020-10-31T16:03:11.476403Z"
    },
    "papermill": {
     "duration": 5.859954,
     "end_time": "2020-10-31T16:03:11.477126",
     "exception": false,
     "start_time": "2020-10-31T16:03:05.617172",
     "status": "completed"
    },
    "tags": []
   },
   "outputs": [],
   "source": [
    "decoder_inputs = model.input[1]  \n",
    "decoder_state_input_h = keras.Input(shape=(latent_dim,), name=\"input_3\")\n",
    "decoder_state_input_c = keras.Input(shape=(latent_dim,), name=\"input_4\")\n",
    "decoder_state_input_h1 = Input(shape=(latent_dim,),name=\"input_5\")\n",
    "decoder_state_input_c1 = Input(shape=(latent_dim,),name=\"input_6\")\n",
    "decoder_states_inputs = [decoder_state_input_h, decoder_state_input_c,decoder_state_input_h1,decoder_state_input_c1]\n",
    "decoder_lstm = model.layers[3]\n",
    "dec_o, state_h, state_c = decoder_lstm(\n",
    "    decoder_inputs, initial_state=decoder_states_inputs[:2])\n",
    "decoder_lstm_1=model.layers[5]\n",
    "dec_o_1, state_h1, state_c1 = decoder_lstm_1(\n",
    "    dec_o, initial_state=decoder_states_inputs[-2:])\n",
    "decoder_states = [state_h,state_c,state_h1,state_c1]\n",
    "decoder_dense = model.layers[6]\n",
    "decoder_outputs = decoder_dense(dec_o_1)\n",
    "decoder_model = keras.Model(\n",
    "    [decoder_inputs] + decoder_states_inputs, [decoder_outputs] + decoder_states\n",
    ")"
   ]
  },
  {
   "cell_type": "code",
   "execution_count": 45,
   "metadata": {
    "execution": {
     "iopub.execute_input": "2020-10-31T16:03:21.900635Z",
     "iopub.status.busy": "2020-10-31T16:03:21.899393Z",
     "iopub.status.idle": "2020-10-31T16:03:21.904769Z",
     "shell.execute_reply": "2020-10-31T16:03:21.904199Z"
    },
    "papermill": {
     "duration": 5.164244,
     "end_time": "2020-10-31T16:03:21.904897",
     "exception": false,
     "start_time": "2020-10-31T16:03:16.740653",
     "status": "completed"
    },
    "tags": []
   },
   "outputs": [],
   "source": [
    "reverse_input_char_index ={}\n",
    "for i in range(len(english_character)):\n",
    "    reverse_input_char_index[i]=english_character[i]\n",
    "reverse_target_char_index ={}\n",
    "for i in range(len(hindi_character)):\n",
    "    reverse_target_char_index[i]=hindi_character[i]"
   ]
  },
  {
   "cell_type": "code",
   "execution_count": 46,
   "metadata": {
    "execution": {
     "iopub.execute_input": "2020-10-31T16:03:31.860318Z",
     "iopub.status.busy": "2020-10-31T16:03:31.858237Z",
     "iopub.status.idle": "2020-10-31T16:03:31.861078Z",
     "shell.execute_reply": "2020-10-31T16:03:31.861640Z"
    },
    "papermill": {
     "duration": 5.076991,
     "end_time": "2020-10-31T16:03:31.861785",
     "exception": false,
     "start_time": "2020-10-31T16:03:26.784794",
     "status": "completed"
    },
    "tags": []
   },
   "outputs": [],
   "source": [
    "def decode_sequence(input_seq):\n",
    "    states_value=encoder_model_1.predict(input_seq)\n",
    "    target_seq = np.zeros((1, 1, len(hindi_character)))\n",
    "    target_seq[0, 0, hindi_d[\"\\t\"]] = 1.0\n",
    "    flag=0\n",
    "    sent=\"\"\n",
    "    while flag==0:\n",
    "        output_tokens, h, c,h1,c1 = decoder_model.predict([target_seq] + states_value)\n",
    "        sample = np.argmax(output_tokens[0, -1, :])\n",
    "        sampled_char = reverse_target_char_index[sample]\n",
    "        sent+=sampled_char\n",
    "        if sampled_char == \"\\n\" or len(sent) > max_decoder_seq_length:\n",
    "            flag=1\n",
    "        target_seq = np.zeros((1, 1, len(hindi_character)))\n",
    "        target_seq[0, 0,sample] = 1.0\n",
    "        states_value = [h, c,h1,c1]\n",
    "    return sent"
   ]
  },
  {
   "cell_type": "code",
   "execution_count": 47,
   "metadata": {
    "execution": {
     "iopub.execute_input": "2020-10-31T16:03:42.073482Z",
     "iopub.status.busy": "2020-10-31T16:03:42.072353Z",
     "iopub.status.idle": "2020-10-31T16:03:42.076093Z",
     "shell.execute_reply": "2020-10-31T16:03:42.076723Z"
    },
    "papermill": {
     "duration": 5.158695,
     "end_time": "2020-10-31T16:03:42.076904",
     "exception": false,
     "start_time": "2020-10-31T16:03:36.918209",
     "status": "completed"
    },
    "tags": []
   },
   "outputs": [
    {
     "data": {
      "text/plain": [
       "'Can you imagine saying that?'"
      ]
     },
     "execution_count": 47,
     "metadata": {},
     "output_type": "execute_result"
    }
   ],
   "source": [
    "english_texts[21]"
   ]
  },
  {
   "cell_type": "code",
   "execution_count": 48,
   "metadata": {
    "execution": {
     "iopub.execute_input": "2020-10-31T16:03:52.451516Z",
     "iopub.status.busy": "2020-10-31T16:03:52.450455Z",
     "iopub.status.idle": "2020-10-31T16:03:52.452742Z",
     "shell.execute_reply": "2020-10-31T16:03:52.453565Z"
    },
    "papermill": {
     "duration": 5.087784,
     "end_time": "2020-10-31T16:03:52.453732",
     "exception": false,
     "start_time": "2020-10-31T16:03:47.365948",
     "status": "completed"
    },
    "tags": []
   },
   "outputs": [],
   "source": [
    "english='Can you imagine saying that?'"
   ]
  },
  {
   "cell_type": "code",
   "execution_count": 49,
   "metadata": {
    "execution": {
     "iopub.execute_input": "2020-10-31T16:04:02.683442Z",
     "iopub.status.busy": "2020-10-31T16:04:02.682146Z",
     "iopub.status.idle": "2020-10-31T16:04:02.685820Z",
     "shell.execute_reply": "2020-10-31T16:04:02.685120Z"
    },
    "papermill": {
     "duration": 5.364647,
     "end_time": "2020-10-31T16:04:02.685961",
     "exception": false,
     "start_time": "2020-10-31T16:03:57.321314",
     "status": "completed"
    },
    "tags": []
   },
   "outputs": [],
   "source": [
    "k=len(english)\n",
    "m=0\n",
    "a=[]\n",
    "b=[]\n",
    "c=[]\n",
    "inpu=[]\n",
    "while m<k:\n",
    "    for char in english[m]:\n",
    "        for i in range(len(english_character)):\n",
    "            if english_d[char]==i:\n",
    "                a.append(1)\n",
    "            else:\n",
    "                a.append(0)\n",
    "    for kp in a:\n",
    "        b.append(kp)\n",
    "    c.append(b)\n",
    "    b=[]\n",
    "    a=[]\n",
    "    m=m+1\n",
    "while m<max_encoder_seq_length:\n",
    "        for i in range(len(english_character)):\n",
    "            if i==0:\n",
    "                a.append(1)\n",
    "            else:\n",
    "                a.append(0)\n",
    "        for kp in a:\n",
    "            b.append(kp)\n",
    "        c.append(b)\n",
    "        b=[]\n",
    "        a=[]\n",
    "        m=m+1\n",
    "inpu.append(c)"
   ]
  },
  {
   "cell_type": "code",
   "execution_count": 50,
   "metadata": {
    "execution": {
     "iopub.execute_input": "2020-10-31T16:04:13.203241Z",
     "iopub.status.busy": "2020-10-31T16:04:13.202107Z",
     "iopub.status.idle": "2020-10-31T16:04:13.205920Z",
     "shell.execute_reply": "2020-10-31T16:04:13.206752Z"
    },
    "papermill": {
     "duration": 4.850575,
     "end_time": "2020-10-31T16:04:13.207047",
     "exception": false,
     "start_time": "2020-10-31T16:04:08.356472",
     "status": "completed"
    },
    "tags": []
   },
   "outputs": [],
   "source": [
    "inpu=np.array(inpu)"
   ]
  },
  {
   "cell_type": "code",
   "execution_count": 51,
   "metadata": {
    "execution": {
     "iopub.execute_input": "2020-10-31T16:04:23.588417Z",
     "iopub.status.busy": "2020-10-31T16:04:23.587680Z",
     "iopub.status.idle": "2020-10-31T16:04:27.525411Z",
     "shell.execute_reply": "2020-10-31T16:04:27.524262Z"
    },
    "papermill": {
     "duration": 8.744374,
     "end_time": "2020-10-31T16:04:27.525547",
     "exception": false,
     "start_time": "2020-10-31T16:04:18.781173",
     "status": "completed"
    },
    "tags": []
   },
   "outputs": [],
   "source": [
    "d=decode_sequence(inpu)"
   ]
  },
  {
   "cell_type": "code",
   "execution_count": 52,
   "metadata": {
    "execution": {
     "iopub.execute_input": "2020-10-31T16:04:37.443996Z",
     "iopub.status.busy": "2020-10-31T16:04:37.442355Z",
     "iopub.status.idle": "2020-10-31T16:04:37.448473Z",
     "shell.execute_reply": "2020-10-31T16:04:37.447618Z"
    },
    "papermill": {
     "duration": 5.073896,
     "end_time": "2020-10-31T16:04:37.448626",
     "exception": false,
     "start_time": "2020-10-31T16:04:32.374730",
     "status": "completed"
    },
    "tags": []
   },
   "outputs": [
    {
     "name": "stdout",
     "output_type": "stream",
     "text": [
      "क्या आप अपने साथ के साथ कर सकते हैं ?\n",
      "\n"
     ]
    }
   ],
   "source": [
    "print(d)"
   ]
  }
 ],
 "metadata": {
  "kernelspec": {
   "display_name": "Python 3",
   "language": "python",
   "name": "python3"
  },
  "language_info": {
   "codemirror_mode": {
    "name": "ipython",
    "version": 3
   },
   "file_extension": ".py",
   "mimetype": "text/x-python",
   "name": "python",
   "nbconvert_exporter": "python",
   "pygments_lexer": "ipython3",
   "version": "3.7.6"
  },
  "papermill": {
   "duration": 1214.658983,
   "end_time": "2020-10-31T16:04:43.621605",
   "environment_variables": {},
   "exception": null,
   "input_path": "__notebook__.ipynb",
   "output_path": "__notebook__.ipynb",
   "parameters": {},
   "start_time": "2020-10-31T15:44:28.962622",
   "version": "2.1.0"
  }
 },
 "nbformat": 4,
 "nbformat_minor": 4
}
